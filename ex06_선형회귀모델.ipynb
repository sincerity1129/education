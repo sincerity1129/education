{
 "cells": [
  {
   "cell_type": "code",
   "execution_count": 1,
   "metadata": {},
   "outputs": [],
   "source": [
    "import numpy as np\n",
    "import pandas as pd\n",
    "import matplotlib.pyplot as plt"
   ]
  },
  {
   "cell_type": "code",
   "execution_count": 2,
   "metadata": {},
   "outputs": [
    {
     "data": {
      "text/html": [
       "<div>\n",
       "<style scoped>\n",
       "    .dataframe tbody tr th:only-of-type {\n",
       "        vertical-align: middle;\n",
       "    }\n",
       "\n",
       "    .dataframe tbody tr th {\n",
       "        vertical-align: top;\n",
       "    }\n",
       "\n",
       "    .dataframe thead th {\n",
       "        text-align: right;\n",
       "    }\n",
       "</style>\n",
       "<table border=\"1\" class=\"dataframe\">\n",
       "  <thead>\n",
       "    <tr style=\"text-align: right;\">\n",
       "      <th></th>\n",
       "      <th>시간</th>\n",
       "      <th>성적</th>\n",
       "    </tr>\n",
       "  </thead>\n",
       "  <tbody>\n",
       "    <tr>\n",
       "      <th>해도</th>\n",
       "      <td>2</td>\n",
       "      <td>20</td>\n",
       "    </tr>\n",
       "    <tr>\n",
       "      <th>병관</th>\n",
       "      <td>4</td>\n",
       "      <td>40</td>\n",
       "    </tr>\n",
       "    <tr>\n",
       "      <th>기성</th>\n",
       "      <td>8</td>\n",
       "      <td>80</td>\n",
       "    </tr>\n",
       "    <tr>\n",
       "      <th>동원</th>\n",
       "      <td>9</td>\n",
       "      <td>90</td>\n",
       "    </tr>\n",
       "  </tbody>\n",
       "</table>\n",
       "</div>"
      ],
      "text/plain": [
       "    시간  성적\n",
       "해도   2  20\n",
       "병관   4  40\n",
       "기성   8  80\n",
       "동원   9  90"
      ]
     },
     "execution_count": 2,
     "metadata": {},
     "output_type": "execute_result"
    }
   ],
   "source": [
    "data = pd.DataFrame([[2,20],[4,40],[8,80],[9,90]],\n",
    "                   index=['해도','병관','기성','동원'],\n",
    "                   columns=['시간','성적'])\n",
    "data"
   ]
  },
  {
   "cell_type": "markdown",
   "metadata": {},
   "source": [
    "# 2. 수학 공식을 이용한 해석적 모델\n",
    "- LinearRegression"
   ]
  },
  {
   "cell_type": "code",
   "execution_count": 3,
   "metadata": {},
   "outputs": [],
   "source": [
    "from sklearn.linear_model import LinearRegression"
   ]
  },
  {
   "cell_type": "code",
   "execution_count": 4,
   "metadata": {},
   "outputs": [
    {
     "data": {
      "text/plain": [
       "LinearRegression()"
      ]
     },
     "execution_count": 4,
     "metadata": {},
     "output_type": "execute_result"
    }
   ],
   "source": [
    "linear_model = LinearRegression()\n",
    "linear_model.fit(data[['시간']],data['성적'])"
   ]
  },
  {
   "cell_type": "code",
   "execution_count": 5,
   "metadata": {},
   "outputs": [
    {
     "name": "stdout",
     "output_type": "stream",
     "text": [
      "가중치 :  [10.]\n",
      "절편 :  7.105427357601002e-15\n"
     ]
    }
   ],
   "source": [
    "print('가중치 : ', linear_model.coef_)\n",
    "print('절편 : ', linear_model.intercept_)"
   ]
  },
  {
   "cell_type": "code",
   "execution_count": 6,
   "metadata": {},
   "outputs": [
    {
     "data": {
      "text/plain": [
       "array([70.])"
      ]
     },
     "execution_count": 6,
     "metadata": {},
     "output_type": "execute_result"
    }
   ],
   "source": [
    "linear_model.predict([[7]])"
   ]
  },
  {
   "cell_type": "markdown",
   "metadata": {},
   "source": [
    "# 3. 경사하강법\n",
    "- 가중치의 변화에 따른 비용함수 값의 변화 그래프"
   ]
  },
  {
   "cell_type": "markdown",
   "metadata": {},
   "source": [
    "# 3.1 H(x)\n",
    "- 예측함수\n",
    "- H(x) = w * x + 0"
   ]
  },
  {
   "cell_type": "code",
   "execution_count": 7,
   "metadata": {},
   "outputs": [],
   "source": [
    "def h(w , x):\n",
    "    return w * x"
   ]
  },
  {
   "cell_type": "markdown",
   "metadata": {},
   "source": [
    "# 3.2  비용 함수(Cost function)\n",
    "- 평균제곱오차"
   ]
  },
  {
   "cell_type": "code",
   "execution_count": 8,
   "metadata": {},
   "outputs": [],
   "source": [
    "# data : 예측에 활용하는 데이터\n",
    "# target : 실제 데이터(정답)\n",
    "# weight : 가중치\n",
    "def cost(data, target, weight) :\n",
    "    y_pre = h(weight, data)\n",
    "    return ((y_pre - target) ** 2).mean()"
   ]
  },
  {
   "cell_type": "code",
   "execution_count": 9,
   "metadata": {},
   "outputs": [
    {
     "data": {
      "text/plain": [
       "0.0"
      ]
     },
     "execution_count": 9,
     "metadata": {},
     "output_type": "execute_result"
    }
   ],
   "source": [
    "cost(data['시간'], data['성적'], 10)"
   ]
  },
  {
   "cell_type": "code",
   "execution_count": 10,
   "metadata": {
    "collapsed": true
   },
   "outputs": [
    {
     "name": "stdout",
     "output_type": "stream",
     "text": [
      "-100일 때 가중치 : 499125.0\n",
      "-99일 때 가중치 : 490091.25\n",
      "-98일 때 가중치 : 481140.0\n",
      "-97일 때 가중치 : 472271.25\n",
      "-96일 때 가중치 : 463485.0\n",
      "-95일 때 가중치 : 454781.25\n",
      "-94일 때 가중치 : 446160.0\n",
      "-93일 때 가중치 : 437621.25\n",
      "-92일 때 가중치 : 429165.0\n",
      "-91일 때 가중치 : 420791.25\n",
      "-90일 때 가중치 : 412500.0\n",
      "-89일 때 가중치 : 404291.25\n",
      "-88일 때 가중치 : 396165.0\n",
      "-87일 때 가중치 : 388121.25\n",
      "-86일 때 가중치 : 380160.0\n",
      "-85일 때 가중치 : 372281.25\n",
      "-84일 때 가중치 : 364485.0\n",
      "-83일 때 가중치 : 356771.25\n",
      "-82일 때 가중치 : 349140.0\n",
      "-81일 때 가중치 : 341591.25\n",
      "-80일 때 가중치 : 334125.0\n",
      "-79일 때 가중치 : 326741.25\n",
      "-78일 때 가중치 : 319440.0\n",
      "-77일 때 가중치 : 312221.25\n",
      "-76일 때 가중치 : 305085.0\n",
      "-75일 때 가중치 : 298031.25\n",
      "-74일 때 가중치 : 291060.0\n",
      "-73일 때 가중치 : 284171.25\n",
      "-72일 때 가중치 : 277365.0\n",
      "-71일 때 가중치 : 270641.25\n",
      "-70일 때 가중치 : 264000.0\n",
      "-69일 때 가중치 : 257441.25\n",
      "-68일 때 가중치 : 250965.0\n",
      "-67일 때 가중치 : 244571.25\n",
      "-66일 때 가중치 : 238260.0\n",
      "-65일 때 가중치 : 232031.25\n",
      "-64일 때 가중치 : 225885.0\n",
      "-63일 때 가중치 : 219821.25\n",
      "-62일 때 가중치 : 213840.0\n",
      "-61일 때 가중치 : 207941.25\n",
      "-60일 때 가중치 : 202125.0\n",
      "-59일 때 가중치 : 196391.25\n",
      "-58일 때 가중치 : 190740.0\n",
      "-57일 때 가중치 : 185171.25\n",
      "-56일 때 가중치 : 179685.0\n",
      "-55일 때 가중치 : 174281.25\n",
      "-54일 때 가중치 : 168960.0\n",
      "-53일 때 가중치 : 163721.25\n",
      "-52일 때 가중치 : 158565.0\n",
      "-51일 때 가중치 : 153491.25\n",
      "-50일 때 가중치 : 148500.0\n",
      "-49일 때 가중치 : 143591.25\n",
      "-48일 때 가중치 : 138765.0\n",
      "-47일 때 가중치 : 134021.25\n",
      "-46일 때 가중치 : 129360.0\n",
      "-45일 때 가중치 : 124781.25\n",
      "-44일 때 가중치 : 120285.0\n",
      "-43일 때 가중치 : 115871.25\n",
      "-42일 때 가중치 : 111540.0\n",
      "-41일 때 가중치 : 107291.25\n",
      "-40일 때 가중치 : 103125.0\n",
      "-39일 때 가중치 : 99041.25\n",
      "-38일 때 가중치 : 95040.0\n",
      "-37일 때 가중치 : 91121.25\n",
      "-36일 때 가중치 : 87285.0\n",
      "-35일 때 가중치 : 83531.25\n",
      "-34일 때 가중치 : 79860.0\n",
      "-33일 때 가중치 : 76271.25\n",
      "-32일 때 가중치 : 72765.0\n",
      "-31일 때 가중치 : 69341.25\n",
      "-30일 때 가중치 : 66000.0\n",
      "-29일 때 가중치 : 62741.25\n",
      "-28일 때 가중치 : 59565.0\n",
      "-27일 때 가중치 : 56471.25\n",
      "-26일 때 가중치 : 53460.0\n",
      "-25일 때 가중치 : 50531.25\n",
      "-24일 때 가중치 : 47685.0\n",
      "-23일 때 가중치 : 44921.25\n",
      "-22일 때 가중치 : 42240.0\n",
      "-21일 때 가중치 : 39641.25\n",
      "-20일 때 가중치 : 37125.0\n",
      "-19일 때 가중치 : 34691.25\n",
      "-18일 때 가중치 : 32340.0\n",
      "-17일 때 가중치 : 30071.25\n",
      "-16일 때 가중치 : 27885.0\n",
      "-15일 때 가중치 : 25781.25\n",
      "-14일 때 가중치 : 23760.0\n",
      "-13일 때 가중치 : 21821.25\n",
      "-12일 때 가중치 : 19965.0\n",
      "-11일 때 가중치 : 18191.25\n",
      "-10일 때 가중치 : 16500.0\n",
      "-9일 때 가중치 : 14891.25\n",
      "-8일 때 가중치 : 13365.0\n",
      "-7일 때 가중치 : 11921.25\n",
      "-6일 때 가중치 : 10560.0\n",
      "-5일 때 가중치 : 9281.25\n",
      "-4일 때 가중치 : 8085.0\n",
      "-3일 때 가중치 : 6971.25\n",
      "-2일 때 가중치 : 5940.0\n",
      "-1일 때 가중치 : 4991.25\n",
      "0일 때 가중치 : 4125.0\n",
      "1일 때 가중치 : 3341.25\n",
      "2일 때 가중치 : 2640.0\n",
      "3일 때 가중치 : 2021.25\n",
      "4일 때 가중치 : 1485.0\n",
      "5일 때 가중치 : 1031.25\n",
      "6일 때 가중치 : 660.0\n",
      "7일 때 가중치 : 371.25\n",
      "8일 때 가중치 : 165.0\n",
      "9일 때 가중치 : 41.25\n",
      "10일 때 가중치 : 0.0\n",
      "11일 때 가중치 : 41.25\n",
      "12일 때 가중치 : 165.0\n",
      "13일 때 가중치 : 371.25\n",
      "14일 때 가중치 : 660.0\n",
      "15일 때 가중치 : 1031.25\n",
      "16일 때 가중치 : 1485.0\n",
      "17일 때 가중치 : 2021.25\n",
      "18일 때 가중치 : 2640.0\n",
      "19일 때 가중치 : 3341.25\n",
      "20일 때 가중치 : 4125.0\n",
      "21일 때 가중치 : 4991.25\n",
      "22일 때 가중치 : 5940.0\n",
      "23일 때 가중치 : 6971.25\n",
      "24일 때 가중치 : 8085.0\n",
      "25일 때 가중치 : 9281.25\n",
      "26일 때 가중치 : 10560.0\n",
      "27일 때 가중치 : 11921.25\n",
      "28일 때 가중치 : 13365.0\n",
      "29일 때 가중치 : 14891.25\n",
      "30일 때 가중치 : 16500.0\n",
      "31일 때 가중치 : 18191.25\n",
      "32일 때 가중치 : 19965.0\n",
      "33일 때 가중치 : 21821.25\n",
      "34일 때 가중치 : 23760.0\n",
      "35일 때 가중치 : 25781.25\n",
      "36일 때 가중치 : 27885.0\n",
      "37일 때 가중치 : 30071.25\n",
      "38일 때 가중치 : 32340.0\n",
      "39일 때 가중치 : 34691.25\n",
      "40일 때 가중치 : 37125.0\n",
      "41일 때 가중치 : 39641.25\n",
      "42일 때 가중치 : 42240.0\n",
      "43일 때 가중치 : 44921.25\n",
      "44일 때 가중치 : 47685.0\n",
      "45일 때 가중치 : 50531.25\n",
      "46일 때 가중치 : 53460.0\n",
      "47일 때 가중치 : 56471.25\n",
      "48일 때 가중치 : 59565.0\n",
      "49일 때 가중치 : 62741.25\n",
      "50일 때 가중치 : 66000.0\n",
      "51일 때 가중치 : 69341.25\n",
      "52일 때 가중치 : 72765.0\n",
      "53일 때 가중치 : 76271.25\n",
      "54일 때 가중치 : 79860.0\n",
      "55일 때 가중치 : 83531.25\n",
      "56일 때 가중치 : 87285.0\n",
      "57일 때 가중치 : 91121.25\n",
      "58일 때 가중치 : 95040.0\n",
      "59일 때 가중치 : 99041.25\n",
      "60일 때 가중치 : 103125.0\n",
      "61일 때 가중치 : 107291.25\n",
      "62일 때 가중치 : 111540.0\n",
      "63일 때 가중치 : 115871.25\n",
      "64일 때 가중치 : 120285.0\n",
      "65일 때 가중치 : 124781.25\n",
      "66일 때 가중치 : 129360.0\n",
      "67일 때 가중치 : 134021.25\n",
      "68일 때 가중치 : 138765.0\n",
      "69일 때 가중치 : 143591.25\n",
      "70일 때 가중치 : 148500.0\n",
      "71일 때 가중치 : 153491.25\n",
      "72일 때 가중치 : 158565.0\n",
      "73일 때 가중치 : 163721.25\n",
      "74일 때 가중치 : 168960.0\n",
      "75일 때 가중치 : 174281.25\n",
      "76일 때 가중치 : 179685.0\n",
      "77일 때 가중치 : 185171.25\n",
      "78일 때 가중치 : 190740.0\n",
      "79일 때 가중치 : 196391.25\n",
      "80일 때 가중치 : 202125.0\n",
      "81일 때 가중치 : 207941.25\n",
      "82일 때 가중치 : 213840.0\n",
      "83일 때 가중치 : 219821.25\n",
      "84일 때 가중치 : 225885.0\n",
      "85일 때 가중치 : 232031.25\n",
      "86일 때 가중치 : 238260.0\n",
      "87일 때 가중치 : 244571.25\n",
      "88일 때 가중치 : 250965.0\n",
      "89일 때 가중치 : 257441.25\n",
      "90일 때 가중치 : 264000.0\n",
      "91일 때 가중치 : 270641.25\n",
      "92일 때 가중치 : 277365.0\n",
      "93일 때 가중치 : 284171.25\n",
      "94일 때 가중치 : 291060.0\n",
      "95일 때 가중치 : 298031.25\n",
      "96일 때 가중치 : 305085.0\n",
      "97일 때 가중치 : 312221.25\n",
      "98일 때 가중치 : 319440.0\n",
      "99일 때 가중치 : 326741.25\n"
     ]
    }
   ],
   "source": [
    "for m in range(-100, 100) :\n",
    "    result = cost(data['시간'], data['성적'], m)\n",
    "    print('{}일 때 가중치 : {}'.format(m, result))"
   ]
  },
  {
   "cell_type": "code",
   "execution_count": 11,
   "metadata": {
    "collapsed": true
   },
   "outputs": [
    {
     "data": {
      "image/png": "[encoded data removed]",
      "text/plain": [
       "<Figure size 432x288 with 1 Axes>"
      ]
     },
     "metadata": {
      "needs_background": "light"
     },
     "output_type": "display_data"
    }
   ],
   "source": [
    "arr = range(-50, 100)\n",
    "\n",
    "cost_list = []\n",
    "for m in arr :\n",
    "    result = cost(data['시간'], data['성적'], m)\n",
    "    cost_list.append(result)\n",
    "    \n",
    "plt.plot(arr, cost_list)\n",
    "plt.show()"
   ]
  },
  {
   "cell_type": "markdown",
   "metadata": {},
   "source": [
    "# SGDRegressor\n",
    "- 경사하강법을 활용한 모델"
   ]
  },
  {
   "cell_type": "code",
   "execution_count": 12,
   "metadata": {},
   "outputs": [],
   "source": [
    "from sklearn.linear_model import SGDRegressor"
   ]
  },
  {
   "cell_type": "code",
   "execution_count": 13,
   "metadata": {
    "collapsed": true
   },
   "outputs": [
    {
     "name": "stdout",
     "output_type": "stream",
     "text": [
      "-- Epoch 1\n",
      "Norm: 9.15, NNZs: 1, Bias: 1.045654, T: 4, Avg. loss: 1039.046142\n",
      "Total training time: 0.00 seconds.\n",
      "-- Epoch 2\n",
      "Norm: 9.67, NNZs: 1, Bias: 1.116144, T: 8, Avg. loss: 5.939994\n",
      "Total training time: 0.00 seconds.\n",
      "-- Epoch 3\n",
      "Norm: 9.79, NNZs: 1, Bias: 1.126163, T: 12, Avg. loss: 0.559193\n",
      "Total training time: 0.00 seconds.\n",
      "-- Epoch 4\n",
      "Norm: 9.83, NNZs: 1, Bias: 1.128052, T: 16, Avg. loss: 0.181537\n",
      "Total training time: 0.00 seconds.\n",
      "-- Epoch 5\n",
      "Norm: 9.83, NNZs: 1, Bias: 1.123993, T: 20, Avg. loss: 0.138113\n",
      "Total training time: 0.00 seconds.\n",
      "-- Epoch 6\n",
      "Norm: 9.85, NNZs: 1, Bias: 1.121349, T: 24, Avg. loss: 0.137728\n",
      "Total training time: 0.00 seconds.\n",
      "-- Epoch 7\n",
      "Norm: 9.84, NNZs: 1, Bias: 1.116878, T: 28, Avg. loss: 0.131042\n",
      "Total training time: 0.00 seconds.\n",
      "-- Epoch 8\n",
      "Norm: 9.85, NNZs: 1, Bias: 1.114147, T: 32, Avg. loss: 0.131149\n",
      "Total training time: 0.00 seconds.\n",
      "-- Epoch 9\n",
      "Norm: 9.84, NNZs: 1, Bias: 1.109630, T: 36, Avg. loss: 0.127886\n",
      "Total training time: 0.00 seconds.\n",
      "-- Epoch 10\n",
      "Norm: 9.85, NNZs: 1, Bias: 1.106758, T: 40, Avg. loss: 0.130492\n",
      "Total training time: 0.00 seconds.\n",
      "-- Epoch 11\n",
      "Norm: 9.85, NNZs: 1, Bias: 1.102726, T: 44, Avg. loss: 0.126835\n",
      "Total training time: 0.00 seconds.\n",
      "-- Epoch 12\n",
      "Norm: 9.85, NNZs: 1, Bias: 1.100146, T: 48, Avg. loss: 0.127010\n",
      "Total training time: 0.00 seconds.\n",
      "-- Epoch 13\n",
      "Norm: 9.85, NNZs: 1, Bias: 1.096138, T: 52, Avg. loss: 0.124483\n",
      "Total training time: 0.00 seconds.\n",
      "-- Epoch 14\n",
      "Norm: 9.85, NNZs: 1, Bias: 1.093475, T: 56, Avg. loss: 0.126489\n",
      "Total training time: 0.00 seconds.\n",
      "-- Epoch 15\n",
      "Norm: 9.85, NNZs: 1, Bias: 1.089833, T: 60, Avg. loss: 0.123528\n",
      "Total training time: 0.00 seconds.\n",
      "-- Epoch 16\n",
      "Norm: 9.85, NNZs: 1, Bias: 1.087417, T: 64, Avg. loss: 0.123642\n",
      "Total training time: 0.00 seconds.\n",
      "-- Epoch 17\n",
      "Norm: 9.85, NNZs: 1, Bias: 1.083766, T: 68, Avg. loss: 0.121486\n",
      "Total training time: 0.00 seconds.\n",
      "-- Epoch 18\n",
      "Norm: 9.85, NNZs: 1, Bias: 1.081267, T: 72, Avg. loss: 0.123129\n",
      "Total training time: 0.00 seconds.\n",
      "-- Epoch 19\n",
      "Norm: 9.85, NNZs: 1, Bias: 1.077904, T: 76, Avg. loss: 0.120586\n",
      "Total training time: 0.00 seconds.\n",
      "-- Epoch 20\n",
      "Norm: 9.85, NNZs: 1, Bias: 1.075617, T: 80, Avg. loss: 0.120659\n",
      "Total training time: 0.00 seconds.\n",
      "-- Epoch 21\n",
      "Norm: 9.85, NNZs: 1, Bias: 1.072228, T: 84, Avg. loss: 0.118755\n",
      "Total training time: 0.00 seconds.\n",
      "-- Epoch 22\n",
      "Norm: 9.85, NNZs: 1, Bias: 1.069858, T: 88, Avg. loss: 0.120151\n",
      "Total training time: 0.00 seconds.\n",
      "-- Epoch 23\n",
      "Norm: 9.85, NNZs: 1, Bias: 1.066708, T: 92, Avg. loss: 0.117900\n",
      "Total training time: 0.00 seconds.\n",
      "-- Epoch 24\n",
      "Norm: 9.86, NNZs: 1, Bias: 1.064525, T: 96, Avg. loss: 0.117944\n",
      "Total training time: 0.00 seconds.\n",
      "-- Epoch 25\n",
      "Norm: 9.85, NNZs: 1, Bias: 1.061342, T: 100, Avg. loss: 0.116226\n",
      "Total training time: 0.00 seconds.\n",
      "-- Epoch 26\n",
      "Norm: 9.85, NNZs: 1, Bias: 1.059077, T: 104, Avg. loss: 0.117442\n",
      "Total training time: 0.00 seconds.\n",
      "-- Epoch 27\n",
      "Norm: 9.85, NNZs: 1, Bias: 1.056100, T: 108, Avg. loss: 0.115411\n",
      "Total training time: 0.00 seconds.\n",
      "-- Epoch 28\n",
      "Norm: 9.86, NNZs: 1, Bias: 1.054003, T: 112, Avg. loss: 0.115433\n",
      "Total training time: 0.00 seconds.\n",
      "-- Epoch 29\n",
      "Norm: 9.85, NNZs: 1, Bias: 1.050988, T: 116, Avg. loss: 0.113862\n",
      "Total training time: 0.00 seconds.\n",
      "-- Epoch 30\n",
      "Norm: 9.86, NNZs: 1, Bias: 1.048813, T: 120, Avg. loss: 0.114938\n",
      "Total training time: 0.00 seconds.\n",
      "-- Epoch 31\n",
      "Norm: 9.85, NNZs: 1, Bias: 1.045978, T: 124, Avg. loss: 0.113080\n",
      "Total training time: 0.00 seconds.\n",
      "-- Epoch 32\n",
      "Norm: 9.86, NNZs: 1, Bias: 1.043956, T: 128, Avg. loss: 0.113086\n",
      "Total training time: 0.00 seconds.\n",
      "-- Epoch 33\n",
      "Norm: 9.85, NNZs: 1, Bias: 1.041082, T: 132, Avg. loss: 0.111633\n",
      "Total training time: 0.00 seconds.\n",
      "-- Epoch 34\n",
      "Norm: 9.86, NNZs: 1, Bias: 1.038984, T: 136, Avg. loss: 0.112599\n",
      "Total training time: 0.00 seconds.\n",
      "-- Epoch 35\n",
      "Norm: 9.86, NNZs: 1, Bias: 1.036271, T: 140, Avg. loss: 0.110882\n",
      "Total training time: 0.00 seconds.\n",
      "-- Epoch 36\n",
      "Norm: 9.86, NNZs: 1, Bias: 1.034315, T: 144, Avg. loss: 0.110876\n",
      "Total training time: 0.00 seconds.\n",
      "-- Epoch 37\n",
      "Norm: 9.86, NNZs: 1, Bias: 1.031562, T: 148, Avg. loss: 0.109521\n",
      "Total training time: 0.00 seconds.\n",
      "-- Epoch 38\n",
      "Norm: 9.86, NNZs: 1, Bias: 1.029533, T: 152, Avg. loss: 0.110397\n",
      "Total training time: 0.00 seconds.\n",
      "-- Epoch 39\n",
      "Norm: 9.86, NNZs: 1, Bias: 1.026926, T: 156, Avg. loss: 0.108797\n",
      "Total training time: 0.00 seconds.\n",
      "-- Epoch 40\n",
      "Norm: 9.86, NNZs: 1, Bias: 1.025028, T: 160, Avg. loss: 0.108781\n",
      "Total training time: 0.00 seconds.\n",
      "-- Epoch 41\n",
      "Norm: 9.86, NNZs: 1, Bias: 1.022380, T: 164, Avg. loss: 0.107510\n",
      "Total training time: 0.00 seconds.\n",
      "-- Epoch 42\n",
      "Norm: 9.86, NNZs: 1, Bias: 1.020413, T: 168, Avg. loss: 0.108310\n",
      "Total training time: 0.00 seconds.\n",
      "-- Epoch 43\n",
      "Norm: 9.86, NNZs: 1, Bias: 1.017899, T: 172, Avg. loss: 0.106811\n",
      "Total training time: 0.00 seconds.\n",
      "-- Epoch 44\n",
      "Norm: 9.86, NNZs: 1, Bias: 1.016055, T: 176, Avg. loss: 0.106786\n",
      "Total training time: 0.00 seconds.\n",
      "-- Epoch 45\n",
      "Norm: 9.86, NNZs: 1, Bias: 1.013500, T: 180, Avg. loss: 0.105588\n",
      "Total training time: 0.00 seconds.\n",
      "-- Epoch 46\n",
      "Norm: 9.86, NNZs: 1, Bias: 1.011588, T: 184, Avg. loss: 0.106324\n",
      "Total training time: 0.00 seconds.\n",
      "-- Epoch 47\n",
      "Norm: 9.86, NNZs: 1, Bias: 1.009158, T: 188, Avg. loss: 0.104912\n",
      "Total training time: 0.00 seconds.\n",
      "-- Epoch 48\n",
      "Norm: 9.86, NNZs: 1, Bias: 1.007362, T: 192, Avg. loss: 0.104881\n",
      "Total training time: 0.00 seconds.\n",
      "-- Epoch 49\n",
      "Norm: 9.86, NNZs: 1, Bias: 1.004891, T: 196, Avg. loss: 0.103746\n",
      "Total training time: 0.00 seconds.\n",
      "-- Epoch 50\n",
      "Norm: 9.86, NNZs: 1, Bias: 1.003029, T: 200, Avg. loss: 0.104427\n",
      "Total training time: 0.00 seconds.\n",
      "-- Epoch 51\n",
      "Norm: 9.86, NNZs: 1, Bias: 1.000675, T: 204, Avg. loss: 0.103091\n",
      "Total training time: 0.00 seconds.\n",
      "-- Epoch 52\n",
      "Norm: 9.86, NNZs: 1, Bias: 0.998923, T: 208, Avg. loss: 0.103054\n",
      "Total training time: 0.00 seconds.\n",
      "-- Epoch 53\n",
      "Norm: 9.86, NNZs: 1, Bias: 0.996528, T: 212, Avg. loss: 0.101976\n",
      "Total training time: 0.00 seconds.\n",
      "-- Epoch 54\n",
      "Norm: 9.86, NNZs: 1, Bias: 0.994712, T: 216, Avg. loss: 0.102609\n",
      "Total training time: 0.00 seconds.\n",
      "-- Epoch 55\n",
      "Norm: 9.86, NNZs: 1, Bias: 0.992426, T: 220, Avg. loss: 0.101341\n",
      "Total training time: 0.00 seconds.\n",
      "-- Epoch 56\n",
      "Norm: 9.86, NNZs: 1, Bias: 0.990715, T: 224, Avg. loss: 0.101299\n",
      "Total training time: 0.00 seconds.\n",
      "-- Epoch 57\n",
      "Norm: 9.86, NNZs: 1, Bias: 0.988390, T: 228, Avg. loss: 0.100272\n",
      "Total training time: 0.00 seconds.\n",
      "-- Epoch 58\n",
      "Norm: 9.86, NNZs: 1, Bias: 0.986617, T: 232, Avg. loss: 0.100862\n",
      "Total training time: 0.00 seconds.\n",
      "-- Epoch 59\n",
      "Norm: 9.86, NNZs: 1, Bias: 0.984394, T: 236, Avg. loss: 0.099655\n",
      "Total training time: 0.00 seconds.\n",
      "-- Epoch 60\n",
      "Norm: 9.87, NNZs: 1, Bias: 0.982721, T: 240, Avg. loss: 0.099609\n",
      "Total training time: 0.00 seconds.\n",
      "-- Epoch 61\n",
      "Norm: 9.86, NNZs: 1, Bias: 0.980459, T: 244, Avg. loss: 0.098628\n",
      "Total training time: 0.00 seconds.\n",
      "-- Epoch 62\n",
      "Norm: 9.87, NNZs: 1, Bias: 0.978726, T: 248, Avg. loss: 0.099180\n",
      "Total training time: 0.00 seconds.\n",
      "Convergence after 62 epochs took 0.00 seconds\n"
     ]
    },
    {
     "data": {
      "text/plain": [
       "SGDRegressor(max_iter=500, verbose=1)"
      ]
     },
     "execution_count": 13,
     "metadata": {},
     "output_type": "execute_result"
    }
   ],
   "source": [
    "sgd_model = SGDRegressor(max_iter = 500, #가중치 업데이트 횟수\n",
    "                        eta0 = 0.01,     #학습률 (learing rate)\n",
    "                        verbose = 1)     #학습 과정 확인\n",
    "sgd_model.fit(data[['시간']], data['성적'])"
   ]
  },
  {
   "cell_type": "code",
   "execution_count": 14,
   "metadata": {},
   "outputs": [
    {
     "name": "stdout",
     "output_type": "stream",
     "text": [
      "[9.86508674]\n",
      "[0.97872615]\n"
     ]
    }
   ],
   "source": [
    "print(sgd_model.coef_)\n",
    "print(sgd_model.intercept_)"
   ]
  },
  {
   "cell_type": "code",
   "execution_count": null,
   "metadata": {},
   "outputs": [],
   "source": []
  },
  {
   "cell_type": "code",
   "execution_count": null,
   "metadata": {},
   "outputs": [],
   "source": []
  },
  {
   "cell_type": "code",
   "execution_count": null,
   "metadata": {},
   "outputs": [],
   "source": []
  },
  {
   "cell_type": "code",
   "execution_count": null,
   "metadata": {},
   "outputs": [],
   "source": []
  },
  {
   "cell_type": "code",
   "execution_count": null,
   "metadata": {},
   "outputs": [],
   "source": []
  },
  {
   "cell_type": "code",
   "execution_count": null,
   "metadata": {},
   "outputs": [],
   "source": []
  },
  {
   "cell_type": "code",
   "execution_count": null,
   "metadata": {},
   "outputs": [],
   "source": []
  },
  {
   "cell_type": "code",
   "execution_count": null,
   "metadata": {},
   "outputs": [],
   "source": []
  },
  {
   "cell_type": "code",
   "execution_count": null,
   "metadata": {},
   "outputs": [],
   "source": []
  },
  {
   "cell_type": "code",
   "execution_count": null,
   "metadata": {},
   "outputs": [],
   "source": []
  },
  {
   "cell_type": "code",
   "execution_count": null,
   "metadata": {},
   "outputs": [],
   "source": []
  },
  {
   "cell_type": "code",
   "execution_count": null,
   "metadata": {},
   "outputs": [],
   "source": []
  },
  {
   "cell_type": "code",
   "execution_count": null,
   "metadata": {},
   "outputs": [],
   "source": []
  },
  {
   "cell_type": "code",
   "execution_count": null,
   "metadata": {},
   "outputs": [],
   "source": []
  },
  {
   "cell_type": "code",
   "execution_count": null,
   "metadata": {},
   "outputs": [],
   "source": []
  }
 ],
 "metadata": {
  "kernelspec": {
   "display_name": "Python 3",
   "language": "python",
   "name": "python3"
  },
  "language_info": {
   "codemirror_mode": {
    "name": "ipython",
    "version": 3
   },
   "file_extension": ".py",
   "mimetype": "text/x-python",
   "name": "python",
   "nbconvert_exporter": "python",
   "pygments_lexer": "ipython3",
   "version": "3.8.5"
  },
  "toc": {
   "base_numbering": 1,
   "nav_menu": {},
   "number_sections": true,
   "sideBar": true,
   "skip_h1_title": false,
   "title_cell": "Table of Contents",
   "title_sidebar": "Contents",
   "toc_cell": false,
   "toc_position": {},
   "toc_section_display": true,
   "toc_window_display": false
  }
 },
 "nbformat": 4,
 "nbformat_minor": 4
}
