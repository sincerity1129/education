{
 "cells": [
  {
   "cell_type": "code",
   "execution_count": 59,
   "metadata": {},
   "outputs": [],
   "source": [
    "import requests, xmltodict, json\n",
    "import pandas as pd"
   ]
  },
  {
   "cell_type": "code",
   "execution_count": 109,
   "metadata": {},
   "outputs": [],
   "source": [
    "# 29110(동구)/29140(서구)/29155(남구)/29170(북구)/29200(광산구)\n",
    "apt_list = []\n",
    "for i in range(1,100):\n",
    "    key = \"GVhXgx7ubsl458SY5Et3w1QMKAfAT8r6WDQJXgeIro2n4uEyi2zQDwiAC0cO4%2BsYEGhsvxY8zd9H3gTrD4u9Eg%3D%3D\"\n",
    "    url =  \"http://openapi.molit.go.kr/OpenAPI_ToolInstallPackage/service/rest/RTMSOBJSvc/getRTMSDataSvcAptTradeDev?pageNo=i&&LAWD_CD=29110&DEAL_YMD=202101&serviceKey={}\".format(key)\n",
    "    content = requests.get(url).content\n",
    "    dict = xmltodict.parse(content)\n",
    "    jsonString = json.dumps(dict['response']['body']['items'], ensure_ascii = False)\n",
    "    jsonObj = json.loads(jsonString)\n",
    "    for item in jsonObj['item']:\n",
    "        apt_list.append(item)"
   ]
  },
  {
   "cell_type": "code",
   "execution_count": 110,
   "metadata": {},
   "outputs": [],
   "source": [
    "apt_list = pd.DataFrame(apt_list)"
   ]
  },
  {
   "cell_type": "code",
   "execution_count": 111,
   "metadata": {},
   "outputs": [],
   "source": [
    "apt_list.to_excel('apt_list.xlsx', index = False)"
   ]
  },
  {
   "cell_type": "code",
   "execution_count": null,
   "metadata": {},
   "outputs": [],
   "source": []
  }
 ],
 "metadata": {
  "kernelspec": {
   "display_name": "Python 3",
   "language": "python",
   "name": "python3"
  },
  "language_info": {
   "codemirror_mode": {
    "name": "ipython",
    "version": 3
   },
   "file_extension": ".py",
   "mimetype": "text/x-python",
   "name": "python",
   "nbconvert_exporter": "python",
   "pygments_lexer": "ipython3",
   "version": "3.8.5"
  }
 },
 "nbformat": 4,
 "nbformat_minor": 4
}
