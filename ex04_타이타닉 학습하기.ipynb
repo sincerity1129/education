{
 "cells": [
  {
   "cell_type": "markdown",
   "metadata": {},
   "source": [
    "# 1. 문제정의\n",
    "- 타이타닉호 탑승객의 정보를 통해서 생존자 / 사망자를 예측해보자!\n",
    "- kaggle에서 좋은 점수를 받기"
   ]
  },
  {
   "cell_type": "markdown",
   "metadata": {},
   "source": [
    "#  2. 데이터 수집\n",
    "- kaggle 사이트에서 train, test, gender_submission"
   ]
  },
  {
   "cell_type": "code",
   "execution_count": 72,
   "metadata": {},
   "outputs": [],
   "source": [
    "import numpy as np\n",
    "import pandas as pd\n",
    "import matplotlib.pyplot as pit\n",
    "import seaborn as sns # 시각화 라이브러리"
   ]
  },
  {
   "cell_type": "code",
   "execution_count": 73,
   "metadata": {},
   "outputs": [],
   "source": [
    "train = pd.read_csv('./train.csv')\n",
    "test = pd.read_csv('./test.csv')"
   ]
  },
  {
   "cell_type": "code",
   "execution_count": 74,
   "metadata": {},
   "outputs": [
    {
     "data": {
      "text/html": [
       "<div>\n",
       "<style scoped>\n",
       "    .dataframe tbody tr th:only-of-type {\n",
       "        vertical-align: middle;\n",
       "    }\n",
       "\n",
       "    .dataframe tbody tr th {\n",
       "        vertical-align: top;\n",
       "    }\n",
       "\n",
       "    .dataframe thead th {\n",
       "        text-align: right;\n",
       "    }\n",
       "</style>\n",
       "<table border=\"1\" class=\"dataframe\">\n",
       "  <thead>\n",
       "    <tr style=\"text-align: right;\">\n",
       "      <th></th>\n",
       "      <th>PassengerId</th>\n",
       "      <th>Survived</th>\n",
       "      <th>Pclass</th>\n",
       "      <th>Name</th>\n",
       "      <th>Sex</th>\n",
       "      <th>Age</th>\n",
       "      <th>SibSp</th>\n",
       "      <th>Parch</th>\n",
       "      <th>Ticket</th>\n",
       "      <th>Fare</th>\n",
       "      <th>Cabin</th>\n",
       "      <th>Embarked</th>\n",
       "    </tr>\n",
       "  </thead>\n",
       "  <tbody>\n",
       "    <tr>\n",
       "      <th>0</th>\n",
       "      <td>1</td>\n",
       "      <td>0</td>\n",
       "      <td>3</td>\n",
       "      <td>Braund, Mr. Owen Harris</td>\n",
       "      <td>male</td>\n",
       "      <td>22.0</td>\n",
       "      <td>1</td>\n",
       "      <td>0</td>\n",
       "      <td>A/5 21171</td>\n",
       "      <td>7.2500</td>\n",
       "      <td>NaN</td>\n",
       "      <td>S</td>\n",
       "    </tr>\n",
       "    <tr>\n",
       "      <th>1</th>\n",
       "      <td>2</td>\n",
       "      <td>1</td>\n",
       "      <td>1</td>\n",
       "      <td>Cumings, Mrs. John Bradley (Florence Briggs Th...</td>\n",
       "      <td>female</td>\n",
       "      <td>38.0</td>\n",
       "      <td>1</td>\n",
       "      <td>0</td>\n",
       "      <td>PC 17599</td>\n",
       "      <td>71.2833</td>\n",
       "      <td>C85</td>\n",
       "      <td>C</td>\n",
       "    </tr>\n",
       "    <tr>\n",
       "      <th>2</th>\n",
       "      <td>3</td>\n",
       "      <td>1</td>\n",
       "      <td>3</td>\n",
       "      <td>Heikkinen, Miss. Laina</td>\n",
       "      <td>female</td>\n",
       "      <td>26.0</td>\n",
       "      <td>0</td>\n",
       "      <td>0</td>\n",
       "      <td>STON/O2. 3101282</td>\n",
       "      <td>7.9250</td>\n",
       "      <td>NaN</td>\n",
       "      <td>S</td>\n",
       "    </tr>\n",
       "    <tr>\n",
       "      <th>3</th>\n",
       "      <td>4</td>\n",
       "      <td>1</td>\n",
       "      <td>1</td>\n",
       "      <td>Futrelle, Mrs. Jacques Heath (Lily May Peel)</td>\n",
       "      <td>female</td>\n",
       "      <td>35.0</td>\n",
       "      <td>1</td>\n",
       "      <td>0</td>\n",
       "      <td>113803</td>\n",
       "      <td>53.1000</td>\n",
       "      <td>C123</td>\n",
       "      <td>S</td>\n",
       "    </tr>\n",
       "    <tr>\n",
       "      <th>4</th>\n",
       "      <td>5</td>\n",
       "      <td>0</td>\n",
       "      <td>3</td>\n",
       "      <td>Allen, Mr. William Henry</td>\n",
       "      <td>male</td>\n",
       "      <td>35.0</td>\n",
       "      <td>0</td>\n",
       "      <td>0</td>\n",
       "      <td>373450</td>\n",
       "      <td>8.0500</td>\n",
       "      <td>NaN</td>\n",
       "      <td>S</td>\n",
       "    </tr>\n",
       "  </tbody>\n",
       "</table>\n",
       "</div>"
      ],
      "text/plain": [
       "   PassengerId  Survived  Pclass  \\\n",
       "0            1         0       3   \n",
       "1            2         1       1   \n",
       "2            3         1       3   \n",
       "3            4         1       1   \n",
       "4            5         0       3   \n",
       "\n",
       "                                                Name     Sex   Age  SibSp  \\\n",
       "0                            Braund, Mr. Owen Harris    male  22.0      1   \n",
       "1  Cumings, Mrs. John Bradley (Florence Briggs Th...  female  38.0      1   \n",
       "2                             Heikkinen, Miss. Laina  female  26.0      0   \n",
       "3       Futrelle, Mrs. Jacques Heath (Lily May Peel)  female  35.0      1   \n",
       "4                           Allen, Mr. William Henry    male  35.0      0   \n",
       "\n",
       "   Parch            Ticket     Fare Cabin Embarked  \n",
       "0      0         A/5 21171   7.2500   NaN        S  \n",
       "1      0          PC 17599  71.2833   C85        C  \n",
       "2      0  STON/O2. 3101282   7.9250   NaN        S  \n",
       "3      0            113803  53.1000  C123        S  \n",
       "4      0            373450   8.0500   NaN        S  "
      ]
     },
     "execution_count": 74,
     "metadata": {},
     "output_type": "execute_result"
    }
   ],
   "source": [
    "train.head()"
   ]
  },
  {
   "cell_type": "code",
   "execution_count": 75,
   "metadata": {},
   "outputs": [
    {
     "data": {
      "text/html": [
       "<div>\n",
       "<style scoped>\n",
       "    .dataframe tbody tr th:only-of-type {\n",
       "        vertical-align: middle;\n",
       "    }\n",
       "\n",
       "    .dataframe tbody tr th {\n",
       "        vertical-align: top;\n",
       "    }\n",
       "\n",
       "    .dataframe thead th {\n",
       "        text-align: right;\n",
       "    }\n",
       "</style>\n",
       "<table border=\"1\" class=\"dataframe\">\n",
       "  <thead>\n",
       "    <tr style=\"text-align: right;\">\n",
       "      <th></th>\n",
       "      <th>PassengerId</th>\n",
       "      <th>Pclass</th>\n",
       "      <th>Name</th>\n",
       "      <th>Sex</th>\n",
       "      <th>Age</th>\n",
       "      <th>SibSp</th>\n",
       "      <th>Parch</th>\n",
       "      <th>Ticket</th>\n",
       "      <th>Fare</th>\n",
       "      <th>Cabin</th>\n",
       "      <th>Embarked</th>\n",
       "    </tr>\n",
       "  </thead>\n",
       "  <tbody>\n",
       "    <tr>\n",
       "      <th>0</th>\n",
       "      <td>892</td>\n",
       "      <td>3</td>\n",
       "      <td>Kelly, Mr. James</td>\n",
       "      <td>male</td>\n",
       "      <td>34.5</td>\n",
       "      <td>0</td>\n",
       "      <td>0</td>\n",
       "      <td>330911</td>\n",
       "      <td>7.8292</td>\n",
       "      <td>NaN</td>\n",
       "      <td>Q</td>\n",
       "    </tr>\n",
       "    <tr>\n",
       "      <th>1</th>\n",
       "      <td>893</td>\n",
       "      <td>3</td>\n",
       "      <td>Wilkes, Mrs. James (Ellen Needs)</td>\n",
       "      <td>female</td>\n",
       "      <td>47.0</td>\n",
       "      <td>1</td>\n",
       "      <td>0</td>\n",
       "      <td>363272</td>\n",
       "      <td>7.0000</td>\n",
       "      <td>NaN</td>\n",
       "      <td>S</td>\n",
       "    </tr>\n",
       "    <tr>\n",
       "      <th>2</th>\n",
       "      <td>894</td>\n",
       "      <td>2</td>\n",
       "      <td>Myles, Mr. Thomas Francis</td>\n",
       "      <td>male</td>\n",
       "      <td>62.0</td>\n",
       "      <td>0</td>\n",
       "      <td>0</td>\n",
       "      <td>240276</td>\n",
       "      <td>9.6875</td>\n",
       "      <td>NaN</td>\n",
       "      <td>Q</td>\n",
       "    </tr>\n",
       "    <tr>\n",
       "      <th>3</th>\n",
       "      <td>895</td>\n",
       "      <td>3</td>\n",
       "      <td>Wirz, Mr. Albert</td>\n",
       "      <td>male</td>\n",
       "      <td>27.0</td>\n",
       "      <td>0</td>\n",
       "      <td>0</td>\n",
       "      <td>315154</td>\n",
       "      <td>8.6625</td>\n",
       "      <td>NaN</td>\n",
       "      <td>S</td>\n",
       "    </tr>\n",
       "    <tr>\n",
       "      <th>4</th>\n",
       "      <td>896</td>\n",
       "      <td>3</td>\n",
       "      <td>Hirvonen, Mrs. Alexander (Helga E Lindqvist)</td>\n",
       "      <td>female</td>\n",
       "      <td>22.0</td>\n",
       "      <td>1</td>\n",
       "      <td>1</td>\n",
       "      <td>3101298</td>\n",
       "      <td>12.2875</td>\n",
       "      <td>NaN</td>\n",
       "      <td>S</td>\n",
       "    </tr>\n",
       "  </tbody>\n",
       "</table>\n",
       "</div>"
      ],
      "text/plain": [
       "   PassengerId  Pclass                                          Name     Sex  \\\n",
       "0          892       3                              Kelly, Mr. James    male   \n",
       "1          893       3              Wilkes, Mrs. James (Ellen Needs)  female   \n",
       "2          894       2                     Myles, Mr. Thomas Francis    male   \n",
       "3          895       3                              Wirz, Mr. Albert    male   \n",
       "4          896       3  Hirvonen, Mrs. Alexander (Helga E Lindqvist)  female   \n",
       "\n",
       "    Age  SibSp  Parch   Ticket     Fare Cabin Embarked  \n",
       "0  34.5      0      0   330911   7.8292   NaN        Q  \n",
       "1  47.0      1      0   363272   7.0000   NaN        S  \n",
       "2  62.0      0      0   240276   9.6875   NaN        Q  \n",
       "3  27.0      0      0   315154   8.6625   NaN        S  \n",
       "4  22.0      1      1  3101298  12.2875   NaN        S  "
      ]
     },
     "execution_count": 75,
     "metadata": {},
     "output_type": "execute_result"
    }
   ],
   "source": [
    "test.head()"
   ]
  },
  {
   "cell_type": "code",
   "execution_count": 76,
   "metadata": {},
   "outputs": [
    {
     "data": {
      "text/plain": [
       "Index(['PassengerId', 'Survived', 'Pclass', 'Name', 'Sex', 'Age', 'SibSp',\n",
       "       'Parch', 'Ticket', 'Fare', 'Cabin', 'Embarked'],\n",
       "      dtype='object')"
      ]
     },
     "execution_count": 76,
     "metadata": {},
     "output_type": "execute_result"
    }
   ],
   "source": [
    "train.columns"
   ]
  },
  {
   "cell_type": "code",
   "execution_count": 77,
   "metadata": {},
   "outputs": [],
   "source": [
    "# Passenserid  컬럼 삭제\n",
    "# 1 ~ 891번 까지 순서를 나타내기 위한 데이터이므로 생존 예측에는 영향을 끼치지 않을것으로 생각된다\n",
    "# del - 열 삭제만 가능\n",
    "# 키워드\n",
    "del train['PassengerId']\n",
    "# drop ~ 행 / 열의 삭제가 가능"
   ]
  },
  {
   "cell_type": "code",
   "execution_count": 78,
   "metadata": {},
   "outputs": [],
   "source": [
    "# drop ~ 행 / 열의 삭제가 가능\n",
    "# 함수\n",
    "test.drop('PassengerId' , axis =1, inplace = True)"
   ]
  },
  {
   "cell_type": "code",
   "execution_count": 79,
   "metadata": {},
   "outputs": [
    {
     "data": {
      "text/plain": [
       "Index(['Survived', 'Pclass', 'Name', 'Sex', 'Age', 'SibSp', 'Parch', 'Ticket',\n",
       "       'Fare', 'Cabin', 'Embarked'],\n",
       "      dtype='object')"
      ]
     },
     "execution_count": 79,
     "metadata": {},
     "output_type": "execute_result"
    }
   ],
   "source": [
    "train.columns"
   ]
  },
  {
   "cell_type": "code",
   "execution_count": 80,
   "metadata": {},
   "outputs": [
    {
     "data": {
      "text/plain": [
       "Index(['Pclass', 'Name', 'Sex', 'Age', 'SibSp', 'Parch', 'Ticket', 'Fare',\n",
       "       'Cabin', 'Embarked'],\n",
       "      dtype='object')"
      ]
     },
     "execution_count": 80,
     "metadata": {},
     "output_type": "execute_result"
    }
   ],
   "source": [
    "test.columns"
   ]
  },
  {
   "cell_type": "markdown",
   "metadata": {},
   "source": [
    "#  3. 데이터 전처리"
   ]
  },
  {
   "cell_type": "code",
   "execution_count": 46,
   "metadata": {},
   "outputs": [],
   "source": [
    "# 정답 컬럼 분리\n",
    "y_train = train['Survived']\n",
    "# train에서 Survived 컬럼 삭제\n",
    "del train['Survived']"
   ]
  },
  {
   "cell_type": "code",
   "execution_count": 81,
   "metadata": {},
   "outputs": [
    {
     "name": "stdout",
     "output_type": "stream",
     "text": [
      "(891, 11)\n",
      "(418, 10)\n"
     ]
    }
   ],
   "source": [
    "print(train.shape)\n",
    "print(test.shape)"
   ]
  },
  {
   "cell_type": "code",
   "execution_count": 82,
   "metadata": {},
   "outputs": [
    {
     "name": "stdout",
     "output_type": "stream",
     "text": [
      "<class 'pandas.core.frame.DataFrame'>\n",
      "RangeIndex: 418 entries, 0 to 417\n",
      "Data columns (total 10 columns):\n",
      " #   Column    Non-Null Count  Dtype  \n",
      "---  ------    --------------  -----  \n",
      " 0   Pclass    418 non-null    int64  \n",
      " 1   Name      418 non-null    object \n",
      " 2   Sex       418 non-null    object \n",
      " 3   Age       332 non-null    float64\n",
      " 4   SibSp     418 non-null    int64  \n",
      " 5   Parch     418 non-null    int64  \n",
      " 6   Ticket    418 non-null    object \n",
      " 7   Fare      417 non-null    float64\n",
      " 8   Cabin     91 non-null     object \n",
      " 9   Embarked  418 non-null    object \n",
      "dtypes: float64(2), int64(3), object(5)\n",
      "memory usage: 32.8+ KB\n"
     ]
    }
   ],
   "source": [
    "test.info()"
   ]
  },
  {
   "cell_type": "code",
   "execution_count": 83,
   "metadata": {},
   "outputs": [],
   "source": [
    "# 결측치를 채울 컬럼\n",
    "# 공통 : Age, Cabin\n",
    "# train : Embarked\n",
    "# test :Fare"
   ]
  },
  {
   "cell_type": "markdown",
   "metadata": {},
   "source": [
    "####  train - Embarked 채우기"
   ]
  },
  {
   "cell_type": "code",
   "execution_count": 84,
   "metadata": {},
   "outputs": [
    {
     "data": {
      "text/plain": [
       "S    644\n",
       "C    168\n",
       "Q     77\n",
       "Name: Embarked, dtype: int64"
      ]
     },
     "execution_count": 84,
     "metadata": {},
     "output_type": "execute_result"
    }
   ],
   "source": [
    "# value_counts()\n",
    "# 컬럼 안에 값들의 개수\n",
    "train['Embarked'].value_counts()"
   ]
  },
  {
   "cell_type": "code",
   "execution_count": 85,
   "metadata": {},
   "outputs": [],
   "source": [
    "# 최빈 값으로 결측치 채움\n",
    "# 결측치를 S로 채움\n",
    "# fillna\n",
    "train['Embarked'].fillna('s', inplace = True)"
   ]
  },
  {
   "cell_type": "code",
   "execution_count": 86,
   "metadata": {},
   "outputs": [
    {
     "name": "stdout",
     "output_type": "stream",
     "text": [
      "<class 'pandas.core.frame.DataFrame'>\n",
      "RangeIndex: 891 entries, 0 to 890\n",
      "Data columns (total 11 columns):\n",
      " #   Column    Non-Null Count  Dtype  \n",
      "---  ------    --------------  -----  \n",
      " 0   Survived  891 non-null    int64  \n",
      " 1   Pclass    891 non-null    int64  \n",
      " 2   Name      891 non-null    object \n",
      " 3   Sex       891 non-null    object \n",
      " 4   Age       714 non-null    float64\n",
      " 5   SibSp     891 non-null    int64  \n",
      " 6   Parch     891 non-null    int64  \n",
      " 7   Ticket    891 non-null    object \n",
      " 8   Fare      891 non-null    float64\n",
      " 9   Cabin     204 non-null    object \n",
      " 10  Embarked  891 non-null    object \n",
      "dtypes: float64(2), int64(4), object(5)\n",
      "memory usage: 76.7+ KB\n"
     ]
    }
   ],
   "source": [
    "train.info()"
   ]
  },
  {
   "cell_type": "markdown",
   "metadata": {},
   "source": [
    "#  test - Fare 채우기"
   ]
  },
  {
   "cell_type": "code",
   "execution_count": 87,
   "metadata": {},
   "outputs": [
    {
     "data": {
      "text/plain": [
       "count    417.000000\n",
       "mean      35.627188\n",
       "std       55.907576\n",
       "min        0.000000\n",
       "25%        7.895800\n",
       "50%       14.454200\n",
       "75%       31.500000\n",
       "max      512.329200\n",
       "Name: Fare, dtype: float64"
      ]
     },
     "execution_count": 87,
     "metadata": {},
     "output_type": "execute_result"
    }
   ],
   "source": [
    "# 중앙값을 통해서 결측치를 채운다\n",
    "test['Fare'].describe()\n",
    "# 중앙값 : 14.45"
   ]
  },
  {
   "cell_type": "code",
   "execution_count": 88,
   "metadata": {},
   "outputs": [],
   "source": [
    "test['Fare'].fillna(14.45, inplace = True)"
   ]
  },
  {
   "cell_type": "code",
   "execution_count": 89,
   "metadata": {},
   "outputs": [
    {
     "name": "stdout",
     "output_type": "stream",
     "text": [
      "<class 'pandas.core.frame.DataFrame'>\n",
      "RangeIndex: 418 entries, 0 to 417\n",
      "Data columns (total 10 columns):\n",
      " #   Column    Non-Null Count  Dtype  \n",
      "---  ------    --------------  -----  \n",
      " 0   Pclass    418 non-null    int64  \n",
      " 1   Name      418 non-null    object \n",
      " 2   Sex       418 non-null    object \n",
      " 3   Age       332 non-null    float64\n",
      " 4   SibSp     418 non-null    int64  \n",
      " 5   Parch     418 non-null    int64  \n",
      " 6   Ticket    418 non-null    object \n",
      " 7   Fare      418 non-null    float64\n",
      " 8   Cabin     91 non-null     object \n",
      " 9   Embarked  418 non-null    object \n",
      "dtypes: float64(2), int64(3), object(5)\n",
      "memory usage: 32.8+ KB\n"
     ]
    }
   ],
   "source": [
    "test.info()"
   ]
  },
  {
   "cell_type": "markdown",
   "metadata": {},
   "source": [
    "####  Age  채우기\n",
    "- 다른 컬럼과의 상관관계를 통해서 결측치를 채워보자"
   ]
  },
  {
   "cell_type": "code",
   "execution_count": 90,
   "metadata": {},
   "outputs": [
    {
     "data": {
      "text/html": [
       "<div>\n",
       "<style scoped>\n",
       "    .dataframe tbody tr th:only-of-type {\n",
       "        vertical-align: middle;\n",
       "    }\n",
       "\n",
       "    .dataframe tbody tr th {\n",
       "        vertical-align: top;\n",
       "    }\n",
       "\n",
       "    .dataframe thead th {\n",
       "        text-align: right;\n",
       "    }\n",
       "</style>\n",
       "<table border=\"1\" class=\"dataframe\">\n",
       "  <thead>\n",
       "    <tr style=\"text-align: right;\">\n",
       "      <th></th>\n",
       "      <th>Survived</th>\n",
       "      <th>Pclass</th>\n",
       "      <th>Age</th>\n",
       "      <th>SibSp</th>\n",
       "      <th>Parch</th>\n",
       "      <th>Fare</th>\n",
       "    </tr>\n",
       "  </thead>\n",
       "  <tbody>\n",
       "    <tr>\n",
       "      <th>Survived</th>\n",
       "      <td>1.000000</td>\n",
       "      <td>-0.338481</td>\n",
       "      <td>-0.077221</td>\n",
       "      <td>-0.035322</td>\n",
       "      <td>0.081629</td>\n",
       "      <td>0.257307</td>\n",
       "    </tr>\n",
       "    <tr>\n",
       "      <th>Pclass</th>\n",
       "      <td>-0.338481</td>\n",
       "      <td>1.000000</td>\n",
       "      <td>-0.369226</td>\n",
       "      <td>0.083081</td>\n",
       "      <td>0.018443</td>\n",
       "      <td>-0.549500</td>\n",
       "    </tr>\n",
       "    <tr>\n",
       "      <th>Age</th>\n",
       "      <td>-0.077221</td>\n",
       "      <td>-0.369226</td>\n",
       "      <td>1.000000</td>\n",
       "      <td>-0.308247</td>\n",
       "      <td>-0.189119</td>\n",
       "      <td>0.096067</td>\n",
       "    </tr>\n",
       "    <tr>\n",
       "      <th>SibSp</th>\n",
       "      <td>-0.035322</td>\n",
       "      <td>0.083081</td>\n",
       "      <td>-0.308247</td>\n",
       "      <td>1.000000</td>\n",
       "      <td>0.414838</td>\n",
       "      <td>0.159651</td>\n",
       "    </tr>\n",
       "    <tr>\n",
       "      <th>Parch</th>\n",
       "      <td>0.081629</td>\n",
       "      <td>0.018443</td>\n",
       "      <td>-0.189119</td>\n",
       "      <td>0.414838</td>\n",
       "      <td>1.000000</td>\n",
       "      <td>0.216225</td>\n",
       "    </tr>\n",
       "    <tr>\n",
       "      <th>Fare</th>\n",
       "      <td>0.257307</td>\n",
       "      <td>-0.549500</td>\n",
       "      <td>0.096067</td>\n",
       "      <td>0.159651</td>\n",
       "      <td>0.216225</td>\n",
       "      <td>1.000000</td>\n",
       "    </tr>\n",
       "  </tbody>\n",
       "</table>\n",
       "</div>"
      ],
      "text/plain": [
       "          Survived    Pclass       Age     SibSp     Parch      Fare\n",
       "Survived  1.000000 -0.338481 -0.077221 -0.035322  0.081629  0.257307\n",
       "Pclass   -0.338481  1.000000 -0.369226  0.083081  0.018443 -0.549500\n",
       "Age      -0.077221 -0.369226  1.000000 -0.308247 -0.189119  0.096067\n",
       "SibSp    -0.035322  0.083081 -0.308247  1.000000  0.414838  0.159651\n",
       "Parch     0.081629  0.018443 -0.189119  0.414838  1.000000  0.216225\n",
       "Fare      0.257307 -0.549500  0.096067  0.159651  0.216225  1.000000"
      ]
     },
     "execution_count": 90,
     "metadata": {},
     "output_type": "execute_result"
    }
   ],
   "source": [
    "# 상관관계\n",
    "# corr\n",
    "train.corr()"
   ]
  },
  {
   "cell_type": "code",
   "execution_count": 91,
   "metadata": {},
   "outputs": [
    {
     "data": {
      "text/plain": [
       "3    491\n",
       "1    216\n",
       "2    184\n",
       "Name: Pclass, dtype: int64"
      ]
     },
     "execution_count": 91,
     "metadata": {},
     "output_type": "execute_result"
    }
   ],
   "source": [
    "train['Pclass'].value_counts()"
   ]
  },
  {
   "cell_type": "code",
   "execution_count": 92,
   "metadata": {},
   "outputs": [],
   "source": [
    "age_table = train[['Pclass', 'Sex', 'Age']].groupby(by = ['Pclass', 'Sex']).median()"
   ]
  },
  {
   "cell_type": "code",
   "execution_count": 93,
   "metadata": {},
   "outputs": [
    {
     "data": {
      "text/html": [
       "<div>\n",
       "<style scoped>\n",
       "    .dataframe tbody tr th:only-of-type {\n",
       "        vertical-align: middle;\n",
       "    }\n",
       "\n",
       "    .dataframe tbody tr th {\n",
       "        vertical-align: top;\n",
       "    }\n",
       "\n",
       "    .dataframe thead th {\n",
       "        text-align: right;\n",
       "    }\n",
       "</style>\n",
       "<table border=\"1\" class=\"dataframe\">\n",
       "  <thead>\n",
       "    <tr style=\"text-align: right;\">\n",
       "      <th></th>\n",
       "      <th></th>\n",
       "      <th>Age</th>\n",
       "    </tr>\n",
       "    <tr>\n",
       "      <th>Pclass</th>\n",
       "      <th>Sex</th>\n",
       "      <th></th>\n",
       "    </tr>\n",
       "  </thead>\n",
       "  <tbody>\n",
       "    <tr>\n",
       "      <th rowspan=\"2\" valign=\"top\">1</th>\n",
       "      <th>female</th>\n",
       "      <td>35.0</td>\n",
       "    </tr>\n",
       "    <tr>\n",
       "      <th>male</th>\n",
       "      <td>40.0</td>\n",
       "    </tr>\n",
       "    <tr>\n",
       "      <th rowspan=\"2\" valign=\"top\">2</th>\n",
       "      <th>female</th>\n",
       "      <td>28.0</td>\n",
       "    </tr>\n",
       "    <tr>\n",
       "      <th>male</th>\n",
       "      <td>30.0</td>\n",
       "    </tr>\n",
       "    <tr>\n",
       "      <th rowspan=\"2\" valign=\"top\">3</th>\n",
       "      <th>female</th>\n",
       "      <td>21.5</td>\n",
       "    </tr>\n",
       "    <tr>\n",
       "      <th>male</th>\n",
       "      <td>25.0</td>\n",
       "    </tr>\n",
       "  </tbody>\n",
       "</table>\n",
       "</div>"
      ],
      "text/plain": [
       "                Age\n",
       "Pclass Sex         \n",
       "1      female  35.0\n",
       "       male    40.0\n",
       "2      female  28.0\n",
       "       male    30.0\n",
       "3      female  21.5\n",
       "       male    25.0"
      ]
     },
     "execution_count": 93,
     "metadata": {},
     "output_type": "execute_result"
    }
   ],
   "source": [
    "age_table"
   ]
  },
  {
   "cell_type": "code",
   "execution_count": 94,
   "metadata": {},
   "outputs": [
    {
     "data": {
      "text/plain": [
       "21.5"
      ]
     },
     "execution_count": 94,
     "metadata": {},
     "output_type": "execute_result"
    }
   ],
   "source": [
    "age_table.loc[(3, 'female'), 'Age']"
   ]
  },
  {
   "cell_type": "code",
   "execution_count": 95,
   "metadata": {},
   "outputs": [],
   "source": [
    "# train.apply(fill_age)로 받을 경우\n",
    "# person 자리에 train이 들어가게 됨\n",
    "# 따라서 np.isnan()의 경우 값이 없으면 True를 출력하게 되는데\n",
    "# apply는 처음부터 한줄씩 채워가기 때문에 if와 같은 조건으로 쓰게 되면\n",
    "# 자동으로 결측치의 값을 채워주게됨\n",
    "\n",
    "def fill_age(person) :\n",
    "    if np.isnan(person['Age']): #결측치면 True 결측치가 아니면 False\n",
    "        return age_table.loc[person['Pclass'],person['Sex']][0]\n",
    "    else:\n",
    "        return person['Age']"
   ]
  },
  {
   "cell_type": "code",
   "execution_count": 96,
   "metadata": {},
   "outputs": [
    {
     "data": {
      "text/plain": [
       "True"
      ]
     },
     "execution_count": 96,
     "metadata": {},
     "output_type": "execute_result"
    }
   ],
   "source": [
    "np.isnan(train.iloc[5][\"Age\"])"
   ]
  },
  {
   "cell_type": "code",
   "execution_count": 97,
   "metadata": {},
   "outputs": [],
   "source": [
    "train['Age'] = train.apply(fill_age, axis = 1)\n",
    "test['Age'] = train.apply(fill_age, axis = 1)"
   ]
  },
  {
   "cell_type": "code",
   "execution_count": 98,
   "metadata": {},
   "outputs": [
    {
     "data": {
      "text/plain": [
       "0      22.0\n",
       "1      38.0\n",
       "2      26.0\n",
       "3      35.0\n",
       "4      35.0\n",
       "       ... \n",
       "886    27.0\n",
       "887    19.0\n",
       "888    21.5\n",
       "889    26.0\n",
       "890    32.0\n",
       "Length: 891, dtype: float64"
      ]
     },
     "execution_count": 98,
     "metadata": {},
     "output_type": "execute_result"
    }
   ],
   "source": [
    "# 변수명.apply(함수명, axis = 1(행단위) / axis = 0(열단위))\n",
    "train.apply(fill_age, axis = 1)"
   ]
  },
  {
   "cell_type": "markdown",
   "metadata": {},
   "source": [
    "####  공통 - Cabin 채우기"
   ]
  },
  {
   "cell_type": "code",
   "execution_count": 99,
   "metadata": {},
   "outputs": [
    {
     "data": {
      "text/plain": [
       "array([nan, 'C85', 'C123', 'E46', 'G6', 'C103', 'D56', 'A6',\n",
       "       'C23 C25 C27', 'B78', 'D33', 'B30', 'C52', 'B28', 'C83', 'F33',\n",
       "       'F G73', 'E31', 'A5', 'D10 D12', 'D26', 'C110', 'B58 B60', 'E101',\n",
       "       'F E69', 'D47', 'B86', 'F2', 'C2', 'E33', 'B19', 'A7', 'C49', 'F4',\n",
       "       'A32', 'B4', 'B80', 'A31', 'D36', 'D15', 'C93', 'C78', 'D35',\n",
       "       'C87', 'B77', 'E67', 'B94', 'C125', 'C99', 'C118', 'D7', 'A19',\n",
       "       'B49', 'D', 'C22 C26', 'C106', 'C65', 'E36', 'C54',\n",
       "       'B57 B59 B63 B66', 'C7', 'E34', 'C32', 'B18', 'C124', 'C91', 'E40',\n",
       "       'T', 'C128', 'D37', 'B35', 'E50', 'C82', 'B96 B98', 'E10', 'E44',\n",
       "       'A34', 'C104', 'C111', 'C92', 'E38', 'D21', 'E12', 'E63', 'A14',\n",
       "       'B37', 'C30', 'D20', 'B79', 'E25', 'D46', 'B73', 'C95', 'B38',\n",
       "       'B39', 'B22', 'C86', 'C70', 'A16', 'C101', 'C68', 'A10', 'E68',\n",
       "       'B41', 'A20', 'D19', 'D50', 'D9', 'A23', 'B50', 'A26', 'D48',\n",
       "       'E58', 'C126', 'B71', 'B51 B53 B55', 'D49', 'B5', 'B20', 'F G63',\n",
       "       'C62 C64', 'E24', 'C90', 'C45', 'E8', 'B101', 'D45', 'C46', 'D30',\n",
       "       'E121', 'D11', 'E77', 'F38', 'B3', 'D6', 'B82 B84', 'D17', 'A36',\n",
       "       'B102', 'B69', 'E49', 'C47', 'D28', 'E17', 'A24', 'C50', 'B42',\n",
       "       'C148'], dtype=object)"
      ]
     },
     "execution_count": 99,
     "metadata": {},
     "output_type": "execute_result"
    }
   ],
   "source": [
    "# unique : 중복을 제거하고 하나의 값만 출력\n",
    "train['Cabin'].unique()"
   ]
  },
  {
   "cell_type": "code",
   "execution_count": 100,
   "metadata": {},
   "outputs": [],
   "source": [
    "# 첫번째 글자만 가져와서 저장\n",
    "train['Cabin'] = train['Cabin'].str[0]\n",
    "test['Cabin'] = test['Cabin'].str[0]"
   ]
  },
  {
   "cell_type": "code",
   "execution_count": 101,
   "metadata": {},
   "outputs": [
    {
     "data": {
      "text/plain": [
       "array([nan, 'C', 'E', 'G', 'D', 'A', 'B', 'F', 'T'], dtype=object)"
      ]
     },
     "execution_count": 101,
     "metadata": {},
     "output_type": "execute_result"
    }
   ],
   "source": [
    "train['Cabin'].unique()"
   ]
  },
  {
   "cell_type": "code",
   "execution_count": 102,
   "metadata": {},
   "outputs": [],
   "source": [
    "# 결측치를 'M' 갑으로 채우기\n",
    "train['Cabin'].fillna('M', inplace = True)\n",
    "test['Cabin'].fillna('M', inplace = True)"
   ]
  },
  {
   "cell_type": "code",
   "execution_count": 103,
   "metadata": {},
   "outputs": [
    {
     "data": {
      "text/plain": [
       "array(['M', 'C', 'E', 'G', 'D', 'A', 'B', 'F', 'T'], dtype=object)"
      ]
     },
     "execution_count": 103,
     "metadata": {},
     "output_type": "execute_result"
    }
   ],
   "source": [
    "train['Cabin'].unique()"
   ]
  },
  {
   "cell_type": "markdown",
   "metadata": {},
   "source": [
    "#  4. 탐색적 데이터 분석\n",
    "- 특성공학 : 컬럼에 연산을 통해서 의미있는 새로운 정보를 추출하는 행위\n",
    "- SibSp(형제자매수) + Parch(부모자식수) + 1 = Family_Size"
   ]
  },
  {
   "cell_type": "code",
   "execution_count": 104,
   "metadata": {},
   "outputs": [],
   "source": [
    "# Family_size 컬럼 만들기\n",
    "train['Family_Size'] = train['SibSp'] + train['Parch'] + 1\n",
    "test['Family_Size'] = test['SibSp'] + test['Parch'] + 1"
   ]
  },
  {
   "cell_type": "code",
   "execution_count": 105,
   "metadata": {},
   "outputs": [
    {
     "data": {
      "text/plain": [
       "<AxesSubplot:xlabel='Family_Size', ylabel='count'>"
      ]
     },
     "execution_count": 105,
     "metadata": {},
     "output_type": "execute_result"
    },
    {
     "data": {
      "image/png": "[encoded data removed]",
      "text/plain": [
       "<Figure size 432x288 with 1 Axes>"
      ]
     },
     "metadata": {
      "needs_background": "light"
     },
     "output_type": "display_data"
    }
   ],
   "source": [
    "# 그래프를 그려서 연관성을 확인\n",
    "sns.countplot(data = train, x = 'Family_Size', hue = 'Survived')"
   ]
  },
  {
   "cell_type": "markdown",
   "metadata": {},
   "source": [
    "- 1명일 때는 죽은 사람의 비율이 높다\n",
    "- 2 ~ 4 명일 때는 산 사람의 비율이 높다\n",
    "- 5명 이상일 때는 죽은 사람의 비율이 높다\n",
    "- 수치형 > 범주형 (Binning)\n",
    "    - 사소한 관찰 오류를 줄여준다"
   ]
  },
  {
   "cell_type": "code",
   "execution_count": 106,
   "metadata": {},
   "outputs": [],
   "source": [
    "# bins : 구간\n",
    "# 0초과 1이하, 1초과 4이하, 4초과 20이하\n",
    "bins = [0, 1, 4, 20]\n",
    "# labels 구간별 명칭\n",
    "labels = ['Alone', 'Small', 'Large']\n",
    "# cut 함수 : 카테고리(범주형) 데이터를 만듦 bins => 속성 값 / labels => 범주 이름\n",
    "train_cut = pd.cut(train['Family_Size'], bins = bins, labels = labels)\n",
    "train['Family_Group'] = train_cut\n",
    "test_cut = pd.cut(test['Family_Size'], bins = bins, labels = labels)\n",
    "test['Family_Group'] = test_cut"
   ]
  },
  {
   "cell_type": "code",
   "execution_count": 107,
   "metadata": {},
   "outputs": [
    {
     "data": {
      "text/plain": [
       "Index(['Survived', 'Pclass', 'Name', 'Sex', 'Age', 'SibSp', 'Parch', 'Ticket',\n",
       "       'Fare', 'Cabin', 'Embarked', 'Family_Size', 'Family_Group'],\n",
       "      dtype='object')"
      ]
     },
     "execution_count": 107,
     "metadata": {},
     "output_type": "execute_result"
    }
   ],
   "source": [
    "train.columns"
   ]
  },
  {
   "cell_type": "code",
   "execution_count": 108,
   "metadata": {},
   "outputs": [
    {
     "data": {
      "text/plain": [
       "<AxesSubplot:xlabel='Family_Group', ylabel='count'>"
      ]
     },
     "execution_count": 108,
     "metadata": {},
     "output_type": "execute_result"
    },
    {
     "data": {
      "image/png": "[encoded data removed]",
      "text/plain": [
       "<Figure size 432x288 with 1 Axes>"
      ]
     },
     "metadata": {
      "needs_background": "light"
     },
     "output_type": "display_data"
    }
   ],
   "source": [
    "sns.countplot(data = train, x = 'Family_Group', hue = 'Survived')"
   ]
  },
  {
   "cell_type": "markdown",
   "metadata": {},
   "source": [
    "###  Cabin 컬럼 확인"
   ]
  },
  {
   "cell_type": "code",
   "execution_count": 109,
   "metadata": {},
   "outputs": [
    {
     "data": {
      "text/plain": [
       "<AxesSubplot:xlabel='Cabin', ylabel='count'>"
      ]
     },
     "execution_count": 109,
     "metadata": {},
     "output_type": "execute_result"
    },
    {
     "data": {
      "image/png": "[encoded data removed]",
      "text/plain": [
       "<Figure size 432x288 with 1 Axes>"
      ]
     },
     "metadata": {
      "needs_background": "light"
     },
     "output_type": "display_data"
    }
   ],
   "source": [
    "sns.countplot(data = train, x = 'Cabin', hue ='Survived')"
   ]
  },
  {
   "cell_type": "markdown",
   "metadata": {},
   "source": [
    "###  Pclass 컬럼확인"
   ]
  },
  {
   "cell_type": "code",
   "execution_count": 110,
   "metadata": {},
   "outputs": [
    {
     "data": {
      "text/plain": [
       "<AxesSubplot:xlabel='Pclass', ylabel='count'>"
      ]
     },
     "execution_count": 110,
     "metadata": {},
     "output_type": "execute_result"
    },
    {
     "data": {
      "image/png": "[encoded data removed]",
      "text/plain": [
       "<Figure size 432x288 with 1 Axes>"
      ]
     },
     "metadata": {
      "needs_background": "light"
     },
     "output_type": "display_data"
    }
   ],
   "source": [
    "sns.countplot(data = train, x = 'Pclass', hue ='Survived')"
   ]
  },
  {
   "cell_type": "markdown",
   "metadata": {},
   "source": [
    "###  Cabin과 Pclass 컬럼 확인"
   ]
  },
  {
   "cell_type": "code",
   "execution_count": 111,
   "metadata": {},
   "outputs": [
    {
     "data": {
      "text/plain": [
       "<AxesSubplot:xlabel='Cabin', ylabel='count'>"
      ]
     },
     "execution_count": 111,
     "metadata": {},
     "output_type": "execute_result"
    },
    {
     "data": {
      "image/png": "[encoded data removed]",
      "text/plain": [
       "<Figure size 432x288 with 1 Axes>"
      ]
     },
     "metadata": {
      "needs_background": "light"
     },
     "output_type": "display_data"
    }
   ],
   "source": [
    "sns.countplot(data = train, x = 'Cabin', hue ='Pclass')"
   ]
  },
  {
   "cell_type": "markdown",
   "metadata": {},
   "source": [
    "- M 구역에는 3등급 사람들이 많이 탑승을 함, 사망자의 비율이 높음\n",
    "- A, B, C 구역에는 1등급만 존재"
   ]
  },
  {
   "cell_type": "markdown",
   "metadata": {},
   "source": [
    "# Embarked 컬럼확인"
   ]
  },
  {
   "cell_type": "code",
   "execution_count": 112,
   "metadata": {},
   "outputs": [
    {
     "data": {
      "text/plain": [
       "<AxesSubplot:xlabel='Embarked', ylabel='count'>"
      ]
     },
     "execution_count": 112,
     "metadata": {},
     "output_type": "execute_result"
    },
    {
     "data": {
      "image/png": "[encoded data removed]",
      "text/plain": [
       "<Figure size 432x288 with 1 Axes>"
      ]
     },
     "metadata": {
      "needs_background": "light"
     },
     "output_type": "display_data"
    }
   ],
   "source": [
    "sns.countplot(data = train, x = 'Embarked', hue = 'Survived')"
   ]
  },
  {
   "cell_type": "markdown",
   "metadata": {},
   "source": [
    "- S에서 탑승한 사람들이 많이 죽었다\n",
    "- S에서 탄 사람들은 3등급 객실이나 M구역 객실에 있지 않을까?"
   ]
  },
  {
   "cell_type": "markdown",
   "metadata": {},
   "source": [
    "#### Age 컬럼 확인"
   ]
  },
  {
   "cell_type": "code",
   "execution_count": 113,
   "metadata": {},
   "outputs": [
    {
     "data": {
      "text/plain": [
       "<AxesSubplot:xlabel='Sex', ylabel='Age'>"
      ]
     },
     "execution_count": 113,
     "metadata": {},
     "output_type": "execute_result"
    },
    {
     "data": {
      "image/png": "[encoded data removed]",
      "text/plain": [
       "<Figure size 432x288 with 1 Axes>"
      ]
     },
     "metadata": {
      "needs_background": "light"
     },
     "output_type": "display_data"
    }
   ],
   "source": [
    "sns.violinplot(data = train, x = 'Sex', y = 'Age', hue = 'Survived', split = True)"
   ]
  },
  {
   "cell_type": "markdown",
   "metadata": {},
   "source": [
    "- 남자는 산사람과 죽은 사람의 나이대가 차이가 있다\n",
    "- 여자는 산사람과 죽은 사람의 나이대가 비슷하다\n",
    "- 어린아이들은 남자가 많이 살았고 여자는 많이 죽었다."
   ]
  },
  {
   "cell_type": "markdown",
   "metadata": {},
   "source": [
    "###  Fare 컬럼 확인"
   ]
  },
  {
   "cell_type": "code",
   "execution_count": 114,
   "metadata": {},
   "outputs": [
    {
     "data": {
      "text/plain": [
       "<AxesSubplot:xlabel='Sex', ylabel='Fare'>"
      ]
     },
     "execution_count": 114,
     "metadata": {},
     "output_type": "execute_result"
    },
    {
     "data": {
      "image/png": "[encoded data removed]",
      "text/plain": [
       "<Figure size 432x288 with 1 Axes>"
      ]
     },
     "metadata": {
      "needs_background": "light"
     },
     "output_type": "display_data"
    }
   ],
   "source": [
    "sns.violinplot(data = train, x = 'Sex', y = 'Fare', hue = 'Survived', split = True)"
   ]
  },
  {
   "cell_type": "markdown",
   "metadata": {},
   "source": [
    "- 요금이 저렴 할 경우 죽은 사람이 더 많음"
   ]
  },
  {
   "cell_type": "markdown",
   "metadata": {},
   "source": [
    "####  Text 데이터\n",
    "- name, Ticket\n",
    "- 비정형 데이터를 특성공학을 통해 정형데이터로 만들어보자"
   ]
  },
  {
   "cell_type": "code",
   "execution_count": 115,
   "metadata": {},
   "outputs": [
    {
     "data": {
      "text/plain": [
       "0                                Braund, Mr. Owen Harris\n",
       "1      Cumings, Mrs. John Bradley (Florence Briggs Th...\n",
       "2                                 Heikkinen, Miss. Laina\n",
       "3           Futrelle, Mrs. Jacques Heath (Lily May Peel)\n",
       "4                               Allen, Mr. William Henry\n",
       "                             ...                        \n",
       "886                                Montvila, Rev. Juozas\n",
       "887                         Graham, Miss. Margaret Edith\n",
       "888             Johnston, Miss. Catherine Helen \"Carrie\"\n",
       "889                                Behr, Mr. Karl Howell\n",
       "890                                  Dooley, Mr. Patrick\n",
       "Name: Name, Length: 891, dtype: object"
      ]
     },
     "execution_count": 115,
     "metadata": {},
     "output_type": "execute_result"
    }
   ],
   "source": [
    "train['Name'] "
   ]
  },
  {
   "cell_type": "code",
   "execution_count": 116,
   "metadata": {},
   "outputs": [],
   "source": [
    "# strip : 글자 앞과 뒤의 공백 삭제\n",
    "def split_title(name):\n",
    "    return name.split(',')[1].split('.')[0].strip()"
   ]
  },
  {
   "cell_type": "code",
   "execution_count": 117,
   "metadata": {},
   "outputs": [],
   "source": [
    "train['Title'] = train['Name'].apply(split_title)\n",
    "test['Title'] = test['Name'].apply(split_title)"
   ]
  },
  {
   "cell_type": "code",
   "execution_count": 118,
   "metadata": {},
   "outputs": [],
   "source": [
    "# Name 삭제\n",
    "train.drop('Name', axis = 1, inplace = True)\n",
    "test.drop('Name', axis = 1, inplace = True)"
   ]
  },
  {
   "cell_type": "code",
   "execution_count": 119,
   "metadata": {},
   "outputs": [
    {
     "data": {
      "text/plain": [
       "array(['Mr', 'Mrs', 'Miss', 'Master', 'Don', 'Rev', 'Dr', 'Mme', 'Ms',\n",
       "       'Major', 'Lady', 'Sir', 'Mlle', 'Col', 'Capt', 'the Countess',\n",
       "       'Jonkheer'], dtype=object)"
      ]
     },
     "execution_count": 119,
     "metadata": {},
     "output_type": "execute_result"
    }
   ],
   "source": [
    "# 컬럼 안의 속성 값 파악\n",
    "train['Title'].unique()"
   ]
  },
  {
   "cell_type": "code",
   "execution_count": 120,
   "metadata": {},
   "outputs": [
    {
     "data": {
      "text/plain": [
       "Mr              517\n",
       "Miss            182\n",
       "Mrs             125\n",
       "Master           40\n",
       "Dr                7\n",
       "Rev               6\n",
       "Major             2\n",
       "Col               2\n",
       "Mlle              2\n",
       "Lady              1\n",
       "Capt              1\n",
       "Mme               1\n",
       "Don               1\n",
       "Ms                1\n",
       "the Countess      1\n",
       "Sir               1\n",
       "Jonkheer          1\n",
       "Name: Title, dtype: int64"
      ]
     },
     "execution_count": 120,
     "metadata": {},
     "output_type": "execute_result"
    }
   ],
   "source": [
    "# 컬럼 안의 속성 값 개수 파악\n",
    "train['Title'].value_counts()"
   ]
  },
  {
   "cell_type": "markdown",
   "metadata": {},
   "source": [
    "- 호칭의 범주를 줄여보자\n",
    "- Mr, Mrs, Miss, Mater, Rev, Other\n",
    "- map함수를 활용해서 mapping"
   ]
  },
  {
   "cell_type": "code",
   "execution_count": 121,
   "metadata": {},
   "outputs": [],
   "source": [
    "convert_title_dic = {\n",
    "    'Mr' : 'Mr' , \n",
    "    'Mrs' : 'Mrs', \n",
    "    'Miss' : 'Miss', \n",
    "    'Master' : 'Master', \n",
    "    'Don' : 'Other', \n",
    "    'Rev' : 'Rev', \n",
    "    'Dr': 'Other', \n",
    "    'Mme' : 'Other', \n",
    "    'Ms' : 'Other',\n",
    "    'Major' : 'Other',\n",
    "    'Lady' : 'Other',\n",
    "    'Sir' : 'Other',\n",
    "    'Mlle' : 'Other',\n",
    "    'Col' : 'Other', \n",
    "    'Capt' : 'Other', \n",
    "    'the Countess' : 'Other',\n",
    "    'Jonkheer' : 'Other',\n",
    "    'Dona' : 'Other'\n",
    "}"
   ]
  },
  {
   "cell_type": "code",
   "execution_count": 122,
   "metadata": {},
   "outputs": [],
   "source": [
    "# map함수를 사용하면 알아서 key 값을 변경 시켜줌\n",
    "train['Title'] = train['Title'].map(convert_title_dic)\n",
    "test['Title'] = test['Title'].map(convert_title_dic)"
   ]
  },
  {
   "cell_type": "code",
   "execution_count": 123,
   "metadata": {},
   "outputs": [
    {
     "data": {
      "text/plain": [
       "array(['Mr', 'Mrs', 'Miss', 'Master', 'Other', 'Rev'], dtype=object)"
      ]
     },
     "execution_count": 123,
     "metadata": {},
     "output_type": "execute_result"
    }
   ],
   "source": [
    "train['Title'].unique()"
   ]
  },
  {
   "cell_type": "code",
   "execution_count": 124,
   "metadata": {},
   "outputs": [
    {
     "data": {
      "text/plain": [
       "Mr        517\n",
       "Miss      182\n",
       "Mrs       125\n",
       "Master     40\n",
       "Other      21\n",
       "Rev         6\n",
       "Name: Title, dtype: int64"
      ]
     },
     "execution_count": 124,
     "metadata": {},
     "output_type": "execute_result"
    }
   ],
   "source": [
    "train['Title'].value_counts()"
   ]
  },
  {
   "cell_type": "code",
   "execution_count": 125,
   "metadata": {},
   "outputs": [
    {
     "data": {
      "text/plain": [
       "array(['Mr', 'Mrs', 'Miss', 'Master', 'Other', 'Rev'], dtype=object)"
      ]
     },
     "execution_count": 125,
     "metadata": {},
     "output_type": "execute_result"
    }
   ],
   "source": [
    "test['Title'].unique()"
   ]
  },
  {
   "cell_type": "code",
   "execution_count": 126,
   "metadata": {},
   "outputs": [
    {
     "data": {
      "text/plain": [
       "Mr        240\n",
       "Miss       78\n",
       "Mrs        72\n",
       "Master     21\n",
       "Other       5\n",
       "Rev         2\n",
       "Name: Title, dtype: int64"
      ]
     },
     "execution_count": 126,
     "metadata": {},
     "output_type": "execute_result"
    }
   ],
   "source": [
    "test['Title'].value_counts()"
   ]
  },
  {
   "cell_type": "code",
   "execution_count": 127,
   "metadata": {},
   "outputs": [
    {
     "data": {
      "text/plain": [
       "CA. 2343        7\n",
       "1601            7\n",
       "347082          7\n",
       "347088          6\n",
       "3101295         6\n",
       "               ..\n",
       "F.C.C. 13531    1\n",
       "347076          1\n",
       "315037          1\n",
       "364851          1\n",
       "376566          1\n",
       "Name: Ticket, Length: 681, dtype: int64"
      ]
     },
     "execution_count": 127,
     "metadata": {},
     "output_type": "execute_result"
    }
   ],
   "source": [
    "# Ticket\n",
    "train['Ticket'].value_counts()"
   ]
  },
  {
   "cell_type": "code",
   "execution_count": 128,
   "metadata": {},
   "outputs": [],
   "source": [
    "train.drop('Ticket', axis = 1, inplace = True)\n",
    "test.drop('Ticket', axis = 1, inplace = True)"
   ]
  },
  {
   "cell_type": "code",
   "execution_count": 129,
   "metadata": {},
   "outputs": [
    {
     "data": {
      "text/plain": [
       "((891, 12), (418, 11))"
      ]
     },
     "execution_count": 129,
     "metadata": {},
     "output_type": "execute_result"
    }
   ],
   "source": [
    "train.shape, test.shape"
   ]
  },
  {
   "cell_type": "markdown",
   "metadata": {},
   "source": [
    "#### 글자 데이터를 숫자 데이터로 변경해보자\n",
    "- 모델은 수치데이터만 학습할 수 있기 때문에 글자 데이터를 수치 데이터로 바꿈\n",
    "- 문자 컬럼 : Sex, cabin, Embarked, Family_Group, Title"
   ]
  },
  {
   "cell_type": "code",
   "execution_count": 130,
   "metadata": {},
   "outputs": [],
   "source": [
    "# 원핫인코딩에 대한 컬럼만 추가해 둔 상태\n",
    "categorical_feature = ['Sex', 'Cabin','Embarked', 'Family_Group', 'Title']"
   ]
  },
  {
   "cell_type": "code",
   "execution_count": 131,
   "metadata": {},
   "outputs": [
    {
     "data": {
      "text/plain": [
       "((891, 12), (418, 11))"
      ]
     },
     "execution_count": 131,
     "metadata": {},
     "output_type": "execute_result"
    }
   ],
   "source": [
    "train.shape, test.shape"
   ]
  },
  {
   "cell_type": "code",
   "execution_count": 132,
   "metadata": {},
   "outputs": [],
   "source": [
    "y_train = train['Survived']\n",
    "train.drop('Survived', axis =1, inplace = True)"
   ]
  },
  {
   "cell_type": "code",
   "execution_count": 133,
   "metadata": {},
   "outputs": [
    {
     "data": {
      "text/plain": [
       "((891, 11), (418, 11))"
      ]
     },
     "execution_count": 133,
     "metadata": {},
     "output_type": "execute_result"
    }
   ],
   "source": [
    "train.shape, test.shape"
   ]
  },
  {
   "cell_type": "code",
   "execution_count": 134,
   "metadata": {},
   "outputs": [],
   "source": [
    "# concat : 행, 열을 기준으로 데이터프레임를 합침\n",
    "# merge : 데이터를 기준으로 데이터프레임을 합침\n",
    "\n",
    "\n",
    "# ignore_index => 기존의 인덱스 번호(train<~890> / test<~417>)를 무시하고 \n",
    "# 데이터 총 인덱스 번호(891+418=1308)를 나타내줌\n",
    "combine = pd.concat([train,test], ignore_index =True)"
   ]
  },
  {
   "cell_type": "code",
   "execution_count": 135,
   "metadata": {},
   "outputs": [],
   "source": [
    "# 원핫 인코딩\n",
    "# get_dummies\n",
    "one_hot = pd.get_dummies(combine[categorical_feature])"
   ]
  },
  {
   "cell_type": "code",
   "execution_count": 136,
   "metadata": {},
   "outputs": [],
   "source": [
    "# 기존 글자데이터 지우기\n",
    "combine.drop(categorical_feature, axis = 1, inplace = True)"
   ]
  },
  {
   "cell_type": "code",
   "execution_count": 137,
   "metadata": {},
   "outputs": [],
   "source": [
    "# 원핫 인코딩 데이터 합치기\n",
    "total_combine = pd.concat([combine, one_hot], axis = 1)"
   ]
  },
  {
   "cell_type": "code",
   "execution_count": 138,
   "metadata": {},
   "outputs": [
    {
     "data": {
      "text/html": [
       "<div>\n",
       "<style scoped>\n",
       "    .dataframe tbody tr th:only-of-type {\n",
       "        vertical-align: middle;\n",
       "    }\n",
       "\n",
       "    .dataframe tbody tr th {\n",
       "        vertical-align: top;\n",
       "    }\n",
       "\n",
       "    .dataframe thead th {\n",
       "        text-align: right;\n",
       "    }\n",
       "</style>\n",
       "<table border=\"1\" class=\"dataframe\">\n",
       "  <thead>\n",
       "    <tr style=\"text-align: right;\">\n",
       "      <th></th>\n",
       "      <th>Pclass</th>\n",
       "      <th>Age</th>\n",
       "      <th>SibSp</th>\n",
       "      <th>Parch</th>\n",
       "      <th>Fare</th>\n",
       "      <th>Family_Size</th>\n",
       "      <th>Sex_female</th>\n",
       "      <th>Sex_male</th>\n",
       "      <th>Cabin_A</th>\n",
       "      <th>Cabin_B</th>\n",
       "      <th>...</th>\n",
       "      <th>Embarked_s</th>\n",
       "      <th>Family_Group_Alone</th>\n",
       "      <th>Family_Group_Small</th>\n",
       "      <th>Family_Group_Large</th>\n",
       "      <th>Title_Master</th>\n",
       "      <th>Title_Miss</th>\n",
       "      <th>Title_Mr</th>\n",
       "      <th>Title_Mrs</th>\n",
       "      <th>Title_Other</th>\n",
       "      <th>Title_Rev</th>\n",
       "    </tr>\n",
       "  </thead>\n",
       "  <tbody>\n",
       "    <tr>\n",
       "      <th>0</th>\n",
       "      <td>3</td>\n",
       "      <td>22.0</td>\n",
       "      <td>1</td>\n",
       "      <td>0</td>\n",
       "      <td>7.2500</td>\n",
       "      <td>2</td>\n",
       "      <td>0</td>\n",
       "      <td>1</td>\n",
       "      <td>0</td>\n",
       "      <td>0</td>\n",
       "      <td>...</td>\n",
       "      <td>0</td>\n",
       "      <td>0</td>\n",
       "      <td>1</td>\n",
       "      <td>0</td>\n",
       "      <td>0</td>\n",
       "      <td>0</td>\n",
       "      <td>1</td>\n",
       "      <td>0</td>\n",
       "      <td>0</td>\n",
       "      <td>0</td>\n",
       "    </tr>\n",
       "    <tr>\n",
       "      <th>1</th>\n",
       "      <td>1</td>\n",
       "      <td>38.0</td>\n",
       "      <td>1</td>\n",
       "      <td>0</td>\n",
       "      <td>71.2833</td>\n",
       "      <td>2</td>\n",
       "      <td>1</td>\n",
       "      <td>0</td>\n",
       "      <td>0</td>\n",
       "      <td>0</td>\n",
       "      <td>...</td>\n",
       "      <td>0</td>\n",
       "      <td>0</td>\n",
       "      <td>1</td>\n",
       "      <td>0</td>\n",
       "      <td>0</td>\n",
       "      <td>0</td>\n",
       "      <td>0</td>\n",
       "      <td>1</td>\n",
       "      <td>0</td>\n",
       "      <td>0</td>\n",
       "    </tr>\n",
       "    <tr>\n",
       "      <th>2</th>\n",
       "      <td>3</td>\n",
       "      <td>26.0</td>\n",
       "      <td>0</td>\n",
       "      <td>0</td>\n",
       "      <td>7.9250</td>\n",
       "      <td>1</td>\n",
       "      <td>1</td>\n",
       "      <td>0</td>\n",
       "      <td>0</td>\n",
       "      <td>0</td>\n",
       "      <td>...</td>\n",
       "      <td>0</td>\n",
       "      <td>1</td>\n",
       "      <td>0</td>\n",
       "      <td>0</td>\n",
       "      <td>0</td>\n",
       "      <td>1</td>\n",
       "      <td>0</td>\n",
       "      <td>0</td>\n",
       "      <td>0</td>\n",
       "      <td>0</td>\n",
       "    </tr>\n",
       "    <tr>\n",
       "      <th>3</th>\n",
       "      <td>1</td>\n",
       "      <td>35.0</td>\n",
       "      <td>1</td>\n",
       "      <td>0</td>\n",
       "      <td>53.1000</td>\n",
       "      <td>2</td>\n",
       "      <td>1</td>\n",
       "      <td>0</td>\n",
       "      <td>0</td>\n",
       "      <td>0</td>\n",
       "      <td>...</td>\n",
       "      <td>0</td>\n",
       "      <td>0</td>\n",
       "      <td>1</td>\n",
       "      <td>0</td>\n",
       "      <td>0</td>\n",
       "      <td>0</td>\n",
       "      <td>0</td>\n",
       "      <td>1</td>\n",
       "      <td>0</td>\n",
       "      <td>0</td>\n",
       "    </tr>\n",
       "    <tr>\n",
       "      <th>4</th>\n",
       "      <td>3</td>\n",
       "      <td>35.0</td>\n",
       "      <td>0</td>\n",
       "      <td>0</td>\n",
       "      <td>8.0500</td>\n",
       "      <td>1</td>\n",
       "      <td>0</td>\n",
       "      <td>1</td>\n",
       "      <td>0</td>\n",
       "      <td>0</td>\n",
       "      <td>...</td>\n",
       "      <td>0</td>\n",
       "      <td>1</td>\n",
       "      <td>0</td>\n",
       "      <td>0</td>\n",
       "      <td>0</td>\n",
       "      <td>0</td>\n",
       "      <td>1</td>\n",
       "      <td>0</td>\n",
       "      <td>0</td>\n",
       "      <td>0</td>\n",
       "    </tr>\n",
       "    <tr>\n",
       "      <th>...</th>\n",
       "      <td>...</td>\n",
       "      <td>...</td>\n",
       "      <td>...</td>\n",
       "      <td>...</td>\n",
       "      <td>...</td>\n",
       "      <td>...</td>\n",
       "      <td>...</td>\n",
       "      <td>...</td>\n",
       "      <td>...</td>\n",
       "      <td>...</td>\n",
       "      <td>...</td>\n",
       "      <td>...</td>\n",
       "      <td>...</td>\n",
       "      <td>...</td>\n",
       "      <td>...</td>\n",
       "      <td>...</td>\n",
       "      <td>...</td>\n",
       "      <td>...</td>\n",
       "      <td>...</td>\n",
       "      <td>...</td>\n",
       "      <td>...</td>\n",
       "    </tr>\n",
       "    <tr>\n",
       "      <th>1304</th>\n",
       "      <td>3</td>\n",
       "      <td>30.0</td>\n",
       "      <td>0</td>\n",
       "      <td>0</td>\n",
       "      <td>8.0500</td>\n",
       "      <td>1</td>\n",
       "      <td>0</td>\n",
       "      <td>1</td>\n",
       "      <td>0</td>\n",
       "      <td>0</td>\n",
       "      <td>...</td>\n",
       "      <td>0</td>\n",
       "      <td>1</td>\n",
       "      <td>0</td>\n",
       "      <td>0</td>\n",
       "      <td>0</td>\n",
       "      <td>0</td>\n",
       "      <td>1</td>\n",
       "      <td>0</td>\n",
       "      <td>0</td>\n",
       "      <td>0</td>\n",
       "    </tr>\n",
       "    <tr>\n",
       "      <th>1305</th>\n",
       "      <td>1</td>\n",
       "      <td>44.0</td>\n",
       "      <td>0</td>\n",
       "      <td>0</td>\n",
       "      <td>108.9000</td>\n",
       "      <td>1</td>\n",
       "      <td>1</td>\n",
       "      <td>0</td>\n",
       "      <td>0</td>\n",
       "      <td>0</td>\n",
       "      <td>...</td>\n",
       "      <td>0</td>\n",
       "      <td>1</td>\n",
       "      <td>0</td>\n",
       "      <td>0</td>\n",
       "      <td>0</td>\n",
       "      <td>0</td>\n",
       "      <td>0</td>\n",
       "      <td>0</td>\n",
       "      <td>1</td>\n",
       "      <td>0</td>\n",
       "    </tr>\n",
       "    <tr>\n",
       "      <th>1306</th>\n",
       "      <td>3</td>\n",
       "      <td>21.5</td>\n",
       "      <td>0</td>\n",
       "      <td>0</td>\n",
       "      <td>7.2500</td>\n",
       "      <td>1</td>\n",
       "      <td>0</td>\n",
       "      <td>1</td>\n",
       "      <td>0</td>\n",
       "      <td>0</td>\n",
       "      <td>...</td>\n",
       "      <td>0</td>\n",
       "      <td>1</td>\n",
       "      <td>0</td>\n",
       "      <td>0</td>\n",
       "      <td>0</td>\n",
       "      <td>0</td>\n",
       "      <td>1</td>\n",
       "      <td>0</td>\n",
       "      <td>0</td>\n",
       "      <td>0</td>\n",
       "    </tr>\n",
       "    <tr>\n",
       "      <th>1307</th>\n",
       "      <td>3</td>\n",
       "      <td>34.0</td>\n",
       "      <td>0</td>\n",
       "      <td>0</td>\n",
       "      <td>8.0500</td>\n",
       "      <td>1</td>\n",
       "      <td>0</td>\n",
       "      <td>1</td>\n",
       "      <td>0</td>\n",
       "      <td>0</td>\n",
       "      <td>...</td>\n",
       "      <td>0</td>\n",
       "      <td>1</td>\n",
       "      <td>0</td>\n",
       "      <td>0</td>\n",
       "      <td>0</td>\n",
       "      <td>0</td>\n",
       "      <td>1</td>\n",
       "      <td>0</td>\n",
       "      <td>0</td>\n",
       "      <td>0</td>\n",
       "    </tr>\n",
       "    <tr>\n",
       "      <th>1308</th>\n",
       "      <td>3</td>\n",
       "      <td>18.0</td>\n",
       "      <td>1</td>\n",
       "      <td>1</td>\n",
       "      <td>22.3583</td>\n",
       "      <td>3</td>\n",
       "      <td>0</td>\n",
       "      <td>1</td>\n",
       "      <td>0</td>\n",
       "      <td>0</td>\n",
       "      <td>...</td>\n",
       "      <td>0</td>\n",
       "      <td>0</td>\n",
       "      <td>1</td>\n",
       "      <td>0</td>\n",
       "      <td>1</td>\n",
       "      <td>0</td>\n",
       "      <td>0</td>\n",
       "      <td>0</td>\n",
       "      <td>0</td>\n",
       "      <td>0</td>\n",
       "    </tr>\n",
       "  </tbody>\n",
       "</table>\n",
       "<p>1309 rows × 30 columns</p>\n",
       "</div>"
      ],
      "text/plain": [
       "      Pclass   Age  SibSp  Parch      Fare  Family_Size  Sex_female  Sex_male  \\\n",
       "0          3  22.0      1      0    7.2500            2           0         1   \n",
       "1          1  38.0      1      0   71.2833            2           1         0   \n",
       "2          3  26.0      0      0    7.9250            1           1         0   \n",
       "3          1  35.0      1      0   53.1000            2           1         0   \n",
       "4          3  35.0      0      0    8.0500            1           0         1   \n",
       "...      ...   ...    ...    ...       ...          ...         ...       ...   \n",
       "1304       3  30.0      0      0    8.0500            1           0         1   \n",
       "1305       1  44.0      0      0  108.9000            1           1         0   \n",
       "1306       3  21.5      0      0    7.2500            1           0         1   \n",
       "1307       3  34.0      0      0    8.0500            1           0         1   \n",
       "1308       3  18.0      1      1   22.3583            3           0         1   \n",
       "\n",
       "      Cabin_A  Cabin_B  ...  Embarked_s  Family_Group_Alone  \\\n",
       "0           0        0  ...           0                   0   \n",
       "1           0        0  ...           0                   0   \n",
       "2           0        0  ...           0                   1   \n",
       "3           0        0  ...           0                   0   \n",
       "4           0        0  ...           0                   1   \n",
       "...       ...      ...  ...         ...                 ...   \n",
       "1304        0        0  ...           0                   1   \n",
       "1305        0        0  ...           0                   1   \n",
       "1306        0        0  ...           0                   1   \n",
       "1307        0        0  ...           0                   1   \n",
       "1308        0        0  ...           0                   0   \n",
       "\n",
       "      Family_Group_Small  Family_Group_Large  Title_Master  Title_Miss  \\\n",
       "0                      1                   0             0           0   \n",
       "1                      1                   0             0           0   \n",
       "2                      0                   0             0           1   \n",
       "3                      1                   0             0           0   \n",
       "4                      0                   0             0           0   \n",
       "...                  ...                 ...           ...         ...   \n",
       "1304                   0                   0             0           0   \n",
       "1305                   0                   0             0           0   \n",
       "1306                   0                   0             0           0   \n",
       "1307                   0                   0             0           0   \n",
       "1308                   1                   0             1           0   \n",
       "\n",
       "      Title_Mr  Title_Mrs  Title_Other  Title_Rev  \n",
       "0            1          0            0          0  \n",
       "1            0          1            0          0  \n",
       "2            0          0            0          0  \n",
       "3            0          1            0          0  \n",
       "4            1          0            0          0  \n",
       "...        ...        ...          ...        ...  \n",
       "1304         1          0            0          0  \n",
       "1305         0          0            1          0  \n",
       "1306         1          0            0          0  \n",
       "1307         1          0            0          0  \n",
       "1308         0          0            0          0  \n",
       "\n",
       "[1309 rows x 30 columns]"
      ]
     },
     "execution_count": 138,
     "metadata": {},
     "output_type": "execute_result"
    }
   ],
   "source": [
    "total_combine"
   ]
  },
  {
   "cell_type": "code",
   "execution_count": 139,
   "metadata": {},
   "outputs": [
    {
     "data": {
      "text/plain": [
       "(1309, 30)"
      ]
     },
     "execution_count": 139,
     "metadata": {},
     "output_type": "execute_result"
    }
   ],
   "source": [
    "total_combine.shape"
   ]
  },
  {
   "cell_type": "markdown",
   "metadata": {},
   "source": [
    "# 5. 모델 선택 및 하이퍼파라미터 조정"
   ]
  },
  {
   "cell_type": "code",
   "execution_count": 140,
   "metadata": {},
   "outputs": [],
   "source": [
    "from sklearn.tree import DecisionTreeClassifier\n",
    "tree_model = DecisionTreeClassifier(max_depth = 6)"
   ]
  },
  {
   "cell_type": "markdown",
   "metadata": {},
   "source": [
    "# 6. 학습"
   ]
  },
  {
   "cell_type": "code",
   "execution_count": 141,
   "metadata": {},
   "outputs": [
    {
     "name": "stdout",
     "output_type": "stream",
     "text": [
      "(891, 30)\n",
      "(418, 30)\n",
      "(891,)\n"
     ]
    }
   ],
   "source": [
    "X_train = total_combine.iloc[:891]\n",
    "X_test = total_combine.iloc[891:]\n",
    "print(X_train.shape)\n",
    "print(X_test.shape)\n",
    "print(y_train.shape)"
   ]
  },
  {
   "cell_type": "code",
   "execution_count": 142,
   "metadata": {},
   "outputs": [
    {
     "data": {
      "text/plain": [
       "DecisionTreeClassifier(max_depth=6)"
      ]
     },
     "execution_count": 142,
     "metadata": {},
     "output_type": "execute_result"
    }
   ],
   "source": [
    "tree_model.fit(X_train, y_train)"
   ]
  },
  {
   "cell_type": "code",
   "execution_count": 143,
   "metadata": {},
   "outputs": [
    {
     "name": "stdout",
     "output_type": "stream",
     "text": [
      "Requirement already satisfied: graphviz in c:\\users\\smhrd\\anaconda3\\lib\\site-packages (0.16)\n"
     ]
    }
   ],
   "source": [
    "from sklearn.tree import export_graphviz\n",
    "# .dot 파일로 export 해줍니다\n",
    "export_graphviz(tree_model, out_file='tree.dot', filled=True, impurity=False)\n",
    "\n",
    "import os\n",
    "os.environ[\"PATH\"] += os.pathsep + 'C:/Program Files/Graphviz/bin/'\n",
    "\n",
    "from subprocess import check_call\n",
    "check_call(['dot','-Tpng','tree.dot','-o','tree.png'])\n",
    "\n",
    "!pip install graphviz\n",
    "\n",
    "import graphviz"
   ]
  },
  {
   "cell_type": "code",
   "execution_count": 144,
   "metadata": {},
   "outputs": [
    {
     "data": {
      "image/svg+xml": [
       "<?xml version=\"1.0\" encoding=\"UTF-8\" standalone=\"no\"?>\r\n",
       "<!DOCTYPE svg PUBLIC \"-//W3C//DTD SVG 1.1//EN\"\r\n",
       " \"http://www.w3.org/Graphics/SVG/1.1/DTD/svg11.dtd\">\r\n",
       "<!-- Generated by graphviz version 2.46.1 (20210213.1702)\r\n",
       " -->\r\n",
       "<!-- Title: Tree Pages: 1 -->\r\n",
       "<svg width=\"2627pt\" height=\"580pt\"\r\n",
       " viewBox=\"0.00 0.00 2626.50 580.00\" xmlns=\"http://www.w3.org/2000/svg\" xmlns:xlink=\"http://www.w3.org/1999/xlink\">\r\n",
       "<g id=\"graph0\" class=\"graph\" transform=\"scale(1 1) rotate(0) translate(4 576)\">\r\n",
       "<title>Tree</title>\r\n",
       "<polygon fill=\"white\" stroke=\"transparent\" points=\"-4,4 -4,-576 2622.5,-576 2622.5,4 -4,4\"/>\r\n",
       "<!-- 0 -->\r\n",
       "<g id=\"node1\" class=\"node\">\r\n",
       "<title>0</title>\r\n",
       "<polygon fill=\"#f5cfb4\" stroke=\"black\" points=\"1345,-572 1227,-572 1227,-519 1345,-519 1345,-572\"/>\r\n",
       "<text text-anchor=\"middle\" x=\"1286\" y=\"-556.8\" font-family=\"Times New Roman,serif\" font-size=\"14.00\">X[26] &lt;= 0.5</text>\r\n",
       "<text text-anchor=\"middle\" x=\"1286\" y=\"-541.8\" font-family=\"Times New Roman,serif\" font-size=\"14.00\">samples = 891</text>\r\n",
       "<text text-anchor=\"middle\" x=\"1286\" y=\"-526.8\" font-family=\"Times New Roman,serif\" font-size=\"14.00\">value = [549, 342]</text>\r\n",
       "</g>\r\n",
       "<!-- 1 -->\r\n",
       "<g id=\"node2\" class=\"node\">\r\n",
       "<title>1</title>\r\n",
       "<polygon fill=\"#8fc7f0\" stroke=\"black\" points=\"992,-483 874,-483 874,-430 992,-430 992,-483\"/>\r\n",
       "<text text-anchor=\"middle\" x=\"933\" y=\"-467.8\" font-family=\"Times New Roman,serif\" font-size=\"14.00\">X[23] &lt;= 0.5</text>\r\n",
       "<text text-anchor=\"middle\" x=\"933\" y=\"-452.8\" font-family=\"Times New Roman,serif\" font-size=\"14.00\">samples = 374</text>\r\n",
       "<text text-anchor=\"middle\" x=\"933\" y=\"-437.8\" font-family=\"Times New Roman,serif\" font-size=\"14.00\">value = [113, 261]</text>\r\n",
       "</g>\r\n",
       "<!-- 0&#45;&gt;1 -->\r\n",
       "<g id=\"edge1\" class=\"edge\">\r\n",
       "<title>0&#45;&gt;1</title>\r\n",
       "<path fill=\"none\" stroke=\"black\" d=\"M1226.92,-529.94C1164.94,-514.66 1067.6,-490.67 1002.1,-474.53\"/>\r\n",
       "<polygon fill=\"black\" stroke=\"black\" points=\"1002.82,-471.1 992.28,-472.11 1001.15,-477.9 1002.82,-471.1\"/>\r\n",
       "<text text-anchor=\"middle\" x=\"1005.21\" y=\"-489.8\" font-family=\"Times New Roman,serif\" font-size=\"14.00\">True</text>\r\n",
       "</g>\r\n",
       "<!-- 30 -->\r\n",
       "<g id=\"node31\" class=\"node\">\r\n",
       "<title>30</title>\r\n",
       "<polygon fill=\"#ea985e\" stroke=\"black\" points=\"1664.5,-483 1553.5,-483 1553.5,-430 1664.5,-430 1664.5,-483\"/>\r\n",
       "<text text-anchor=\"middle\" x=\"1609\" y=\"-467.8\" font-family=\"Times New Roman,serif\" font-size=\"14.00\">X[4] &lt;= 26.269</text>\r\n",
       "<text text-anchor=\"middle\" x=\"1609\" y=\"-452.8\" font-family=\"Times New Roman,serif\" font-size=\"14.00\">samples = 517</text>\r\n",
       "<text text-anchor=\"middle\" x=\"1609\" y=\"-437.8\" font-family=\"Times New Roman,serif\" font-size=\"14.00\">value = [436, 81]</text>\r\n",
       "</g>\r\n",
       "<!-- 0&#45;&gt;30 -->\r\n",
       "<g id=\"edge30\" class=\"edge\">\r\n",
       "<title>0&#45;&gt;30</title>\r\n",
       "<path fill=\"none\" stroke=\"black\" d=\"M1345.24,-528.54C1401.37,-513.43 1485.48,-490.77 1543.56,-475.13\"/>\r\n",
       "<polygon fill=\"black\" stroke=\"black\" points=\"1544.63,-478.46 1553.37,-472.48 1542.8,-471.71 1544.63,-478.46\"/>\r\n",
       "<text text-anchor=\"middle\" x=\"1540.9\" y=\"-490.45\" font-family=\"Times New Roman,serif\" font-size=\"14.00\">False</text>\r\n",
       "</g>\r\n",
       "<!-- 2 -->\r\n",
       "<g id=\"node3\" class=\"node\">\r\n",
       "<title>2</title>\r\n",
       "<polygon fill=\"#72b9ec\" stroke=\"black\" points=\"809.5,-394 698.5,-394 698.5,-341 809.5,-341 809.5,-394\"/>\r\n",
       "<text text-anchor=\"middle\" x=\"754\" y=\"-378.8\" font-family=\"Times New Roman,serif\" font-size=\"14.00\">X[4] &lt;= 18.375</text>\r\n",
       "<text text-anchor=\"middle\" x=\"754\" y=\"-363.8\" font-family=\"Times New Roman,serif\" font-size=\"14.00\">samples = 323</text>\r\n",
       "<text text-anchor=\"middle\" x=\"754\" y=\"-348.8\" font-family=\"Times New Roman,serif\" font-size=\"14.00\">value = [72, 251]</text>\r\n",
       "</g>\r\n",
       "<!-- 1&#45;&gt;2 -->\r\n",
       "<g id=\"edge2\" class=\"edge\">\r\n",
       "<title>1&#45;&gt;2</title>\r\n",
       "<path fill=\"none\" stroke=\"black\" d=\"M880.26,-429.87C860.05,-420.04 836.81,-408.75 815.82,-398.55\"/>\r\n",
       "<polygon fill=\"black\" stroke=\"black\" points=\"817.19,-395.32 806.67,-394.1 814.13,-401.62 817.19,-395.32\"/>\r\n",
       "</g>\r\n",
       "<!-- 21 -->\r\n",
       "<g id=\"node22\" class=\"node\">\r\n",
       "<title>21</title>\r\n",
       "<polygon fill=\"#eba069\" stroke=\"black\" points=\"985,-394 881,-394 881,-341 985,-341 985,-394\"/>\r\n",
       "<text text-anchor=\"middle\" x=\"933\" y=\"-378.8\" font-family=\"Times New Roman,serif\" font-size=\"14.00\">X[0] &lt;= 2.5</text>\r\n",
       "<text text-anchor=\"middle\" x=\"933\" y=\"-363.8\" font-family=\"Times New Roman,serif\" font-size=\"14.00\">samples = 51</text>\r\n",
       "<text text-anchor=\"middle\" x=\"933\" y=\"-348.8\" font-family=\"Times New Roman,serif\" font-size=\"14.00\">value = [41, 10]</text>\r\n",
       "</g>\r\n",
       "<!-- 1&#45;&gt;21 -->\r\n",
       "<g id=\"edge21\" class=\"edge\">\r\n",
       "<title>1&#45;&gt;21</title>\r\n",
       "<path fill=\"none\" stroke=\"black\" d=\"M933,-429.87C933,-421.89 933,-412.93 933,-404.38\"/>\r\n",
       "<polygon fill=\"black\" stroke=\"black\" points=\"936.5,-404.25 933,-394.25 929.5,-404.25 936.5,-404.25\"/>\r\n",
       "</g>\r\n",
       "<!-- 3 -->\r\n",
       "<g id=\"node4\" class=\"node\">\r\n",
       "<title>3</title>\r\n",
       "<polygon fill=\"#a8d4f4\" stroke=\"black\" points=\"538,-305 434,-305 434,-252 538,-252 538,-305\"/>\r\n",
       "<text text-anchor=\"middle\" x=\"486\" y=\"-289.8\" font-family=\"Times New Roman,serif\" font-size=\"14.00\">X[29] &lt;= 0.5</text>\r\n",
       "<text text-anchor=\"middle\" x=\"486\" y=\"-274.8\" font-family=\"Times New Roman,serif\" font-size=\"14.00\">samples = 150</text>\r\n",
       "<text text-anchor=\"middle\" x=\"486\" y=\"-259.8\" font-family=\"Times New Roman,serif\" font-size=\"14.00\">value = [54, 96]</text>\r\n",
       "</g>\r\n",
       "<!-- 2&#45;&gt;3 -->\r\n",
       "<g id=\"edge3\" class=\"edge\">\r\n",
       "<title>2&#45;&gt;3</title>\r\n",
       "<path fill=\"none\" stroke=\"black\" d=\"M698.47,-348.47C654.62,-334.24 593.46,-314.38 548.01,-299.63\"/>\r\n",
       "<polygon fill=\"black\" stroke=\"black\" points=\"548.86,-296.23 538.27,-296.47 546.7,-302.89 548.86,-296.23\"/>\r\n",
       "</g>\r\n",
       "<!-- 12 -->\r\n",
       "<g id=\"node13\" class=\"node\">\r\n",
       "<title>12</title>\r\n",
       "<polygon fill=\"#50a8e8\" stroke=\"black\" points=\"809.5,-305 698.5,-305 698.5,-252 809.5,-252 809.5,-305\"/>\r\n",
       "<text text-anchor=\"middle\" x=\"754\" y=\"-289.8\" font-family=\"Times New Roman,serif\" font-size=\"14.00\">X[29] &lt;= 0.5</text>\r\n",
       "<text text-anchor=\"middle\" x=\"754\" y=\"-274.8\" font-family=\"Times New Roman,serif\" font-size=\"14.00\">samples = 173</text>\r\n",
       "<text text-anchor=\"middle\" x=\"754\" y=\"-259.8\" font-family=\"Times New Roman,serif\" font-size=\"14.00\">value = [18, 155]</text>\r\n",
       "</g>\r\n",
       "<!-- 2&#45;&gt;12 -->\r\n",
       "<g id=\"edge12\" class=\"edge\">\r\n",
       "<title>2&#45;&gt;12</title>\r\n",
       "<path fill=\"none\" stroke=\"black\" d=\"M754,-340.87C754,-332.89 754,-323.93 754,-315.38\"/>\r\n",
       "<polygon fill=\"black\" stroke=\"black\" points=\"757.5,-315.25 754,-305.25 750.5,-315.25 757.5,-315.25\"/>\r\n",
       "</g>\r\n",
       "<!-- 4 -->\r\n",
       "<g id=\"node5\" class=\"node\">\r\n",
       "<title>4</title>\r\n",
       "<polygon fill=\"#a0d0f3\" stroke=\"black\" points=\"391,-216 287,-216 287,-163 391,-163 391,-216\"/>\r\n",
       "<text text-anchor=\"middle\" x=\"339\" y=\"-200.8\" font-family=\"Times New Roman,serif\" font-size=\"14.00\">X[0] &lt;= 2.5</text>\r\n",
       "<text text-anchor=\"middle\" x=\"339\" y=\"-185.8\" font-family=\"Times New Roman,serif\" font-size=\"14.00\">samples = 146</text>\r\n",
       "<text text-anchor=\"middle\" x=\"339\" y=\"-170.8\" font-family=\"Times New Roman,serif\" font-size=\"14.00\">value = [50, 96]</text>\r\n",
       "</g>\r\n",
       "<!-- 3&#45;&gt;4 -->\r\n",
       "<g id=\"edge4\" class=\"edge\">\r\n",
       "<title>3&#45;&gt;4</title>\r\n",
       "<path fill=\"none\" stroke=\"black\" d=\"M442.69,-251.87C426.46,-242.26 407.86,-231.25 390.93,-221.24\"/>\r\n",
       "<polygon fill=\"black\" stroke=\"black\" points=\"392.64,-218.18 382.25,-216.1 389.08,-224.2 392.64,-218.18\"/>\r\n",
       "</g>\r\n",
       "<!-- 11 -->\r\n",
       "<g id=\"node12\" class=\"node\">\r\n",
       "<title>11</title>\r\n",
       "<polygon fill=\"#e58139\" stroke=\"black\" points=\"531.5,-208.5 440.5,-208.5 440.5,-170.5 531.5,-170.5 531.5,-208.5\"/>\r\n",
       "<text text-anchor=\"middle\" x=\"486\" y=\"-193.3\" font-family=\"Times New Roman,serif\" font-size=\"14.00\">samples = 4</text>\r\n",
       "<text text-anchor=\"middle\" x=\"486\" y=\"-178.3\" font-family=\"Times New Roman,serif\" font-size=\"14.00\">value = [4, 0]</text>\r\n",
       "</g>\r\n",
       "<!-- 3&#45;&gt;11 -->\r\n",
       "<g id=\"edge11\" class=\"edge\">\r\n",
       "<title>3&#45;&gt;11</title>\r\n",
       "<path fill=\"none\" stroke=\"black\" d=\"M486,-251.87C486,-241.42 486,-229.3 486,-218.61\"/>\r\n",
       "<polygon fill=\"black\" stroke=\"black\" points=\"489.5,-218.51 486,-208.51 482.5,-218.51 489.5,-218.51\"/>\r\n",
       "</g>\r\n",
       "<!-- 5 -->\r\n",
       "<g id=\"node6\" class=\"node\">\r\n",
       "<title>5</title>\r\n",
       "<polygon fill=\"#61b1ea\" stroke=\"black\" points=\"211,-127 113,-127 113,-74 211,-74 211,-127\"/>\r\n",
       "<text text-anchor=\"middle\" x=\"162\" y=\"-111.8\" font-family=\"Times New Roman,serif\" font-size=\"14.00\">X[28] &lt;= 0.5</text>\r\n",
       "<text text-anchor=\"middle\" x=\"162\" y=\"-96.8\" font-family=\"Times New Roman,serif\" font-size=\"14.00\">samples = 36</text>\r\n",
       "<text text-anchor=\"middle\" x=\"162\" y=\"-81.8\" font-family=\"Times New Roman,serif\" font-size=\"14.00\">value = [6, 30]</text>\r\n",
       "</g>\r\n",
       "<!-- 4&#45;&gt;5 -->\r\n",
       "<g id=\"edge5\" class=\"edge\">\r\n",
       "<title>4&#45;&gt;5</title>\r\n",
       "<path fill=\"none\" stroke=\"black\" d=\"M286.85,-162.87C265.88,-152.56 241.62,-140.64 220.09,-130.05\"/>\r\n",
       "<polygon fill=\"black\" stroke=\"black\" points=\"221.57,-126.88 211.05,-125.61 218.48,-133.16 221.57,-126.88\"/>\r\n",
       "</g>\r\n",
       "<!-- 8 -->\r\n",
       "<g id=\"node9\" class=\"node\">\r\n",
       "<title>8</title>\r\n",
       "<polygon fill=\"#bddef6\" stroke=\"black\" points=\"391,-127 287,-127 287,-74 391,-74 391,-127\"/>\r\n",
       "<text text-anchor=\"middle\" x=\"339\" y=\"-111.8\" font-family=\"Times New Roman,serif\" font-size=\"14.00\">X[1] &lt;= 27.5</text>\r\n",
       "<text text-anchor=\"middle\" x=\"339\" y=\"-96.8\" font-family=\"Times New Roman,serif\" font-size=\"14.00\">samples = 110</text>\r\n",
       "<text text-anchor=\"middle\" x=\"339\" y=\"-81.8\" font-family=\"Times New Roman,serif\" font-size=\"14.00\">value = [44, 66]</text>\r\n",
       "</g>\r\n",
       "<!-- 4&#45;&gt;8 -->\r\n",
       "<g id=\"edge8\" class=\"edge\">\r\n",
       "<title>4&#45;&gt;8</title>\r\n",
       "<path fill=\"none\" stroke=\"black\" d=\"M339,-162.87C339,-154.89 339,-145.93 339,-137.38\"/>\r\n",
       "<polygon fill=\"black\" stroke=\"black\" points=\"342.5,-137.25 339,-127.25 335.5,-137.25 342.5,-137.25\"/>\r\n",
       "</g>\r\n",
       "<!-- 6 -->\r\n",
       "<g id=\"node7\" class=\"node\">\r\n",
       "<title>6</title>\r\n",
       "<polygon fill=\"#4da7e8\" stroke=\"black\" points=\"98,-38 0,-38 0,0 98,0 98,-38\"/>\r\n",
       "<text text-anchor=\"middle\" x=\"49\" y=\"-22.8\" font-family=\"Times New Roman,serif\" font-size=\"14.00\">samples = 32</text>\r\n",
       "<text text-anchor=\"middle\" x=\"49\" y=\"-7.8\" font-family=\"Times New Roman,serif\" font-size=\"14.00\">value = [3, 29]</text>\r\n",
       "</g>\r\n",
       "<!-- 5&#45;&gt;6 -->\r\n",
       "<g id=\"edge6\" class=\"edge\">\r\n",
       "<title>5&#45;&gt;6</title>\r\n",
       "<path fill=\"none\" stroke=\"black\" d=\"M125.62,-73.91C112.08,-64.38 96.75,-53.59 83.39,-44.19\"/>\r\n",
       "<polygon fill=\"black\" stroke=\"black\" points=\"85.12,-41.13 74.92,-38.24 81.09,-46.86 85.12,-41.13\"/>\r\n",
       "</g>\r\n",
       "<!-- 7 -->\r\n",
       "<g id=\"node8\" class=\"node\">\r\n",
       "<title>7</title>\r\n",
       "<polygon fill=\"#eeab7b\" stroke=\"black\" points=\"207.5,-38 116.5,-38 116.5,0 207.5,0 207.5,-38\"/>\r\n",
       "<text text-anchor=\"middle\" x=\"162\" y=\"-22.8\" font-family=\"Times New Roman,serif\" font-size=\"14.00\">samples = 4</text>\r\n",
       "<text text-anchor=\"middle\" x=\"162\" y=\"-7.8\" font-family=\"Times New Roman,serif\" font-size=\"14.00\">value = [3, 1]</text>\r\n",
       "</g>\r\n",
       "<!-- 5&#45;&gt;7 -->\r\n",
       "<g id=\"edge7\" class=\"edge\">\r\n",
       "<title>5&#45;&gt;7</title>\r\n",
       "<path fill=\"none\" stroke=\"black\" d=\"M162,-73.91C162,-65.74 162,-56.65 162,-48.3\"/>\r\n",
       "<polygon fill=\"black\" stroke=\"black\" points=\"165.5,-48.24 162,-38.24 158.5,-48.24 165.5,-48.24\"/>\r\n",
       "</g>\r\n",
       "<!-- 9 -->\r\n",
       "<g id=\"node10\" class=\"node\">\r\n",
       "<title>9</title>\r\n",
       "<polygon fill=\"#9fd0f2\" stroke=\"black\" points=\"330,-38 226,-38 226,0 330,0 330,-38\"/>\r\n",
       "<text text-anchor=\"middle\" x=\"278\" y=\"-22.8\" font-family=\"Times New Roman,serif\" font-size=\"14.00\">samples = 91</text>\r\n",
       "<text text-anchor=\"middle\" x=\"278\" y=\"-7.8\" font-family=\"Times New Roman,serif\" font-size=\"14.00\">value = [31, 60]</text>\r\n",
       "</g>\r\n",
       "<!-- 8&#45;&gt;9 -->\r\n",
       "<g id=\"edge9\" class=\"edge\">\r\n",
       "<title>8&#45;&gt;9</title>\r\n",
       "<path fill=\"none\" stroke=\"black\" d=\"M319.36,-73.91C312.61,-65.1 305.03,-55.23 298.23,-46.36\"/>\r\n",
       "<polygon fill=\"black\" stroke=\"black\" points=\"300.86,-44.04 291.99,-38.24 295.31,-48.3 300.86,-44.04\"/>\r\n",
       "</g>\r\n",
       "<!-- 10 -->\r\n",
       "<g id=\"node11\" class=\"node\">\r\n",
       "<title>10</title>\r\n",
       "<polygon fill=\"#f1bb94\" stroke=\"black\" points=\"446,-38 348,-38 348,0 446,0 446,-38\"/>\r\n",
       "<text text-anchor=\"middle\" x=\"397\" y=\"-22.8\" font-family=\"Times New Roman,serif\" font-size=\"14.00\">samples = 19</text>\r\n",
       "<text text-anchor=\"middle\" x=\"397\" y=\"-7.8\" font-family=\"Times New Roman,serif\" font-size=\"14.00\">value = [13, 6]</text>\r\n",
       "</g>\r\n",
       "<!-- 8&#45;&gt;10 -->\r\n",
       "<g id=\"edge10\" class=\"edge\">\r\n",
       "<title>8&#45;&gt;10</title>\r\n",
       "<path fill=\"none\" stroke=\"black\" d=\"M357.67,-73.91C364.1,-65.1 371.3,-55.23 377.77,-46.36\"/>\r\n",
       "<polygon fill=\"black\" stroke=\"black\" points=\"380.63,-48.38 383.69,-38.24 374.97,-44.25 380.63,-48.38\"/>\r\n",
       "</g>\r\n",
       "<!-- 13 -->\r\n",
       "<g id=\"node14\" class=\"node\">\r\n",
       "<title>13</title>\r\n",
       "<polygon fill=\"#4da7e8\" stroke=\"black\" points=\"706.5,-216 595.5,-216 595.5,-163 706.5,-163 706.5,-216\"/>\r\n",
       "<text text-anchor=\"middle\" x=\"651\" y=\"-200.8\" font-family=\"Times New Roman,serif\" font-size=\"14.00\">X[28] &lt;= 0.5</text>\r\n",
       "<text text-anchor=\"middle\" x=\"651\" y=\"-185.8\" font-family=\"Times New Roman,serif\" font-size=\"14.00\">samples = 171</text>\r\n",
       "<text text-anchor=\"middle\" x=\"651\" y=\"-170.8\" font-family=\"Times New Roman,serif\" font-size=\"14.00\">value = [16, 155]</text>\r\n",
       "</g>\r\n",
       "<!-- 12&#45;&gt;13 -->\r\n",
       "<g id=\"edge13\" class=\"edge\">\r\n",
       "<title>12&#45;&gt;13</title>\r\n",
       "<path fill=\"none\" stroke=\"black\" d=\"M723.65,-251.87C712.85,-242.75 700.55,-232.35 689.18,-222.75\"/>\r\n",
       "<polygon fill=\"black\" stroke=\"black\" points=\"691.38,-220.03 681.49,-216.25 686.87,-225.38 691.38,-220.03\"/>\r\n",
       "</g>\r\n",
       "<!-- 20 -->\r\n",
       "<g id=\"node21\" class=\"node\">\r\n",
       "<title>20</title>\r\n",
       "<polygon fill=\"#e58139\" stroke=\"black\" points=\"815.5,-208.5 724.5,-208.5 724.5,-170.5 815.5,-170.5 815.5,-208.5\"/>\r\n",
       "<text text-anchor=\"middle\" x=\"770\" y=\"-193.3\" font-family=\"Times New Roman,serif\" font-size=\"14.00\">samples = 2</text>\r\n",
       "<text text-anchor=\"middle\" x=\"770\" y=\"-178.3\" font-family=\"Times New Roman,serif\" font-size=\"14.00\">value = [2, 0]</text>\r\n",
       "</g>\r\n",
       "<!-- 12&#45;&gt;20 -->\r\n",
       "<g id=\"edge20\" class=\"edge\">\r\n",
       "<title>12&#45;&gt;20</title>\r\n",
       "<path fill=\"none\" stroke=\"black\" d=\"M758.71,-251.87C760.64,-241.42 762.86,-229.3 764.83,-218.61\"/>\r\n",
       "<polygon fill=\"black\" stroke=\"black\" points=\"768.32,-218.97 766.69,-208.51 761.44,-217.71 768.32,-218.97\"/>\r\n",
       "</g>\r\n",
       "<!-- 14 -->\r\n",
       "<g id=\"node15\" class=\"node\">\r\n",
       "<title>14</title>\r\n",
       "<polygon fill=\"#47a4e7\" stroke=\"black\" points=\"685.5,-127 574.5,-127 574.5,-74 685.5,-74 685.5,-127\"/>\r\n",
       "<text text-anchor=\"middle\" x=\"630\" y=\"-111.8\" font-family=\"Times New Roman,serif\" font-size=\"14.00\">X[0] &lt;= 2.5</text>\r\n",
       "<text text-anchor=\"middle\" x=\"630\" y=\"-96.8\" font-family=\"Times New Roman,serif\" font-size=\"14.00\">samples = 154</text>\r\n",
       "<text text-anchor=\"middle\" x=\"630\" y=\"-81.8\" font-family=\"Times New Roman,serif\" font-size=\"14.00\">value = [10, 144]</text>\r\n",
       "</g>\r\n",
       "<!-- 13&#45;&gt;14 -->\r\n",
       "<g id=\"edge14\" class=\"edge\">\r\n",
       "<title>13&#45;&gt;14</title>\r\n",
       "<path fill=\"none\" stroke=\"black\" d=\"M644.81,-162.87C642.87,-154.8 640.68,-145.74 638.59,-137.1\"/>\r\n",
       "<polygon fill=\"black\" stroke=\"black\" points=\"641.96,-136.15 636.22,-127.25 635.16,-137.79 641.96,-136.15\"/>\r\n",
       "</g>\r\n",
       "<!-- 17 -->\r\n",
       "<g id=\"node18\" class=\"node\">\r\n",
       "<title>17</title>\r\n",
       "<polygon fill=\"#a5d2f3\" stroke=\"black\" points=\"802,-127 704,-127 704,-74 802,-74 802,-127\"/>\r\n",
       "<text text-anchor=\"middle\" x=\"753\" y=\"-111.8\" font-family=\"Times New Roman,serif\" font-size=\"14.00\">X[7] &lt;= 0.5</text>\r\n",
       "<text text-anchor=\"middle\" x=\"753\" y=\"-96.8\" font-family=\"Times New Roman,serif\" font-size=\"14.00\">samples = 17</text>\r\n",
       "<text text-anchor=\"middle\" x=\"753\" y=\"-81.8\" font-family=\"Times New Roman,serif\" font-size=\"14.00\">value = [6, 11]</text>\r\n",
       "</g>\r\n",
       "<!-- 13&#45;&gt;17 -->\r\n",
       "<g id=\"edge17\" class=\"edge\">\r\n",
       "<title>13&#45;&gt;17</title>\r\n",
       "<path fill=\"none\" stroke=\"black\" d=\"M681.05,-162.87C691.75,-153.75 703.93,-143.35 715.19,-133.75\"/>\r\n",
       "<polygon fill=\"black\" stroke=\"black\" points=\"717.47,-136.4 722.81,-127.25 712.93,-131.08 717.47,-136.4\"/>\r\n",
       "</g>\r\n",
       "<!-- 15 -->\r\n",
       "<g id=\"node16\" class=\"node\">\r\n",
       "<title>15</title>\r\n",
       "<polygon fill=\"#42a1e6\" stroke=\"black\" points=\"568,-38 464,-38 464,0 568,0 568,-38\"/>\r\n",
       "<text text-anchor=\"middle\" x=\"516\" y=\"-22.8\" font-family=\"Times New Roman,serif\" font-size=\"14.00\">samples = 137</text>\r\n",
       "<text text-anchor=\"middle\" x=\"516\" y=\"-7.8\" font-family=\"Times New Roman,serif\" font-size=\"14.00\">value = [6, 131]</text>\r\n",
       "</g>\r\n",
       "<!-- 14&#45;&gt;15 -->\r\n",
       "<g id=\"edge15\" class=\"edge\">\r\n",
       "<title>14&#45;&gt;15</title>\r\n",
       "<path fill=\"none\" stroke=\"black\" d=\"M593.3,-73.91C579.63,-64.38 564.17,-53.59 550.69,-44.19\"/>\r\n",
       "<polygon fill=\"black\" stroke=\"black\" points=\"552.36,-41.09 542.15,-38.24 548.35,-46.83 552.36,-41.09\"/>\r\n",
       "</g>\r\n",
       "<!-- 16 -->\r\n",
       "<g id=\"node17\" class=\"node\">\r\n",
       "<title>16</title>\r\n",
       "<polygon fill=\"#76bbed\" stroke=\"black\" points=\"684,-38 586,-38 586,0 684,0 684,-38\"/>\r\n",
       "<text text-anchor=\"middle\" x=\"635\" y=\"-22.8\" font-family=\"Times New Roman,serif\" font-size=\"14.00\">samples = 17</text>\r\n",
       "<text text-anchor=\"middle\" x=\"635\" y=\"-7.8\" font-family=\"Times New Roman,serif\" font-size=\"14.00\">value = [4, 13]</text>\r\n",
       "</g>\r\n",
       "<!-- 14&#45;&gt;16 -->\r\n",
       "<g id=\"edge16\" class=\"edge\">\r\n",
       "<title>14&#45;&gt;16</title>\r\n",
       "<path fill=\"none\" stroke=\"black\" d=\"M631.61,-73.91C632.12,-65.74 632.7,-56.65 633.22,-48.3\"/>\r\n",
       "<polygon fill=\"black\" stroke=\"black\" points=\"636.72,-48.44 633.85,-38.24 629.73,-48 636.72,-48.44\"/>\r\n",
       "</g>\r\n",
       "<!-- 18 -->\r\n",
       "<g id=\"node19\" class=\"node\">\r\n",
       "<title>18</title>\r\n",
       "<polygon fill=\"#399de5\" stroke=\"black\" points=\"793.5,-38 702.5,-38 702.5,0 793.5,0 793.5,-38\"/>\r\n",
       "<text text-anchor=\"middle\" x=\"748\" y=\"-22.8\" font-family=\"Times New Roman,serif\" font-size=\"14.00\">samples = 6</text>\r\n",
       "<text text-anchor=\"middle\" x=\"748\" y=\"-7.8\" font-family=\"Times New Roman,serif\" font-size=\"14.00\">value = [0, 6]</text>\r\n",
       "</g>\r\n",
       "<!-- 17&#45;&gt;18 -->\r\n",
       "<g id=\"edge18\" class=\"edge\">\r\n",
       "<title>17&#45;&gt;18</title>\r\n",
       "<path fill=\"none\" stroke=\"black\" d=\"M751.39,-73.91C750.88,-65.74 750.3,-56.65 749.78,-48.3\"/>\r\n",
       "<polygon fill=\"black\" stroke=\"black\" points=\"753.27,-48 749.15,-38.24 746.28,-48.44 753.27,-48\"/>\r\n",
       "</g>\r\n",
       "<!-- 19 -->\r\n",
       "<g id=\"node20\" class=\"node\">\r\n",
       "<title>19</title>\r\n",
       "<polygon fill=\"#fbeade\" stroke=\"black\" points=\"902.5,-38 811.5,-38 811.5,0 902.5,0 902.5,-38\"/>\r\n",
       "<text text-anchor=\"middle\" x=\"857\" y=\"-22.8\" font-family=\"Times New Roman,serif\" font-size=\"14.00\">samples = 11</text>\r\n",
       "<text text-anchor=\"middle\" x=\"857\" y=\"-7.8\" font-family=\"Times New Roman,serif\" font-size=\"14.00\">value = [6, 5]</text>\r\n",
       "</g>\r\n",
       "<!-- 17&#45;&gt;19 -->\r\n",
       "<g id=\"edge19\" class=\"edge\">\r\n",
       "<title>17&#45;&gt;19</title>\r\n",
       "<path fill=\"none\" stroke=\"black\" d=\"M786.48,-73.91C798.83,-64.47 812.78,-53.8 825,-44.46\"/>\r\n",
       "<polygon fill=\"black\" stroke=\"black\" points=\"827.32,-47.09 833.14,-38.24 823.07,-41.53 827.32,-47.09\"/>\r\n",
       "</g>\r\n",
       "<!-- 22 -->\r\n",
       "<g id=\"node23\" class=\"node\">\r\n",
       "<title>22</title>\r\n",
       "<polygon fill=\"#399de5\" stroke=\"black\" points=\"941.5,-297.5 850.5,-297.5 850.5,-259.5 941.5,-259.5 941.5,-297.5\"/>\r\n",
       "<text text-anchor=\"middle\" x=\"896\" y=\"-282.3\" font-family=\"Times New Roman,serif\" font-size=\"14.00\">samples = 6</text>\r\n",
       "<text text-anchor=\"middle\" x=\"896\" y=\"-267.3\" font-family=\"Times New Roman,serif\" font-size=\"14.00\">value = [0, 6]</text>\r\n",
       "</g>\r\n",
       "<!-- 21&#45;&gt;22 -->\r\n",
       "<g id=\"edge22\" class=\"edge\">\r\n",
       "<title>21&#45;&gt;22</title>\r\n",
       "<path fill=\"none\" stroke=\"black\" d=\"M922.1,-340.87C917.56,-330.2 912.29,-317.8 907.67,-306.94\"/>\r\n",
       "<polygon fill=\"black\" stroke=\"black\" points=\"910.79,-305.34 903.66,-297.51 904.35,-308.08 910.79,-305.34\"/>\r\n",
       "</g>\r\n",
       "<!-- 23 -->\r\n",
       "<g id=\"node24\" class=\"node\">\r\n",
       "<title>23</title>\r\n",
       "<polygon fill=\"#e88d4c\" stroke=\"black\" points=\"1058,-305 960,-305 960,-252 1058,-252 1058,-305\"/>\r\n",
       "<text text-anchor=\"middle\" x=\"1009\" y=\"-289.8\" font-family=\"Times New Roman,serif\" font-size=\"14.00\">X[4] &lt;= 14.5</text>\r\n",
       "<text text-anchor=\"middle\" x=\"1009\" y=\"-274.8\" font-family=\"Times New Roman,serif\" font-size=\"14.00\">samples = 45</text>\r\n",
       "<text text-anchor=\"middle\" x=\"1009\" y=\"-259.8\" font-family=\"Times New Roman,serif\" font-size=\"14.00\">value = [41, 4]</text>\r\n",
       "</g>\r\n",
       "<!-- 21&#45;&gt;23 -->\r\n",
       "<g id=\"edge23\" class=\"edge\">\r\n",
       "<title>21&#45;&gt;23</title>\r\n",
       "<path fill=\"none\" stroke=\"black\" d=\"M955.39,-340.87C963.05,-332.1 971.74,-322.15 979.86,-312.86\"/>\r\n",
       "<polygon fill=\"black\" stroke=\"black\" points=\"982.56,-315.08 986.51,-305.25 977.29,-310.48 982.56,-315.08\"/>\r\n",
       "</g>\r\n",
       "<!-- 24 -->\r\n",
       "<g id=\"node25\" class=\"node\">\r\n",
       "<title>24</title>\r\n",
       "<polygon fill=\"#399de5\" stroke=\"black\" points=\"976.5,-208.5 885.5,-208.5 885.5,-170.5 976.5,-170.5 976.5,-208.5\"/>\r\n",
       "<text text-anchor=\"middle\" x=\"931\" y=\"-193.3\" font-family=\"Times New Roman,serif\" font-size=\"14.00\">samples = 1</text>\r\n",
       "<text text-anchor=\"middle\" x=\"931\" y=\"-178.3\" font-family=\"Times New Roman,serif\" font-size=\"14.00\">value = [0, 1]</text>\r\n",
       "</g>\r\n",
       "<!-- 23&#45;&gt;24 -->\r\n",
       "<g id=\"edge24\" class=\"edge\">\r\n",
       "<title>23&#45;&gt;24</title>\r\n",
       "<path fill=\"none\" stroke=\"black\" d=\"M986.02,-251.87C975.87,-240.55 963.97,-227.27 953.83,-215.97\"/>\r\n",
       "<polygon fill=\"black\" stroke=\"black\" points=\"956.43,-213.62 947.14,-208.51 951.21,-218.29 956.43,-213.62\"/>\r\n",
       "</g>\r\n",
       "<!-- 25 -->\r\n",
       "<g id=\"node26\" class=\"node\">\r\n",
       "<title>25</title>\r\n",
       "<polygon fill=\"#e78a47\" stroke=\"black\" points=\"1093,-216 995,-216 995,-163 1093,-163 1093,-216\"/>\r\n",
       "<text text-anchor=\"middle\" x=\"1044\" y=\"-200.8\" font-family=\"Times New Roman,serif\" font-size=\"14.00\">X[5] &lt;= 6.5</text>\r\n",
       "<text text-anchor=\"middle\" x=\"1044\" y=\"-185.8\" font-family=\"Times New Roman,serif\" font-size=\"14.00\">samples = 44</text>\r\n",
       "<text text-anchor=\"middle\" x=\"1044\" y=\"-170.8\" font-family=\"Times New Roman,serif\" font-size=\"14.00\">value = [41, 3]</text>\r\n",
       "</g>\r\n",
       "<!-- 23&#45;&gt;25 -->\r\n",
       "<g id=\"edge25\" class=\"edge\">\r\n",
       "<title>23&#45;&gt;25</title>\r\n",
       "<path fill=\"none\" stroke=\"black\" d=\"M1019.31,-251.87C1022.63,-243.62 1026.36,-234.34 1029.9,-225.54\"/>\r\n",
       "<polygon fill=\"black\" stroke=\"black\" points=\"1033.16,-226.83 1033.64,-216.25 1026.66,-224.22 1033.16,-226.83\"/>\r\n",
       "</g>\r\n",
       "<!-- 26 -->\r\n",
       "<g id=\"node27\" class=\"node\">\r\n",
       "<title>26</title>\r\n",
       "<polygon fill=\"#e58139\" stroke=\"black\" points=\"985,-119.5 887,-119.5 887,-81.5 985,-81.5 985,-119.5\"/>\r\n",
       "<text text-anchor=\"middle\" x=\"936\" y=\"-104.3\" font-family=\"Times New Roman,serif\" font-size=\"14.00\">samples = 25</text>\r\n",
       "<text text-anchor=\"middle\" x=\"936\" y=\"-89.3\" font-family=\"Times New Roman,serif\" font-size=\"14.00\">value = [25, 0]</text>\r\n",
       "</g>\r\n",
       "<!-- 25&#45;&gt;26 -->\r\n",
       "<g id=\"edge26\" class=\"edge\">\r\n",
       "<title>25&#45;&gt;26</title>\r\n",
       "<path fill=\"none\" stroke=\"black\" d=\"M1012.18,-162.87C997.72,-151.22 980.69,-137.5 966.41,-125.99\"/>\r\n",
       "<polygon fill=\"black\" stroke=\"black\" points=\"968.34,-123.05 958.35,-119.51 963.94,-128.51 968.34,-123.05\"/>\r\n",
       "</g>\r\n",
       "<!-- 27 -->\r\n",
       "<g id=\"node28\" class=\"node\">\r\n",
       "<title>27</title>\r\n",
       "<polygon fill=\"#ea995e\" stroke=\"black\" points=\"1107,-127 1003,-127 1003,-74 1107,-74 1107,-127\"/>\r\n",
       "<text text-anchor=\"middle\" x=\"1055\" y=\"-111.8\" font-family=\"Times New Roman,serif\" font-size=\"14.00\">X[4] &lt;= 39.144</text>\r\n",
       "<text text-anchor=\"middle\" x=\"1055\" y=\"-96.8\" font-family=\"Times New Roman,serif\" font-size=\"14.00\">samples = 19</text>\r\n",
       "<text text-anchor=\"middle\" x=\"1055\" y=\"-81.8\" font-family=\"Times New Roman,serif\" font-size=\"14.00\">value = [16, 3]</text>\r\n",
       "</g>\r\n",
       "<!-- 25&#45;&gt;27 -->\r\n",
       "<g id=\"edge27\" class=\"edge\">\r\n",
       "<title>25&#45;&gt;27</title>\r\n",
       "<path fill=\"none\" stroke=\"black\" d=\"M1047.24,-162.87C1048.25,-154.89 1049.38,-145.93 1050.46,-137.38\"/>\r\n",
       "<polygon fill=\"black\" stroke=\"black\" points=\"1053.96,-137.61 1051.74,-127.25 1047.02,-136.73 1053.96,-137.61\"/>\r\n",
       "</g>\r\n",
       "<!-- 28 -->\r\n",
       "<g id=\"node29\" class=\"node\">\r\n",
       "<title>28</title>\r\n",
       "<polygon fill=\"#f0b78e\" stroke=\"black\" points=\"1011.5,-38 920.5,-38 920.5,0 1011.5,0 1011.5,-38\"/>\r\n",
       "<text text-anchor=\"middle\" x=\"966\" y=\"-22.8\" font-family=\"Times New Roman,serif\" font-size=\"14.00\">samples = 10</text>\r\n",
       "<text text-anchor=\"middle\" x=\"966\" y=\"-7.8\" font-family=\"Times New Roman,serif\" font-size=\"14.00\">value = [7, 3]</text>\r\n",
       "</g>\r\n",
       "<!-- 27&#45;&gt;28 -->\r\n",
       "<g id=\"edge28\" class=\"edge\">\r\n",
       "<title>27&#45;&gt;28</title>\r\n",
       "<path fill=\"none\" stroke=\"black\" d=\"M1026.35,-73.91C1015.98,-64.65 1004.3,-54.21 993.99,-45\"/>\r\n",
       "<polygon fill=\"black\" stroke=\"black\" points=\"996.21,-42.29 986.42,-38.24 991.54,-47.51 996.21,-42.29\"/>\r\n",
       "</g>\r\n",
       "<!-- 29 -->\r\n",
       "<g id=\"node30\" class=\"node\">\r\n",
       "<title>29</title>\r\n",
       "<polygon fill=\"#e58139\" stroke=\"black\" points=\"1120.5,-38 1029.5,-38 1029.5,0 1120.5,0 1120.5,-38\"/>\r\n",
       "<text text-anchor=\"middle\" x=\"1075\" y=\"-22.8\" font-family=\"Times New Roman,serif\" font-size=\"14.00\">samples = 9</text>\r\n",
       "<text text-anchor=\"middle\" x=\"1075\" y=\"-7.8\" font-family=\"Times New Roman,serif\" font-size=\"14.00\">value = [9, 0]</text>\r\n",
       "</g>\r\n",
       "<!-- 27&#45;&gt;29 -->\r\n",
       "<g id=\"edge29\" class=\"edge\">\r\n",
       "<title>27&#45;&gt;29</title>\r\n",
       "<path fill=\"none\" stroke=\"black\" d=\"M1061.44,-73.91C1063.52,-65.65 1065.83,-56.45 1067.95,-48.02\"/>\r\n",
       "<polygon fill=\"black\" stroke=\"black\" points=\"1071.37,-48.79 1070.41,-38.24 1064.58,-47.08 1071.37,-48.79\"/>\r\n",
       "</g>\r\n",
       "<!-- 31 -->\r\n",
       "<g id=\"node32\" class=\"node\">\r\n",
       "<title>31</title>\r\n",
       "<polygon fill=\"#e88f4f\" stroke=\"black\" points=\"1664.5,-394 1553.5,-394 1553.5,-341 1664.5,-341 1664.5,-394\"/>\r\n",
       "<text text-anchor=\"middle\" x=\"1609\" y=\"-378.8\" font-family=\"Times New Roman,serif\" font-size=\"14.00\">X[11] &lt;= 0.5</text>\r\n",
       "<text text-anchor=\"middle\" x=\"1609\" y=\"-363.8\" font-family=\"Times New Roman,serif\" font-size=\"14.00\">samples = 390</text>\r\n",
       "<text text-anchor=\"middle\" x=\"1609\" y=\"-348.8\" font-family=\"Times New Roman,serif\" font-size=\"14.00\">value = [351, 39]</text>\r\n",
       "</g>\r\n",
       "<!-- 30&#45;&gt;31 -->\r\n",
       "<g id=\"edge31\" class=\"edge\">\r\n",
       "<title>30&#45;&gt;31</title>\r\n",
       "<path fill=\"none\" stroke=\"black\" d=\"M1609,-429.87C1609,-421.89 1609,-412.93 1609,-404.38\"/>\r\n",
       "<polygon fill=\"black\" stroke=\"black\" points=\"1612.5,-404.25 1609,-394.25 1605.5,-404.25 1612.5,-404.25\"/>\r\n",
       "</g>\r\n",
       "<!-- 46 -->\r\n",
       "<g id=\"node47\" class=\"node\">\r\n",
       "<title>46</title>\r\n",
       "<polygon fill=\"#f2bf9b\" stroke=\"black\" points=\"1996,-394 1892,-394 1892,-341 1996,-341 1996,-394\"/>\r\n",
       "<text text-anchor=\"middle\" x=\"1944\" y=\"-378.8\" font-family=\"Times New Roman,serif\" font-size=\"14.00\">X[4] &lt;= 26.775</text>\r\n",
       "<text text-anchor=\"middle\" x=\"1944\" y=\"-363.8\" font-family=\"Times New Roman,serif\" font-size=\"14.00\">samples = 127</text>\r\n",
       "<text text-anchor=\"middle\" x=\"1944\" y=\"-348.8\" font-family=\"Times New Roman,serif\" font-size=\"14.00\">value = [85, 42]</text>\r\n",
       "</g>\r\n",
       "<!-- 30&#45;&gt;46 -->\r\n",
       "<g id=\"edge46\" class=\"edge\">\r\n",
       "<title>30&#45;&gt;46</title>\r\n",
       "<path fill=\"none\" stroke=\"black\" d=\"M1664.69,-441.04C1724.65,-425.47 1819.78,-400.76 1882.06,-384.59\"/>\r\n",
       "<polygon fill=\"black\" stroke=\"black\" points=\"1882.96,-387.97 1891.76,-382.07 1881.2,-381.19 1882.96,-387.97\"/>\r\n",
       "</g>\r\n",
       "<!-- 32 -->\r\n",
       "<g id=\"node33\" class=\"node\">\r\n",
       "<title>32</title>\r\n",
       "<polygon fill=\"#e88f4e\" stroke=\"black\" points=\"1604.5,-305 1493.5,-305 1493.5,-252 1604.5,-252 1604.5,-305\"/>\r\n",
       "<text text-anchor=\"middle\" x=\"1549\" y=\"-289.8\" font-family=\"Times New Roman,serif\" font-size=\"14.00\">X[12] &lt;= 0.5</text>\r\n",
       "<text text-anchor=\"middle\" x=\"1549\" y=\"-274.8\" font-family=\"Times New Roman,serif\" font-size=\"14.00\">samples = 388</text>\r\n",
       "<text text-anchor=\"middle\" x=\"1549\" y=\"-259.8\" font-family=\"Times New Roman,serif\" font-size=\"14.00\">value = [350, 38]</text>\r\n",
       "</g>\r\n",
       "<!-- 31&#45;&gt;32 -->\r\n",
       "<g id=\"edge32\" class=\"edge\">\r\n",
       "<title>31&#45;&gt;32</title>\r\n",
       "<path fill=\"none\" stroke=\"black\" d=\"M1591.32,-340.87C1585.45,-332.36 1578.83,-322.75 1572.59,-313.7\"/>\r\n",
       "<polygon fill=\"black\" stroke=\"black\" points=\"1575.32,-311.49 1566.76,-305.25 1569.55,-315.47 1575.32,-311.49\"/>\r\n",
       "</g>\r\n",
       "<!-- 43 -->\r\n",
       "<g id=\"node44\" class=\"node\">\r\n",
       "<title>43</title>\r\n",
       "<polygon fill=\"#ffffff\" stroke=\"black\" points=\"1713.5,-305 1622.5,-305 1622.5,-252 1713.5,-252 1713.5,-305\"/>\r\n",
       "<text text-anchor=\"middle\" x=\"1668\" y=\"-289.8\" font-family=\"Times New Roman,serif\" font-size=\"14.00\">X[17] &lt;= 0.5</text>\r\n",
       "<text text-anchor=\"middle\" x=\"1668\" y=\"-274.8\" font-family=\"Times New Roman,serif\" font-size=\"14.00\">samples = 2</text>\r\n",
       "<text text-anchor=\"middle\" x=\"1668\" y=\"-259.8\" font-family=\"Times New Roman,serif\" font-size=\"14.00\">value = [1, 1]</text>\r\n",
       "</g>\r\n",
       "<!-- 31&#45;&gt;43 -->\r\n",
       "<g id=\"edge43\" class=\"edge\">\r\n",
       "<title>31&#45;&gt;43</title>\r\n",
       "<path fill=\"none\" stroke=\"black\" d=\"M1626.38,-340.87C1632.15,-332.36 1638.67,-322.75 1644.81,-313.7\"/>\r\n",
       "<polygon fill=\"black\" stroke=\"black\" points=\"1647.82,-315.49 1650.54,-305.25 1642.03,-311.56 1647.82,-315.49\"/>\r\n",
       "</g>\r\n",
       "<!-- 33 -->\r\n",
       "<g id=\"node34\" class=\"node\">\r\n",
       "<title>33</title>\r\n",
       "<polygon fill=\"#e88e4e\" stroke=\"black\" points=\"1489.5,-216 1378.5,-216 1378.5,-163 1489.5,-163 1489.5,-216\"/>\r\n",
       "<text text-anchor=\"middle\" x=\"1434\" y=\"-200.8\" font-family=\"Times New Roman,serif\" font-size=\"14.00\">X[1] &lt;= 32.5</text>\r\n",
       "<text text-anchor=\"middle\" x=\"1434\" y=\"-185.8\" font-family=\"Times New Roman,serif\" font-size=\"14.00\">samples = 386</text>\r\n",
       "<text text-anchor=\"middle\" x=\"1434\" y=\"-170.8\" font-family=\"Times New Roman,serif\" font-size=\"14.00\">value = [349, 37]</text>\r\n",
       "</g>\r\n",
       "<!-- 32&#45;&gt;33 -->\r\n",
       "<g id=\"edge33\" class=\"edge\">\r\n",
       "<title>32&#45;&gt;33</title>\r\n",
       "<path fill=\"none\" stroke=\"black\" d=\"M1515.12,-251.87C1502.94,-242.66 1489.06,-232.15 1476.26,-222.47\"/>\r\n",
       "<polygon fill=\"black\" stroke=\"black\" points=\"1478.12,-219.49 1468.04,-216.25 1473.9,-225.07 1478.12,-219.49\"/>\r\n",
       "</g>\r\n",
       "<!-- 40 -->\r\n",
       "<g id=\"node41\" class=\"node\">\r\n",
       "<title>40</title>\r\n",
       "<polygon fill=\"#ffffff\" stroke=\"black\" points=\"1598.5,-216 1507.5,-216 1507.5,-163 1598.5,-163 1598.5,-216\"/>\r\n",
       "<text text-anchor=\"middle\" x=\"1553\" y=\"-200.8\" font-family=\"Times New Roman,serif\" font-size=\"14.00\">X[1] &lt;= 39.5</text>\r\n",
       "<text text-anchor=\"middle\" x=\"1553\" y=\"-185.8\" font-family=\"Times New Roman,serif\" font-size=\"14.00\">samples = 2</text>\r\n",
       "<text text-anchor=\"middle\" x=\"1553\" y=\"-170.8\" font-family=\"Times New Roman,serif\" font-size=\"14.00\">value = [1, 1]</text>\r\n",
       "</g>\r\n",
       "<!-- 32&#45;&gt;40 -->\r\n",
       "<g id=\"edge40\" class=\"edge\">\r\n",
       "<title>32&#45;&gt;40</title>\r\n",
       "<path fill=\"none\" stroke=\"black\" d=\"M1550.18,-251.87C1550.55,-243.89 1550.96,-234.93 1551.35,-226.38\"/>\r\n",
       "<polygon fill=\"black\" stroke=\"black\" points=\"1554.85,-226.4 1551.82,-216.25 1547.86,-226.08 1554.85,-226.4\"/>\r\n",
       "</g>\r\n",
       "<!-- 34 -->\r\n",
       "<g id=\"node35\" class=\"node\">\r\n",
       "<title>34</title>\r\n",
       "<polygon fill=\"#e89152\" stroke=\"black\" points=\"1371.5,-127 1260.5,-127 1260.5,-74 1371.5,-74 1371.5,-127\"/>\r\n",
       "<text text-anchor=\"middle\" x=\"1316\" y=\"-111.8\" font-family=\"Times New Roman,serif\" font-size=\"14.00\">X[1] &lt;= 28.75</text>\r\n",
       "<text text-anchor=\"middle\" x=\"1316\" y=\"-96.8\" font-family=\"Times New Roman,serif\" font-size=\"14.00\">samples = 286</text>\r\n",
       "<text text-anchor=\"middle\" x=\"1316\" y=\"-81.8\" font-family=\"Times New Roman,serif\" font-size=\"14.00\">value = [254, 32]</text>\r\n",
       "</g>\r\n",
       "<!-- 33&#45;&gt;34 -->\r\n",
       "<g id=\"edge34\" class=\"edge\">\r\n",
       "<title>33&#45;&gt;34</title>\r\n",
       "<path fill=\"none\" stroke=\"black\" d=\"M1399.23,-162.87C1386.62,-153.57 1372.22,-142.95 1358.99,-133.2\"/>\r\n",
       "<polygon fill=\"black\" stroke=\"black\" points=\"1361.05,-130.37 1350.92,-127.25 1356.9,-136 1361.05,-130.37\"/>\r\n",
       "</g>\r\n",
       "<!-- 37 -->\r\n",
       "<g id=\"node38\" class=\"node\">\r\n",
       "<title>37</title>\r\n",
       "<polygon fill=\"#e68843\" stroke=\"black\" points=\"1488,-127 1390,-127 1390,-74 1488,-74 1488,-127\"/>\r\n",
       "<text text-anchor=\"middle\" x=\"1439\" y=\"-111.8\" font-family=\"Times New Roman,serif\" font-size=\"14.00\">X[1] &lt;= 38.5</text>\r\n",
       "<text text-anchor=\"middle\" x=\"1439\" y=\"-96.8\" font-family=\"Times New Roman,serif\" font-size=\"14.00\">samples = 100</text>\r\n",
       "<text text-anchor=\"middle\" x=\"1439\" y=\"-81.8\" font-family=\"Times New Roman,serif\" font-size=\"14.00\">value = [95, 5]</text>\r\n",
       "</g>\r\n",
       "<!-- 33&#45;&gt;37 -->\r\n",
       "<g id=\"edge37\" class=\"edge\">\r\n",
       "<title>33&#45;&gt;37</title>\r\n",
       "<path fill=\"none\" stroke=\"black\" d=\"M1435.47,-162.87C1435.93,-154.89 1436.45,-145.93 1436.94,-137.38\"/>\r\n",
       "<polygon fill=\"black\" stroke=\"black\" points=\"1440.44,-137.43 1437.52,-127.25 1433.45,-137.03 1440.44,-137.43\"/>\r\n",
       "</g>\r\n",
       "<!-- 35 -->\r\n",
       "<g id=\"node36\" class=\"node\">\r\n",
       "<title>35</title>\r\n",
       "<polygon fill=\"#e88d4c\" stroke=\"black\" points=\"1249.5,-38 1138.5,-38 1138.5,0 1249.5,0 1249.5,-38\"/>\r\n",
       "<text text-anchor=\"middle\" x=\"1194\" y=\"-22.8\" font-family=\"Times New Roman,serif\" font-size=\"14.00\">samples = 237</text>\r\n",
       "<text text-anchor=\"middle\" x=\"1194\" y=\"-7.8\" font-family=\"Times New Roman,serif\" font-size=\"14.00\">value = [216, 21]</text>\r\n",
       "</g>\r\n",
       "<!-- 34&#45;&gt;35 -->\r\n",
       "<g id=\"edge35\" class=\"edge\">\r\n",
       "<title>34&#45;&gt;35</title>\r\n",
       "<path fill=\"none\" stroke=\"black\" d=\"M1276.73,-73.91C1261.96,-64.29 1245.24,-53.39 1230.71,-43.92\"/>\r\n",
       "<polygon fill=\"black\" stroke=\"black\" points=\"1232.28,-40.77 1221.99,-38.24 1228.46,-46.63 1232.28,-40.77\"/>\r\n",
       "</g>\r\n",
       "<!-- 36 -->\r\n",
       "<g id=\"node37\" class=\"node\">\r\n",
       "<title>36</title>\r\n",
       "<polygon fill=\"#eda572\" stroke=\"black\" points=\"1372,-38 1268,-38 1268,0 1372,0 1372,-38\"/>\r\n",
       "<text text-anchor=\"middle\" x=\"1320\" y=\"-22.8\" font-family=\"Times New Roman,serif\" font-size=\"14.00\">samples = 49</text>\r\n",
       "<text text-anchor=\"middle\" x=\"1320\" y=\"-7.8\" font-family=\"Times New Roman,serif\" font-size=\"14.00\">value = [38, 11]</text>\r\n",
       "</g>\r\n",
       "<!-- 34&#45;&gt;36 -->\r\n",
       "<g id=\"edge36\" class=\"edge\">\r\n",
       "<title>34&#45;&gt;36</title>\r\n",
       "<path fill=\"none\" stroke=\"black\" d=\"M1317.29,-73.91C1317.7,-65.74 1318.16,-56.65 1318.58,-48.3\"/>\r\n",
       "<polygon fill=\"black\" stroke=\"black\" points=\"1322.08,-48.4 1319.08,-38.24 1315.08,-48.05 1322.08,-48.4\"/>\r\n",
       "</g>\r\n",
       "<!-- 38 -->\r\n",
       "<g id=\"node39\" class=\"node\">\r\n",
       "<title>38</title>\r\n",
       "<polygon fill=\"#e58139\" stroke=\"black\" points=\"1488,-38 1390,-38 1390,0 1488,0 1488,-38\"/>\r\n",
       "<text text-anchor=\"middle\" x=\"1439\" y=\"-22.8\" font-family=\"Times New Roman,serif\" font-size=\"14.00\">samples = 39</text>\r\n",
       "<text text-anchor=\"middle\" x=\"1439\" y=\"-7.8\" font-family=\"Times New Roman,serif\" font-size=\"14.00\">value = [39, 0]</text>\r\n",
       "</g>\r\n",
       "<!-- 37&#45;&gt;38 -->\r\n",
       "<g id=\"edge38\" class=\"edge\">\r\n",
       "<title>37&#45;&gt;38</title>\r\n",
       "<path fill=\"none\" stroke=\"black\" d=\"M1439,-73.91C1439,-65.74 1439,-56.65 1439,-48.3\"/>\r\n",
       "<polygon fill=\"black\" stroke=\"black\" points=\"1442.5,-48.24 1439,-38.24 1435.5,-48.24 1442.5,-48.24\"/>\r\n",
       "</g>\r\n",
       "<!-- 39 -->\r\n",
       "<g id=\"node40\" class=\"node\">\r\n",
       "<title>39</title>\r\n",
       "<polygon fill=\"#e78c4b\" stroke=\"black\" points=\"1604,-38 1506,-38 1506,0 1604,0 1604,-38\"/>\r\n",
       "<text text-anchor=\"middle\" x=\"1555\" y=\"-22.8\" font-family=\"Times New Roman,serif\" font-size=\"14.00\">samples = 61</text>\r\n",
       "<text text-anchor=\"middle\" x=\"1555\" y=\"-7.8\" font-family=\"Times New Roman,serif\" font-size=\"14.00\">value = [56, 5]</text>\r\n",
       "</g>\r\n",
       "<!-- 37&#45;&gt;39 -->\r\n",
       "<g id=\"edge39\" class=\"edge\">\r\n",
       "<title>37&#45;&gt;39</title>\r\n",
       "<path fill=\"none\" stroke=\"black\" d=\"M1476.34,-73.91C1490.38,-64.29 1506.28,-53.39 1520.09,-43.92\"/>\r\n",
       "<polygon fill=\"black\" stroke=\"black\" points=\"1522.12,-46.78 1528.39,-38.24 1518.16,-41.01 1522.12,-46.78\"/>\r\n",
       "</g>\r\n",
       "<!-- 41 -->\r\n",
       "<g id=\"node42\" class=\"node\">\r\n",
       "<title>41</title>\r\n",
       "<polygon fill=\"#399de5\" stroke=\"black\" points=\"1597.5,-119.5 1506.5,-119.5 1506.5,-81.5 1597.5,-81.5 1597.5,-119.5\"/>\r\n",
       "<text text-anchor=\"middle\" x=\"1552\" y=\"-104.3\" font-family=\"Times New Roman,serif\" font-size=\"14.00\">samples = 1</text>\r\n",
       "<text text-anchor=\"middle\" x=\"1552\" y=\"-89.3\" font-family=\"Times New Roman,serif\" font-size=\"14.00\">value = [0, 1]</text>\r\n",
       "</g>\r\n",
       "<!-- 40&#45;&gt;41 -->\r\n",
       "<g id=\"edge41\" class=\"edge\">\r\n",
       "<title>40&#45;&gt;41</title>\r\n",
       "<path fill=\"none\" stroke=\"black\" d=\"M1552.71,-162.87C1552.59,-152.42 1552.45,-140.3 1552.32,-129.61\"/>\r\n",
       "<polygon fill=\"black\" stroke=\"black\" points=\"1555.82,-129.47 1552.21,-119.51 1548.82,-129.55 1555.82,-129.47\"/>\r\n",
       "</g>\r\n",
       "<!-- 42 -->\r\n",
       "<g id=\"node43\" class=\"node\">\r\n",
       "<title>42</title>\r\n",
       "<polygon fill=\"#e58139\" stroke=\"black\" points=\"1706.5,-119.5 1615.5,-119.5 1615.5,-81.5 1706.5,-81.5 1706.5,-119.5\"/>\r\n",
       "<text text-anchor=\"middle\" x=\"1661\" y=\"-104.3\" font-family=\"Times New Roman,serif\" font-size=\"14.00\">samples = 1</text>\r\n",
       "<text text-anchor=\"middle\" x=\"1661\" y=\"-89.3\" font-family=\"Times New Roman,serif\" font-size=\"14.00\">value = [1, 0]</text>\r\n",
       "</g>\r\n",
       "<!-- 40&#45;&gt;42 -->\r\n",
       "<g id=\"edge42\" class=\"edge\">\r\n",
       "<title>40&#45;&gt;42</title>\r\n",
       "<path fill=\"none\" stroke=\"black\" d=\"M1584.82,-162.87C1599.28,-151.22 1616.31,-137.5 1630.59,-125.99\"/>\r\n",
       "<polygon fill=\"black\" stroke=\"black\" points=\"1633.06,-128.51 1638.65,-119.51 1628.66,-123.05 1633.06,-128.51\"/>\r\n",
       "</g>\r\n",
       "<!-- 44 -->\r\n",
       "<g id=\"node45\" class=\"node\">\r\n",
       "<title>44</title>\r\n",
       "<polygon fill=\"#399de5\" stroke=\"black\" points=\"1709.5,-208.5 1618.5,-208.5 1618.5,-170.5 1709.5,-170.5 1709.5,-208.5\"/>\r\n",
       "<text text-anchor=\"middle\" x=\"1664\" y=\"-193.3\" font-family=\"Times New Roman,serif\" font-size=\"14.00\">samples = 1</text>\r\n",
       "<text text-anchor=\"middle\" x=\"1664\" y=\"-178.3\" font-family=\"Times New Roman,serif\" font-size=\"14.00\">value = [0, 1]</text>\r\n",
       "</g>\r\n",
       "<!-- 43&#45;&gt;44 -->\r\n",
       "<g id=\"edge44\" class=\"edge\">\r\n",
       "<title>43&#45;&gt;44</title>\r\n",
       "<path fill=\"none\" stroke=\"black\" d=\"M1666.82,-251.87C1666.34,-241.42 1665.78,-229.3 1665.29,-218.61\"/>\r\n",
       "<polygon fill=\"black\" stroke=\"black\" points=\"1668.78,-218.34 1664.83,-208.51 1661.79,-218.66 1668.78,-218.34\"/>\r\n",
       "</g>\r\n",
       "<!-- 45 -->\r\n",
       "<g id=\"node46\" class=\"node\">\r\n",
       "<title>45</title>\r\n",
       "<polygon fill=\"#e58139\" stroke=\"black\" points=\"1818.5,-208.5 1727.5,-208.5 1727.5,-170.5 1818.5,-170.5 1818.5,-208.5\"/>\r\n",
       "<text text-anchor=\"middle\" x=\"1773\" y=\"-193.3\" font-family=\"Times New Roman,serif\" font-size=\"14.00\">samples = 1</text>\r\n",
       "<text text-anchor=\"middle\" x=\"1773\" y=\"-178.3\" font-family=\"Times New Roman,serif\" font-size=\"14.00\">value = [1, 0]</text>\r\n",
       "</g>\r\n",
       "<!-- 43&#45;&gt;45 -->\r\n",
       "<g id=\"edge45\" class=\"edge\">\r\n",
       "<title>43&#45;&gt;45</title>\r\n",
       "<path fill=\"none\" stroke=\"black\" d=\"M1698.94,-251.87C1712.99,-240.22 1729.55,-226.5 1743.44,-214.99\"/>\r\n",
       "<polygon fill=\"black\" stroke=\"black\" points=\"1745.8,-217.58 1751.27,-208.51 1741.33,-212.19 1745.8,-217.58\"/>\r\n",
       "</g>\r\n",
       "<!-- 47 -->\r\n",
       "<g id=\"node48\" class=\"node\">\r\n",
       "<title>47</title>\r\n",
       "<polygon fill=\"#93caf1\" stroke=\"black\" points=\"1993,-305 1895,-305 1895,-252 1993,-252 1993,-305\"/>\r\n",
       "<text text-anchor=\"middle\" x=\"1944\" y=\"-289.8\" font-family=\"Times New Roman,serif\" font-size=\"14.00\">X[1] &lt;= 53.5</text>\r\n",
       "<text text-anchor=\"middle\" x=\"1944\" y=\"-274.8\" font-family=\"Times New Roman,serif\" font-size=\"14.00\">samples = 16</text>\r\n",
       "<text text-anchor=\"middle\" x=\"1944\" y=\"-259.8\" font-family=\"Times New Roman,serif\" font-size=\"14.00\">value = [5, 11]</text>\r\n",
       "</g>\r\n",
       "<!-- 46&#45;&gt;47 -->\r\n",
       "<g id=\"edge47\" class=\"edge\">\r\n",
       "<title>46&#45;&gt;47</title>\r\n",
       "<path fill=\"none\" stroke=\"black\" d=\"M1944,-340.87C1944,-332.89 1944,-323.93 1944,-315.38\"/>\r\n",
       "<polygon fill=\"black\" stroke=\"black\" points=\"1947.5,-315.25 1944,-305.25 1940.5,-315.25 1947.5,-315.25\"/>\r\n",
       "</g>\r\n",
       "<!-- 54 -->\r\n",
       "<g id=\"node55\" class=\"node\">\r\n",
       "<title>54</title>\r\n",
       "<polygon fill=\"#efb286\" stroke=\"black\" points=\"2226,-305 2122,-305 2122,-252 2226,-252 2226,-305\"/>\r\n",
       "<text text-anchor=\"middle\" x=\"2174\" y=\"-289.8\" font-family=\"Times New Roman,serif\" font-size=\"14.00\">X[15] &lt;= 0.5</text>\r\n",
       "<text text-anchor=\"middle\" x=\"2174\" y=\"-274.8\" font-family=\"Times New Roman,serif\" font-size=\"14.00\">samples = 111</text>\r\n",
       "<text text-anchor=\"middle\" x=\"2174\" y=\"-259.8\" font-family=\"Times New Roman,serif\" font-size=\"14.00\">value = [80, 31]</text>\r\n",
       "</g>\r\n",
       "<!-- 46&#45;&gt;54 -->\r\n",
       "<g id=\"edge54\" class=\"edge\">\r\n",
       "<title>46&#45;&gt;54</title>\r\n",
       "<path fill=\"none\" stroke=\"black\" d=\"M1996.19,-346.76C2030.62,-333.73 2075.89,-316.61 2112.13,-302.9\"/>\r\n",
       "<polygon fill=\"black\" stroke=\"black\" points=\"2113.5,-306.13 2121.62,-299.31 2111.03,-299.58 2113.5,-306.13\"/>\r\n",
       "</g>\r\n",
       "<!-- 48 -->\r\n",
       "<g id=\"node49\" class=\"node\">\r\n",
       "<title>48</title>\r\n",
       "<polygon fill=\"#4ba6e7\" stroke=\"black\" points=\"1936,-216 1838,-216 1838,-163 1936,-163 1936,-216\"/>\r\n",
       "<text text-anchor=\"middle\" x=\"1887\" y=\"-200.8\" font-family=\"Times New Roman,serif\" font-size=\"14.00\">X[10] &lt;= 0.5</text>\r\n",
       "<text text-anchor=\"middle\" x=\"1887\" y=\"-185.8\" font-family=\"Times New Roman,serif\" font-size=\"14.00\">samples = 12</text>\r\n",
       "<text text-anchor=\"middle\" x=\"1887\" y=\"-170.8\" font-family=\"Times New Roman,serif\" font-size=\"14.00\">value = [1, 11]</text>\r\n",
       "</g>\r\n",
       "<!-- 47&#45;&gt;48 -->\r\n",
       "<g id=\"edge48\" class=\"edge\">\r\n",
       "<title>47&#45;&gt;48</title>\r\n",
       "<path fill=\"none\" stroke=\"black\" d=\"M1927.21,-251.87C1921.63,-243.36 1915.33,-233.75 1909.41,-224.7\"/>\r\n",
       "<polygon fill=\"black\" stroke=\"black\" points=\"1912.28,-222.7 1903.87,-216.25 1906.42,-226.53 1912.28,-222.7\"/>\r\n",
       "</g>\r\n",
       "<!-- 53 -->\r\n",
       "<g id=\"node54\" class=\"node\">\r\n",
       "<title>53</title>\r\n",
       "<polygon fill=\"#e58139\" stroke=\"black\" points=\"2045.5,-208.5 1954.5,-208.5 1954.5,-170.5 2045.5,-170.5 2045.5,-208.5\"/>\r\n",
       "<text text-anchor=\"middle\" x=\"2000\" y=\"-193.3\" font-family=\"Times New Roman,serif\" font-size=\"14.00\">samples = 4</text>\r\n",
       "<text text-anchor=\"middle\" x=\"2000\" y=\"-178.3\" font-family=\"Times New Roman,serif\" font-size=\"14.00\">value = [4, 0]</text>\r\n",
       "</g>\r\n",
       "<!-- 47&#45;&gt;53 -->\r\n",
       "<g id=\"edge53\" class=\"edge\">\r\n",
       "<title>47&#45;&gt;53</title>\r\n",
       "<path fill=\"none\" stroke=\"black\" d=\"M1960.5,-251.87C1967.58,-240.87 1975.84,-228.03 1982.97,-216.95\"/>\r\n",
       "<polygon fill=\"black\" stroke=\"black\" points=\"1985.94,-218.81 1988.41,-208.51 1980.05,-215.02 1985.94,-218.81\"/>\r\n",
       "</g>\r\n",
       "<!-- 49 -->\r\n",
       "<g id=\"node50\" class=\"node\">\r\n",
       "<title>49</title>\r\n",
       "<polygon fill=\"#399de5\" stroke=\"black\" points=\"1823,-119.5 1725,-119.5 1725,-81.5 1823,-81.5 1823,-119.5\"/>\r\n",
       "<text text-anchor=\"middle\" x=\"1774\" y=\"-104.3\" font-family=\"Times New Roman,serif\" font-size=\"14.00\">samples = 10</text>\r\n",
       "<text text-anchor=\"middle\" x=\"1774\" y=\"-89.3\" font-family=\"Times New Roman,serif\" font-size=\"14.00\">value = [0, 10]</text>\r\n",
       "</g>\r\n",
       "<!-- 48&#45;&gt;49 -->\r\n",
       "<g id=\"edge49\" class=\"edge\">\r\n",
       "<title>48&#45;&gt;49</title>\r\n",
       "<path fill=\"none\" stroke=\"black\" d=\"M1853.71,-162.87C1838.44,-151.11 1820.43,-137.25 1805.4,-125.67\"/>\r\n",
       "<polygon fill=\"black\" stroke=\"black\" points=\"1807.45,-122.83 1797.39,-119.51 1803.18,-128.38 1807.45,-122.83\"/>\r\n",
       "</g>\r\n",
       "<!-- 50 -->\r\n",
       "<g id=\"node51\" class=\"node\">\r\n",
       "<title>50</title>\r\n",
       "<polygon fill=\"#ffffff\" stroke=\"black\" points=\"1932.5,-127 1841.5,-127 1841.5,-74 1932.5,-74 1932.5,-127\"/>\r\n",
       "<text text-anchor=\"middle\" x=\"1887\" y=\"-111.8\" font-family=\"Times New Roman,serif\" font-size=\"14.00\">X[1] &lt;= 34.0</text>\r\n",
       "<text text-anchor=\"middle\" x=\"1887\" y=\"-96.8\" font-family=\"Times New Roman,serif\" font-size=\"14.00\">samples = 2</text>\r\n",
       "<text text-anchor=\"middle\" x=\"1887\" y=\"-81.8\" font-family=\"Times New Roman,serif\" font-size=\"14.00\">value = [1, 1]</text>\r\n",
       "</g>\r\n",
       "<!-- 48&#45;&gt;50 -->\r\n",
       "<g id=\"edge50\" class=\"edge\">\r\n",
       "<title>48&#45;&gt;50</title>\r\n",
       "<path fill=\"none\" stroke=\"black\" d=\"M1887,-162.87C1887,-154.89 1887,-145.93 1887,-137.38\"/>\r\n",
       "<polygon fill=\"black\" stroke=\"black\" points=\"1890.5,-137.25 1887,-127.25 1883.5,-137.25 1890.5,-137.25\"/>\r\n",
       "</g>\r\n",
       "<!-- 51 -->\r\n",
       "<g id=\"node52\" class=\"node\">\r\n",
       "<title>51</title>\r\n",
       "<polygon fill=\"#399de5\" stroke=\"black\" points=\"1823.5,-38 1732.5,-38 1732.5,0 1823.5,0 1823.5,-38\"/>\r\n",
       "<text text-anchor=\"middle\" x=\"1778\" y=\"-22.8\" font-family=\"Times New Roman,serif\" font-size=\"14.00\">samples = 1</text>\r\n",
       "<text text-anchor=\"middle\" x=\"1778\" y=\"-7.8\" font-family=\"Times New Roman,serif\" font-size=\"14.00\">value = [0, 1]</text>\r\n",
       "</g>\r\n",
       "<!-- 50&#45;&gt;51 -->\r\n",
       "<g id=\"edge51\" class=\"edge\">\r\n",
       "<title>50&#45;&gt;51</title>\r\n",
       "<path fill=\"none\" stroke=\"black\" d=\"M1851.91,-73.91C1838.84,-64.38 1824.06,-53.59 1811.17,-44.19\"/>\r\n",
       "<polygon fill=\"black\" stroke=\"black\" points=\"1813.15,-41.3 1803.01,-38.24 1809.02,-46.96 1813.15,-41.3\"/>\r\n",
       "</g>\r\n",
       "<!-- 52 -->\r\n",
       "<g id=\"node53\" class=\"node\">\r\n",
       "<title>52</title>\r\n",
       "<polygon fill=\"#e58139\" stroke=\"black\" points=\"1932.5,-38 1841.5,-38 1841.5,0 1932.5,0 1932.5,-38\"/>\r\n",
       "<text text-anchor=\"middle\" x=\"1887\" y=\"-22.8\" font-family=\"Times New Roman,serif\" font-size=\"14.00\">samples = 1</text>\r\n",
       "<text text-anchor=\"middle\" x=\"1887\" y=\"-7.8\" font-family=\"Times New Roman,serif\" font-size=\"14.00\">value = [1, 0]</text>\r\n",
       "</g>\r\n",
       "<!-- 50&#45;&gt;52 -->\r\n",
       "<g id=\"edge52\" class=\"edge\">\r\n",
       "<title>50&#45;&gt;52</title>\r\n",
       "<path fill=\"none\" stroke=\"black\" d=\"M1887,-73.91C1887,-65.74 1887,-56.65 1887,-48.3\"/>\r\n",
       "<polygon fill=\"black\" stroke=\"black\" points=\"1890.5,-48.24 1887,-38.24 1883.5,-48.24 1890.5,-48.24\"/>\r\n",
       "</g>\r\n",
       "<!-- 55 -->\r\n",
       "<g id=\"node56\" class=\"node\">\r\n",
       "<title>55</title>\r\n",
       "<polygon fill=\"#f4c9aa\" stroke=\"black\" points=\"2226,-216 2122,-216 2122,-163 2226,-163 2226,-216\"/>\r\n",
       "<text text-anchor=\"middle\" x=\"2174\" y=\"-200.8\" font-family=\"Times New Roman,serif\" font-size=\"14.00\">X[1] &lt;= 43.5</text>\r\n",
       "<text text-anchor=\"middle\" x=\"2174\" y=\"-185.8\" font-family=\"Times New Roman,serif\" font-size=\"14.00\">samples = 69</text>\r\n",
       "<text text-anchor=\"middle\" x=\"2174\" y=\"-170.8\" font-family=\"Times New Roman,serif\" font-size=\"14.00\">value = [44, 25]</text>\r\n",
       "</g>\r\n",
       "<!-- 54&#45;&gt;55 -->\r\n",
       "<g id=\"edge55\" class=\"edge\">\r\n",
       "<title>54&#45;&gt;55</title>\r\n",
       "<path fill=\"none\" stroke=\"black\" d=\"M2174,-251.87C2174,-243.89 2174,-234.93 2174,-226.38\"/>\r\n",
       "<polygon fill=\"black\" stroke=\"black\" points=\"2177.5,-226.25 2174,-216.25 2170.5,-226.25 2177.5,-226.25\"/>\r\n",
       "</g>\r\n",
       "<!-- 62 -->\r\n",
       "<g id=\"node63\" class=\"node\">\r\n",
       "<title>62</title>\r\n",
       "<polygon fill=\"#e9965a\" stroke=\"black\" points=\"2396,-216 2298,-216 2298,-163 2396,-163 2396,-216\"/>\r\n",
       "<text text-anchor=\"middle\" x=\"2347\" y=\"-200.8\" font-family=\"Times New Roman,serif\" font-size=\"14.00\">X[21] &lt;= 0.5</text>\r\n",
       "<text text-anchor=\"middle\" x=\"2347\" y=\"-185.8\" font-family=\"Times New Roman,serif\" font-size=\"14.00\">samples = 42</text>\r\n",
       "<text text-anchor=\"middle\" x=\"2347\" y=\"-170.8\" font-family=\"Times New Roman,serif\" font-size=\"14.00\">value = [36, 6]</text>\r\n",
       "</g>\r\n",
       "<!-- 54&#45;&gt;62 -->\r\n",
       "<g id=\"edge62\" class=\"edge\">\r\n",
       "<title>54&#45;&gt;62</title>\r\n",
       "<path fill=\"none\" stroke=\"black\" d=\"M2224.97,-251.87C2245.03,-241.78 2268.17,-230.14 2288.87,-219.73\"/>\r\n",
       "<polygon fill=\"black\" stroke=\"black\" points=\"2290.52,-222.82 2297.88,-215.2 2287.37,-216.57 2290.52,-222.82\"/>\r\n",
       "</g>\r\n",
       "<!-- 56 -->\r\n",
       "<g id=\"node57\" class=\"node\">\r\n",
       "<title>56</title>\r\n",
       "<polygon fill=\"#fef9f6\" stroke=\"black\" points=\"2164,-127 2060,-127 2060,-74 2164,-74 2164,-127\"/>\r\n",
       "<text text-anchor=\"middle\" x=\"2112\" y=\"-111.8\" font-family=\"Times New Roman,serif\" font-size=\"14.00\">X[1] &lt;= 24.5</text>\r\n",
       "<text text-anchor=\"middle\" x=\"2112\" y=\"-96.8\" font-family=\"Times New Roman,serif\" font-size=\"14.00\">samples = 41</text>\r\n",
       "<text text-anchor=\"middle\" x=\"2112\" y=\"-81.8\" font-family=\"Times New Roman,serif\" font-size=\"14.00\">value = [21, 20]</text>\r\n",
       "</g>\r\n",
       "<!-- 55&#45;&gt;56 -->\r\n",
       "<g id=\"edge56\" class=\"edge\">\r\n",
       "<title>55&#45;&gt;56</title>\r\n",
       "<path fill=\"none\" stroke=\"black\" d=\"M2155.73,-162.87C2149.61,-154.27 2142.68,-144.55 2136.17,-135.42\"/>\r\n",
       "<polygon fill=\"black\" stroke=\"black\" points=\"2139,-133.36 2130.35,-127.25 2133.3,-137.42 2139,-133.36\"/>\r\n",
       "</g>\r\n",
       "<!-- 59 -->\r\n",
       "<g id=\"node60\" class=\"node\">\r\n",
       "<title>59</title>\r\n",
       "<polygon fill=\"#eb9c64\" stroke=\"black\" points=\"2280,-127 2182,-127 2182,-74 2280,-74 2280,-127\"/>\r\n",
       "<text text-anchor=\"middle\" x=\"2231\" y=\"-111.8\" font-family=\"Times New Roman,serif\" font-size=\"14.00\">X[1] &lt;= 75.5</text>\r\n",
       "<text text-anchor=\"middle\" x=\"2231\" y=\"-96.8\" font-family=\"Times New Roman,serif\" font-size=\"14.00\">samples = 28</text>\r\n",
       "<text text-anchor=\"middle\" x=\"2231\" y=\"-81.8\" font-family=\"Times New Roman,serif\" font-size=\"14.00\">value = [23, 5]</text>\r\n",
       "</g>\r\n",
       "<!-- 55&#45;&gt;59 -->\r\n",
       "<g id=\"edge59\" class=\"edge\">\r\n",
       "<title>55&#45;&gt;59</title>\r\n",
       "<path fill=\"none\" stroke=\"black\" d=\"M2190.79,-162.87C2196.37,-154.36 2202.67,-144.75 2208.59,-135.7\"/>\r\n",
       "<polygon fill=\"black\" stroke=\"black\" points=\"2211.58,-137.53 2214.13,-127.25 2205.72,-133.7 2211.58,-137.53\"/>\r\n",
       "</g>\r\n",
       "<!-- 57 -->\r\n",
       "<g id=\"node58\" class=\"node\">\r\n",
       "<title>57</title>\r\n",
       "<polygon fill=\"#eeab7b\" stroke=\"black\" points=\"2041.5,-38 1950.5,-38 1950.5,0 2041.5,0 2041.5,-38\"/>\r\n",
       "<text text-anchor=\"middle\" x=\"1996\" y=\"-22.8\" font-family=\"Times New Roman,serif\" font-size=\"14.00\">samples = 8</text>\r\n",
       "<text text-anchor=\"middle\" x=\"1996\" y=\"-7.8\" font-family=\"Times New Roman,serif\" font-size=\"14.00\">value = [6, 2]</text>\r\n",
       "</g>\r\n",
       "<!-- 56&#45;&gt;57 -->\r\n",
       "<g id=\"edge57\" class=\"edge\">\r\n",
       "<title>56&#45;&gt;57</title>\r\n",
       "<path fill=\"none\" stroke=\"black\" d=\"M2074.66,-73.91C2060.62,-64.29 2044.72,-53.39 2030.91,-43.92\"/>\r\n",
       "<polygon fill=\"black\" stroke=\"black\" points=\"2032.84,-41.01 2022.61,-38.24 2028.88,-46.78 2032.84,-41.01\"/>\r\n",
       "</g>\r\n",
       "<!-- 58 -->\r\n",
       "<g id=\"node59\" class=\"node\">\r\n",
       "<title>58</title>\r\n",
       "<polygon fill=\"#deeffb\" stroke=\"black\" points=\"2164,-38 2060,-38 2060,0 2164,0 2164,-38\"/>\r\n",
       "<text text-anchor=\"middle\" x=\"2112\" y=\"-22.8\" font-family=\"Times New Roman,serif\" font-size=\"14.00\">samples = 33</text>\r\n",
       "<text text-anchor=\"middle\" x=\"2112\" y=\"-7.8\" font-family=\"Times New Roman,serif\" font-size=\"14.00\">value = [15, 18]</text>\r\n",
       "</g>\r\n",
       "<!-- 56&#45;&gt;58 -->\r\n",
       "<g id=\"edge58\" class=\"edge\">\r\n",
       "<title>56&#45;&gt;58</title>\r\n",
       "<path fill=\"none\" stroke=\"black\" d=\"M2112,-73.91C2112,-65.74 2112,-56.65 2112,-48.3\"/>\r\n",
       "<polygon fill=\"black\" stroke=\"black\" points=\"2115.5,-48.24 2112,-38.24 2108.5,-48.24 2115.5,-48.24\"/>\r\n",
       "</g>\r\n",
       "<!-- 60 -->\r\n",
       "<g id=\"node61\" class=\"node\">\r\n",
       "<title>60</title>\r\n",
       "<polygon fill=\"#ea975b\" stroke=\"black\" points=\"2280,-38 2182,-38 2182,0 2280,0 2280,-38\"/>\r\n",
       "<text text-anchor=\"middle\" x=\"2231\" y=\"-22.8\" font-family=\"Times New Roman,serif\" font-size=\"14.00\">samples = 27</text>\r\n",
       "<text text-anchor=\"middle\" x=\"2231\" y=\"-7.8\" font-family=\"Times New Roman,serif\" font-size=\"14.00\">value = [23, 4]</text>\r\n",
       "</g>\r\n",
       "<!-- 59&#45;&gt;60 -->\r\n",
       "<g id=\"edge60\" class=\"edge\">\r\n",
       "<title>59&#45;&gt;60</title>\r\n",
       "<path fill=\"none\" stroke=\"black\" d=\"M2231,-73.91C2231,-65.74 2231,-56.65 2231,-48.3\"/>\r\n",
       "<polygon fill=\"black\" stroke=\"black\" points=\"2234.5,-48.24 2231,-38.24 2227.5,-48.24 2234.5,-48.24\"/>\r\n",
       "</g>\r\n",
       "<!-- 61 -->\r\n",
       "<g id=\"node62\" class=\"node\">\r\n",
       "<title>61</title>\r\n",
       "<polygon fill=\"#399de5\" stroke=\"black\" points=\"2389.5,-38 2298.5,-38 2298.5,0 2389.5,0 2389.5,-38\"/>\r\n",
       "<text text-anchor=\"middle\" x=\"2344\" y=\"-22.8\" font-family=\"Times New Roman,serif\" font-size=\"14.00\">samples = 1</text>\r\n",
       "<text text-anchor=\"middle\" x=\"2344\" y=\"-7.8\" font-family=\"Times New Roman,serif\" font-size=\"14.00\">value = [0, 1]</text>\r\n",
       "</g>\r\n",
       "<!-- 59&#45;&gt;61 -->\r\n",
       "<g id=\"edge61\" class=\"edge\">\r\n",
       "<title>59&#45;&gt;61</title>\r\n",
       "<path fill=\"none\" stroke=\"black\" d=\"M2267.38,-73.91C2280.92,-64.38 2296.25,-53.59 2309.61,-44.19\"/>\r\n",
       "<polygon fill=\"black\" stroke=\"black\" points=\"2311.91,-46.86 2318.08,-38.24 2307.88,-41.13 2311.91,-46.86\"/>\r\n",
       "</g>\r\n",
       "<!-- 63 -->\r\n",
       "<g id=\"node64\" class=\"node\">\r\n",
       "<title>63</title>\r\n",
       "<polygon fill=\"#e58139\" stroke=\"black\" points=\"2396,-119.5 2298,-119.5 2298,-81.5 2396,-81.5 2396,-119.5\"/>\r\n",
       "<text text-anchor=\"middle\" x=\"2347\" y=\"-104.3\" font-family=\"Times New Roman,serif\" font-size=\"14.00\">samples = 23</text>\r\n",
       "<text text-anchor=\"middle\" x=\"2347\" y=\"-89.3\" font-family=\"Times New Roman,serif\" font-size=\"14.00\">value = [23, 0]</text>\r\n",
       "</g>\r\n",
       "<!-- 62&#45;&gt;63 -->\r\n",
       "<g id=\"edge63\" class=\"edge\">\r\n",
       "<title>62&#45;&gt;63</title>\r\n",
       "<path fill=\"none\" stroke=\"black\" d=\"M2347,-162.87C2347,-152.42 2347,-140.3 2347,-129.61\"/>\r\n",
       "<polygon fill=\"black\" stroke=\"black\" points=\"2350.5,-129.51 2347,-119.51 2343.5,-129.51 2350.5,-129.51\"/>\r\n",
       "</g>\r\n",
       "<!-- 64 -->\r\n",
       "<g id=\"node65\" class=\"node\">\r\n",
       "<title>64</title>\r\n",
       "<polygon fill=\"#f1bb94\" stroke=\"black\" points=\"2512,-127 2414,-127 2414,-74 2512,-74 2512,-127\"/>\r\n",
       "<text text-anchor=\"middle\" x=\"2463\" y=\"-111.8\" font-family=\"Times New Roman,serif\" font-size=\"14.00\">X[0] &lt;= 2.5</text>\r\n",
       "<text text-anchor=\"middle\" x=\"2463\" y=\"-96.8\" font-family=\"Times New Roman,serif\" font-size=\"14.00\">samples = 19</text>\r\n",
       "<text text-anchor=\"middle\" x=\"2463\" y=\"-81.8\" font-family=\"Times New Roman,serif\" font-size=\"14.00\">value = [13, 6]</text>\r\n",
       "</g>\r\n",
       "<!-- 62&#45;&gt;64 -->\r\n",
       "<g id=\"edge64\" class=\"edge\">\r\n",
       "<title>62&#45;&gt;64</title>\r\n",
       "<path fill=\"none\" stroke=\"black\" d=\"M2381.18,-162.87C2393.46,-153.66 2407.46,-143.15 2420.37,-133.47\"/>\r\n",
       "<polygon fill=\"black\" stroke=\"black\" points=\"2422.77,-136.05 2428.67,-127.25 2418.57,-130.45 2422.77,-136.05\"/>\r\n",
       "</g>\r\n",
       "<!-- 65 -->\r\n",
       "<g id=\"node66\" class=\"node\">\r\n",
       "<title>65</title>\r\n",
       "<polygon fill=\"#e78c4b\" stroke=\"black\" points=\"2509,-38 2411,-38 2411,0 2509,0 2509,-38\"/>\r\n",
       "<text text-anchor=\"middle\" x=\"2460\" y=\"-22.8\" font-family=\"Times New Roman,serif\" font-size=\"14.00\">samples = 12</text>\r\n",
       "<text text-anchor=\"middle\" x=\"2460\" y=\"-7.8\" font-family=\"Times New Roman,serif\" font-size=\"14.00\">value = [11, 1]</text>\r\n",
       "</g>\r\n",
       "<!-- 64&#45;&gt;65 -->\r\n",
       "<g id=\"edge65\" class=\"edge\">\r\n",
       "<title>64&#45;&gt;65</title>\r\n",
       "<path fill=\"none\" stroke=\"black\" d=\"M2462.03,-73.91C2461.73,-65.74 2461.38,-56.65 2461.07,-48.3\"/>\r\n",
       "<polygon fill=\"black\" stroke=\"black\" points=\"2464.56,-48.1 2460.69,-38.24 2457.57,-48.36 2464.56,-48.1\"/>\r\n",
       "</g>\r\n",
       "<!-- 66 -->\r\n",
       "<g id=\"node67\" class=\"node\">\r\n",
       "<title>66</title>\r\n",
       "<polygon fill=\"#88c4ef\" stroke=\"black\" points=\"2618.5,-38 2527.5,-38 2527.5,0 2618.5,0 2618.5,-38\"/>\r\n",
       "<text text-anchor=\"middle\" x=\"2573\" y=\"-22.8\" font-family=\"Times New Roman,serif\" font-size=\"14.00\">samples = 7</text>\r\n",
       "<text text-anchor=\"middle\" x=\"2573\" y=\"-7.8\" font-family=\"Times New Roman,serif\" font-size=\"14.00\">value = [2, 5]</text>\r\n",
       "</g>\r\n",
       "<!-- 64&#45;&gt;66 -->\r\n",
       "<g id=\"edge66\" class=\"edge\">\r\n",
       "<title>64&#45;&gt;66</title>\r\n",
       "<path fill=\"none\" stroke=\"black\" d=\"M2498.41,-73.91C2511.6,-64.38 2526.52,-53.59 2539.53,-44.19\"/>\r\n",
       "<polygon fill=\"black\" stroke=\"black\" points=\"2541.71,-46.93 2547.76,-38.24 2537.61,-41.26 2541.71,-46.93\"/>\r\n",
       "</g>\r\n",
       "</g>\r\n",
       "</svg>\r\n"
      ],
      "text/plain": [
       "<graphviz.files.Source at 0x21071f05c40>"
      ]
     },
     "metadata": {},
     "output_type": "display_data"
    }
   ],
   "source": [
    "with open(\"tree.dot\") as f :\n",
    "\n",
    "    dot_graph = f.read()\n",
    "\n",
    "display(graphviz.Source(dot_graph))"
   ]
  },
  {
   "cell_type": "markdown",
   "metadata": {},
   "source": [
    "# 7. 평가"
   ]
  },
  {
   "cell_type": "code",
   "execution_count": 145,
   "metadata": {},
   "outputs": [],
   "source": [
    "pre = tree_model.predict(X_test)"
   ]
  },
  {
   "cell_type": "code",
   "execution_count": 187,
   "metadata": {},
   "outputs": [],
   "source": [
    "gender = pd.read_csv('./gender_submission.csv')\n",
    "gender['Survived'] = pre\n",
    "gender.to_csv('mySubmission01.csv', index = False)"
   ]
  },
  {
   "cell_type": "code",
   "execution_count": 147,
   "metadata": {},
   "outputs": [
    {
     "data": {
      "text/plain": [
       "0.8653198653198653"
      ]
     },
     "execution_count": 147,
     "metadata": {},
     "output_type": "execute_result"
    }
   ],
   "source": [
    "tree_model.score(X_train, y_train)"
   ]
  },
  {
   "cell_type": "markdown",
   "metadata": {},
   "source": [
    "##  5-1 하이퍼 파라미터 튜닝"
   ]
  },
  {
   "cell_type": "code",
   "execution_count": 148,
   "metadata": {},
   "outputs": [],
   "source": [
    "from sklearn.model_selection import train_test_split"
   ]
  },
  {
   "cell_type": "code",
   "execution_count": 149,
   "metadata": {},
   "outputs": [],
   "source": [
    "# 검증 데이터 만들기(validation)\n",
    "X_train, X_val, y_train, y_val = train_test_split(X_train, y_train, random_state = 6)"
   ]
  },
  {
   "cell_type": "code",
   "execution_count": 150,
   "metadata": {},
   "outputs": [
    {
     "data": {
      "text/plain": [
       "((668, 30), (223, 30))"
      ]
     },
     "execution_count": 150,
     "metadata": {},
     "output_type": "execute_result"
    }
   ],
   "source": [
    "X_train.shape, X_val.shape"
   ]
  },
  {
   "cell_type": "code",
   "execution_count": 151,
   "metadata": {},
   "outputs": [],
   "source": [
    "import matplotlib.pyplot as plt"
   ]
  },
  {
   "cell_type": "code",
   "execution_count": 152,
   "metadata": {},
   "outputs": [],
   "source": [
    "train_score_list = []\n",
    "val_score_list = []\n",
    "\n",
    "for md in range(1,50) : # 트리 모델이 단순 -> 복잡\n",
    "    t_model = DecisionTreeClassifier(max_depth=md)\n",
    "    t_model.fit(X_train,y_train)\n",
    "    \n",
    "    train_score = t_model.score(X_train,y_train)\n",
    "    val_score = t_model.score(X_val,y_val)\n",
    "    \n",
    "    train_score_list.append(train_score)\n",
    "    val_score_list.append(val_score)"
   ]
  },
  {
   "cell_type": "code",
   "execution_count": 153,
   "metadata": {},
   "outputs": [
    {
     "data": {
      "image/png": "[encoded data removed]",
      "text/plain": [
       "<Figure size 1080x360 with 1 Axes>"
      ]
     },
     "metadata": {
      "needs_background": "light"
     },
     "output_type": "display_data"
    }
   ],
   "source": [
    "plt.figure(figsize=(15,5)) # 가로,세로\n",
    "plt.plot(train_score_list,label='train')\n",
    "plt.plot(val_score_list,label='validation')\n",
    "plt.xticks(range(0,50))\n",
    "plt.legend(loc = \"upper right\", bbox_to_anchor = (1.12,1.02)) # 범례\n",
    "plt.xlabel('tree', position =(1,0))\n",
    "plt.ylabel('accuracy', rotation = 0, position = (1,1))\n",
    "plt.grid()\n",
    "plt.show()"
   ]
  },
  {
   "cell_type": "markdown",
   "metadata": {},
   "source": [
    "- max_depth을 6으로 설정하자"
   ]
  },
  {
   "cell_type": "markdown",
   "metadata": {},
   "source": [
    "# 6-1 학습"
   ]
  },
  {
   "cell_type": "code",
   "execution_count": 154,
   "metadata": {},
   "outputs": [],
   "source": [
    "X_train = pd.concat([X_train, X_val])\n",
    "\n",
    "y_train = pd.concat([y_train, y_val])"
   ]
  },
  {
   "cell_type": "markdown",
   "metadata": {},
   "source": [
    "#  7. 평가"
   ]
  },
  {
   "cell_type": "code",
   "execution_count": 155,
   "metadata": {},
   "outputs": [
    {
     "data": {
      "text/plain": [
       "DecisionTreeClassifier(max_depth=6)"
      ]
     },
     "execution_count": 155,
     "metadata": {},
     "output_type": "execute_result"
    }
   ],
   "source": [
    "final_tree = DecisionTreeClassifier(max_depth = 6)\n",
    "final_tree.fit(X_train, y_train)"
   ]
  },
  {
   "cell_type": "code",
   "execution_count": 156,
   "metadata": {},
   "outputs": [],
   "source": [
    "final_pre = final_tree.predict(X_test)"
   ]
  },
  {
   "cell_type": "code",
   "execution_count": 157,
   "metadata": {},
   "outputs": [],
   "source": [
    "gender = pd.read_csv('./gender_submission.csv')\n",
    "gender['Survived'] = final_pre\n",
    "gender.to_csv('mySubmission02.csv', index = False)"
   ]
  },
  {
   "cell_type": "markdown",
   "metadata": {},
   "source": [
    "# 5-2 모델 선택 및 하이퍼 파라미터 조정"
   ]
  },
  {
   "cell_type": "code",
   "execution_count": 158,
   "metadata": {},
   "outputs": [],
   "source": [
    "# 교차검증\n",
    "from sklearn.model_selection import cross_val_score\n",
    "final_tree = DecisionTreeClassifier(max_depth = 6)"
   ]
  },
  {
   "cell_type": "markdown",
   "metadata": {},
   "source": [
    "# 6-2 학습"
   ]
  },
  {
   "cell_type": "markdown",
   "metadata": {},
   "source": [
    "# 7-2 평가"
   ]
  },
  {
   "cell_type": "code",
   "execution_count": 159,
   "metadata": {},
   "outputs": [
    {
     "data": {
      "text/plain": [
       "0.8036126366705296"
      ]
     },
     "execution_count": 159,
     "metadata": {},
     "output_type": "execute_result"
    }
   ],
   "source": [
    "# 사용함 모델\n",
    "# 훈련용 문제(X_train)\n",
    "# 훈련용 정답(y_train)\n",
    "# 데이터 분할 수(cv)\n",
    "cross_val_score(final_tree, X_train, y_train, cv = 2). mean()"
   ]
  },
  {
   "cell_type": "code",
   "execution_count": 160,
   "metadata": {},
   "outputs": [
    {
     "name": "stdout",
     "output_type": "stream",
     "text": [
      "1번째의 값 : 0.8147887765990836\n",
      "2번째의 값 : 0.8136651810934655\n",
      "3번째의 값 : 0.8136714581633294\n",
      "4번째의 값 : 0.8148013307388112\n",
      "5번째의 값 : 0.8159123721047015\n",
      "6번째의 값 : 0.8159123721047015\n",
      "7번째의 값 : 0.8147887765990834\n",
      "8번째의 값 : 0.8181532860460738\n",
      "9번째의 값 : 0.8136714581633294\n",
      "10번째의 값 : 0.8159186491745654\n",
      "11번째의 값 : 0.8170359676103196\n",
      "12번째의 값 : 0.8147950536689473\n",
      "13번째의 값 : 0.8147950536689473\n",
      "14번째의 값 : 0.8159060950348378\n",
      "15번째의 값 : 0.8125478626577113\n",
      "16번째의 값 : 0.8136714581633294\n",
      "17번째의 값 : 0.8170422446801833\n",
      "18번째의 값 : 0.8159123721047015\n",
      "19번째의 값 : 0.8147887765990836\n"
     ]
    }
   ],
   "source": [
    "for i in range(1,20):\n",
    "    t_model = DecisionTreeClassifier(max_depth = i)\n",
    "    t_model.fit(X_train, y_train)\n",
    "    result = cross_val_score(final_tree, X_train, y_train, cv = 5).mean()\n",
    "    print('{}번째의 값 : {}'.format(i,result))"
   ]
  },
  {
   "cell_type": "code",
   "execution_count": 161,
   "metadata": {},
   "outputs": [
    {
     "name": "stdout",
     "output_type": "stream",
     "text": [
      "max_depth : 1 score : 0.7777603414726005\n",
      "max_depth : 2 score : 0.7710375996484841\n",
      "max_depth : 3 score : 0.8125855250768941\n",
      "max_depth : 4 score : 0.8215366267026551\n",
      "max_depth : 5 score : 0.8170359676103194\n",
      "max_depth : 6 score : 0.8147887765990836\n",
      "max_depth : 7 score : 0.7990961019396147\n",
      "max_depth : 8 score : 0.8035653756826313\n",
      "max_depth : 9 score : 0.7912058251208336\n",
      "max_depth : 10 score : 0.781112296779863\n",
      "max_depth : 11 score : 0.7934718473416609\n",
      "max_depth : 12 score : 0.7901073378946708\n",
      "max_depth : 13 score : 0.7822484464252086\n",
      "max_depth : 14 score : 0.7789027681878099\n",
      "max_depth : 15 score : 0.7732659594501288\n",
      "max_depth : 16 score : 0.7833720419308267\n",
      "max_depth : 17 score : 0.7755257046010922\n",
      "max_depth : 18 score : 0.7755319816709559\n",
      "max_depth : 19 score : 0.7889900194589166\n",
      "max_depth : 20 score : 0.7800138095537004\n",
      "max_depth : 21 score : 0.7800012554139728\n",
      "max_depth : 22 score : 0.7833720419308267\n",
      "max_depth : 23 score : 0.7800075324838366\n",
      "max_depth : 24 score : 0.7867491055175444\n",
      "max_depth : 25 score : 0.7856317870817902\n",
      "max_depth : 26 score : 0.7833657648609629\n",
      "max_depth : 27 score : 0.7844893603665809\n",
      "max_depth : 28 score : 0.777779172682192\n",
      "max_depth : 29 score : 0.77890276818781\n",
      "max_depth : 30 score : 0.77328479065972\n",
      "max_depth : 31 score : 0.7811436821291821\n",
      "max_depth : 32 score : 0.7800075324838366\n",
      "max_depth : 33 score : 0.7822484464252086\n",
      "max_depth : 34 score : 0.7856129558721988\n",
      "max_depth : 35 score : 0.7901010608248069\n",
      "max_depth : 36 score : 0.780020086623564\n",
      "max_depth : 37 score : 0.7845207457158998\n",
      "max_depth : 38 score : 0.7867491055175443\n",
      "max_depth : 39 score : 0.7889900194589166\n",
      "max_depth : 40 score : 0.7845019145063084\n",
      "max_depth : 41 score : 0.7766555771765739\n",
      "max_depth : 42 score : 0.7856192329420627\n",
      "max_depth : 43 score : 0.7934906785512522\n",
      "max_depth : 44 score : 0.792348251836043\n",
      "max_depth : 45 score : 0.7755257046010923\n",
      "max_depth : 46 score : 0.7856255100119265\n",
      "max_depth : 47 score : 0.7744146632352018\n",
      "max_depth : 48 score : 0.7833720419308267\n",
      "max_depth : 49 score : 0.7811311279894546\n"
     ]
    }
   ],
   "source": [
    "for md in range(1,50):\n",
    "    t_model = DecisionTreeClassifier(max_depth = md)\n",
    "    t_model.fit(X_train, y_train)\n",
    "    \n",
    "    result = cross_val_score(t_model, X_train, y_train, cv = 5)\n",
    "    print('max_depth :',md,'score :', result.mean())"
   ]
  },
  {
   "cell_type": "markdown",
   "metadata": {},
   "source": [
    "# 5-3 모델 선택 및 하이퍼 파라미터 조정"
   ]
  },
  {
   "cell_type": "code",
   "execution_count": 162,
   "metadata": {},
   "outputs": [],
   "source": [
    "from sklearn.ensemble import RandomForestClassifier\n",
    "from sklearn.ensemble import GradientBoostingClassifier"
   ]
  },
  {
   "cell_type": "code",
   "execution_count": 163,
   "metadata": {},
   "outputs": [],
   "source": [
    "rf_model = RandomForestClassifier()\n",
    "gb_model = GradientBoostingClassifier()"
   ]
  },
  {
   "cell_type": "markdown",
   "metadata": {},
   "source": [
    "# 6-3 학습"
   ]
  },
  {
   "cell_type": "code",
   "execution_count": 164,
   "metadata": {},
   "outputs": [
    {
     "data": {
      "text/plain": [
       "RandomForestClassifier()"
      ]
     },
     "execution_count": 164,
     "metadata": {},
     "output_type": "execute_result"
    }
   ],
   "source": [
    "rf_model.fit(X_train, y_train)"
   ]
  },
  {
   "cell_type": "code",
   "execution_count": 165,
   "metadata": {},
   "outputs": [
    {
     "data": {
      "text/plain": [
       "GradientBoostingClassifier()"
      ]
     },
     "execution_count": 165,
     "metadata": {},
     "output_type": "execute_result"
    }
   ],
   "source": [
    "gb_model.fit(X_train, y_train)"
   ]
  },
  {
   "cell_type": "markdown",
   "metadata": {},
   "source": [
    "# 7-3 평가"
   ]
  },
  {
   "cell_type": "code",
   "execution_count": 166,
   "metadata": {},
   "outputs": [],
   "source": [
    "pre = gb_model.predict(X_test)\n",
    "gender = pd.read_csv('./gender_submission.csv')\n",
    "\n",
    "gender['Survived'] = pre\n",
    "\n",
    "gender.to_csv('mySubmission03.csv', index = False)"
   ]
  },
  {
   "cell_type": "code",
   "execution_count": 167,
   "metadata": {},
   "outputs": [
    {
     "data": {
      "text/plain": [
       "0.809189630280585"
      ]
     },
     "execution_count": 167,
     "metadata": {},
     "output_type": "execute_result"
    }
   ],
   "source": [
    "#RandomForest\n",
    "cross_val_score(rf_model, X_train,y_train,cv=5).mean()"
   ]
  },
  {
   "cell_type": "code",
   "execution_count": 168,
   "metadata": {},
   "outputs": [
    {
     "data": {
      "text/plain": [
       "0.8226727763480008"
      ]
     },
     "execution_count": 168,
     "metadata": {},
     "output_type": "execute_result"
    }
   ],
   "source": [
    "#GradientBoosting\n",
    "cross_val_score(gb_model, X_train, y_train, cv=5).mean()"
   ]
  },
  {
   "cell_type": "markdown",
   "metadata": {},
   "source": [
    "# grid search\n",
    "- max_depth = [1,2,3,4,5]\n",
    "- min_samples_leaf = [1,2,3,4,5]\n",
    "- max_leaf_nodes = [1,2,3,4,5]"
   ]
  },
  {
   "cell_type": "code",
   "execution_count": 169,
   "metadata": {},
   "outputs": [],
   "source": [
    "from sklearn.model_selection import GridSearchCV"
   ]
  },
  {
   "cell_type": "code",
   "execution_count": 170,
   "metadata": {},
   "outputs": [],
   "source": [
    "param_grid = {\n",
    "    'max_depth' : [5, 10, 15, 20],\n",
    "    'n_estimators' : [1000, 1500, 2000, 2500],\n",
    "    'max_features' : [0.5, 0.7],\n",
    "    'max_leaf_nodes' : [ 20, 50, 80]\n",
    "}"
   ]
  },
  {
   "cell_type": "code",
   "execution_count": 171,
   "metadata": {},
   "outputs": [],
   "source": [
    "grid = GridSearchCV(rf_model, param_grid, cv = 3)"
   ]
  },
  {
   "cell_type": "markdown",
   "metadata": {},
   "source": [
    "# 5-4 모델 선택 및 하이퍼 파라미터 조정"
   ]
  },
  {
   "cell_type": "code",
   "execution_count": 172,
   "metadata": {},
   "outputs": [],
   "source": [
    "from sklearn.neighbors import KNeighborsClassifier\n",
    "Knn_model = KNeighborsClassifier(n_neighbors =3)"
   ]
  },
  {
   "cell_type": "code",
   "execution_count": 173,
   "metadata": {},
   "outputs": [
    {
     "name": "stdout",
     "output_type": "stream",
     "text": [
      "[0.72625698 0.69662921 0.6741573  0.76404494 0.73595506]\n",
      "0.7194087000188312\n"
     ]
    }
   ],
   "source": [
    "result = cross_val_score(Knn_model,\n",
    "                        X_train,\n",
    "                        y_train,\n",
    "                        cv = 5)\n",
    "print(result)\n",
    "print(result.mean())"
   ]
  },
  {
   "cell_type": "code",
   "execution_count": 174,
   "metadata": {},
   "outputs": [],
   "source": [
    "# standardScaler\n",
    "from sklearn.preprocessing import StandardScaler"
   ]
  },
  {
   "cell_type": "code",
   "execution_count": 175,
   "metadata": {},
   "outputs": [
    {
     "data": {
      "text/plain": [
       "StandardScaler()"
      ]
     },
     "execution_count": 175,
     "metadata": {},
     "output_type": "execute_result"
    }
   ],
   "source": [
    "# 스케일러 학습\n",
    "# 특성들에 대한 값의 범위를 확인하고 새로운 값이 들어 왔을 때\n",
    "# 어떤 값으로 바꿔야하는지를 학습\n",
    "scaler = StandardScaler()\n",
    "scaler.fit(X_train)"
   ]
  },
  {
   "cell_type": "code",
   "execution_count": 176,
   "metadata": {},
   "outputs": [
    {
     "name": "stdout",
     "output_type": "stream",
     "text": [
      "[0.79888268 0.79775281 0.7752809  0.80337079 0.83707865]\n",
      "0.8024731655263324\n"
     ]
    }
   ],
   "source": [
    "# 값을 바꿔줌\n",
    "# transform()\n",
    "trans_X_train = scaler.transform(X_train)\n",
    "result = cross_val_score(Knn_model,\n",
    "                        trans_X_train,\n",
    "                        y_train,\n",
    "                        cv = 5)\n",
    "\n",
    "print(result)\n",
    "print(result.mean())"
   ]
  },
  {
   "cell_type": "code",
   "execution_count": 177,
   "metadata": {},
   "outputs": [
    {
     "data": {
      "text/html": [
       "<div>\n",
       "<style scoped>\n",
       "    .dataframe tbody tr th:only-of-type {\n",
       "        vertical-align: middle;\n",
       "    }\n",
       "\n",
       "    .dataframe tbody tr th {\n",
       "        vertical-align: top;\n",
       "    }\n",
       "\n",
       "    .dataframe thead th {\n",
       "        text-align: right;\n",
       "    }\n",
       "</style>\n",
       "<table border=\"1\" class=\"dataframe\">\n",
       "  <thead>\n",
       "    <tr style=\"text-align: right;\">\n",
       "      <th></th>\n",
       "      <th>시간</th>\n",
       "      <th>성적</th>\n",
       "    </tr>\n",
       "  </thead>\n",
       "  <tbody>\n",
       "    <tr>\n",
       "      <th>해도</th>\n",
       "      <td>2</td>\n",
       "      <td>20</td>\n",
       "    </tr>\n",
       "    <tr>\n",
       "      <th>병관</th>\n",
       "      <td>4</td>\n",
       "      <td>40</td>\n",
       "    </tr>\n",
       "    <tr>\n",
       "      <th>기성</th>\n",
       "      <td>8</td>\n",
       "      <td>80</td>\n",
       "    </tr>\n",
       "    <tr>\n",
       "      <th>동원</th>\n",
       "      <td>9</td>\n",
       "      <td>90</td>\n",
       "    </tr>\n",
       "  </tbody>\n",
       "</table>\n",
       "</div>"
      ],
      "text/plain": [
       "    시간  성적\n",
       "해도   2  20\n",
       "병관   4  40\n",
       "기성   8  80\n",
       "동원   9  90"
      ]
     },
     "execution_count": 177,
     "metadata": {},
     "output_type": "execute_result"
    }
   ],
   "source": [
    "import numpy as np\n",
    "import pandas as pd\n",
    "import matplotlib\n",
    "\n",
    "data = pd.DataFrame([[2,20],[4,40],[8,80],[9,90]],\n",
    "                   index=['해도','병관','기성','동원'],\n",
    "                   columns=['시간','성적'])\n",
    "data"
   ]
  },
  {
   "cell_type": "code",
   "execution_count": null,
   "metadata": {},
   "outputs": [],
   "source": []
  },
  {
   "cell_type": "code",
   "execution_count": null,
   "metadata": {},
   "outputs": [],
   "source": []
  },
  {
   "cell_type": "code",
   "execution_count": null,
   "metadata": {},
   "outputs": [],
   "source": []
  },
  {
   "cell_type": "code",
   "execution_count": null,
   "metadata": {},
   "outputs": [],
   "source": []
  },
  {
   "cell_type": "code",
   "execution_count": null,
   "metadata": {},
   "outputs": [],
   "source": []
  },
  {
   "cell_type": "code",
   "execution_count": null,
   "metadata": {},
   "outputs": [],
   "source": []
  },
  {
   "cell_type": "code",
   "execution_count": null,
   "metadata": {},
   "outputs": [],
   "source": []
  },
  {
   "cell_type": "code",
   "execution_count": null,
   "metadata": {},
   "outputs": [],
   "source": []
  },
  {
   "cell_type": "code",
   "execution_count": null,
   "metadata": {},
   "outputs": [],
   "source": []
  },
  {
   "cell_type": "code",
   "execution_count": null,
   "metadata": {},
   "outputs": [],
   "source": []
  },
  {
   "cell_type": "code",
   "execution_count": null,
   "metadata": {},
   "outputs": [],
   "source": []
  },
  {
   "cell_type": "code",
   "execution_count": null,
   "metadata": {},
   "outputs": [],
   "source": []
  },
  {
   "cell_type": "code",
   "execution_count": null,
   "metadata": {},
   "outputs": [],
   "source": []
  },
  {
   "cell_type": "code",
   "execution_count": null,
   "metadata": {},
   "outputs": [],
   "source": []
  },
  {
   "cell_type": "code",
   "execution_count": null,
   "metadata": {},
   "outputs": [],
   "source": []
  }
 ],
 "metadata": {
  "kernelspec": {
   "display_name": "Python 3",
   "language": "python",
   "name": "python3"
  },
  "language_info": {
   "codemirror_mode": {
    "name": "ipython",
    "version": 3
   },
   "file_extension": ".py",
   "mimetype": "text/x-python",
   "name": "python",
   "nbconvert_exporter": "python",
   "pygments_lexer": "ipython3",
   "version": "3.8.5"
  },
  "toc": {
   "base_numbering": 1,
   "nav_menu": {
    "height": "403px",
    "width": "316px"
   },
   "number_sections": true,
   "sideBar": true,
   "skip_h1_title": false,
   "title_cell": "Table of Contents",
   "title_sidebar": "Contents",
   "toc_cell": false,
   "toc_position": {
    "height": "calc(100% - 180px)",
    "left": "10px",
    "top": "150px",
    "width": "227.188px"
   },
   "toc_section_display": true,
   "toc_window_display": false
  }
 },
 "nbformat": 4,
 "nbformat_minor": 4
}
