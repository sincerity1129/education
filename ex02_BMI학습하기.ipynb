{
 "cells": [
  {
   "cell_type": "markdown",
   "metadata": {},
   "source": [
    "# 1. 문제정의(데이터 다루기)\n",
    "- 목표 : 비만을 판단하는 모델 만들기"
   ]
  },
  {
   "cell_type": "markdown",
   "metadata": {},
   "source": [
    "# 2. 데이터 수집"
   ]
  },
  {
   "cell_type": "code",
   "execution_count": 1,
   "metadata": {},
   "outputs": [],
   "source": [
    "import pandas as pd\n",
    "import matplotlib.pyplot as plt"
   ]
  },
  {
   "cell_type": "code",
   "execution_count": 2,
   "metadata": {},
   "outputs": [],
   "source": [
    "bmi = pd.read_csv('bmi_500.csv', encoding = 'cp949', index_col = 'Label')"
   ]
  },
  {
   "cell_type": "code",
   "execution_count": 3,
   "metadata": {},
   "outputs": [
    {
     "data": {
      "text/html": [
       "<div>\n",
       "<style scoped>\n",
       "    .dataframe tbody tr th:only-of-type {\n",
       "        vertical-align: middle;\n",
       "    }\n",
       "\n",
       "    .dataframe tbody tr th {\n",
       "        vertical-align: top;\n",
       "    }\n",
       "\n",
       "    .dataframe thead th {\n",
       "        text-align: right;\n",
       "    }\n",
       "</style>\n",
       "<table border=\"1\" class=\"dataframe\">\n",
       "  <thead>\n",
       "    <tr style=\"text-align: right;\">\n",
       "      <th></th>\n",
       "      <th>Gender</th>\n",
       "      <th>Height</th>\n",
       "      <th>Weight</th>\n",
       "    </tr>\n",
       "    <tr>\n",
       "      <th>Label</th>\n",
       "      <th></th>\n",
       "      <th></th>\n",
       "      <th></th>\n",
       "    </tr>\n",
       "  </thead>\n",
       "  <tbody>\n",
       "    <tr>\n",
       "      <th>Obesity</th>\n",
       "      <td>Male</td>\n",
       "      <td>174</td>\n",
       "      <td>96</td>\n",
       "    </tr>\n",
       "    <tr>\n",
       "      <th>Normal</th>\n",
       "      <td>Male</td>\n",
       "      <td>189</td>\n",
       "      <td>87</td>\n",
       "    </tr>\n",
       "    <tr>\n",
       "      <th>Obesity</th>\n",
       "      <td>Female</td>\n",
       "      <td>185</td>\n",
       "      <td>110</td>\n",
       "    </tr>\n",
       "    <tr>\n",
       "      <th>Overweight</th>\n",
       "      <td>Female</td>\n",
       "      <td>195</td>\n",
       "      <td>104</td>\n",
       "    </tr>\n",
       "    <tr>\n",
       "      <th>Overweight</th>\n",
       "      <td>Male</td>\n",
       "      <td>149</td>\n",
       "      <td>61</td>\n",
       "    </tr>\n",
       "  </tbody>\n",
       "</table>\n",
       "</div>"
      ],
      "text/plain": [
       "            Gender  Height  Weight\n",
       "Label                             \n",
       "Obesity       Male     174      96\n",
       "Normal        Male     189      87\n",
       "Obesity     Female     185     110\n",
       "Overweight  Female     195     104\n",
       "Overweight    Male     149      61"
      ]
     },
     "execution_count": 3,
     "metadata": {},
     "output_type": "execute_result"
    }
   ],
   "source": [
    "bmi.head()"
   ]
  },
  {
   "cell_type": "code",
   "execution_count": 4,
   "metadata": {},
   "outputs": [
    {
     "data": {
      "text/html": [
       "<div>\n",
       "<style scoped>\n",
       "    .dataframe tbody tr th:only-of-type {\n",
       "        vertical-align: middle;\n",
       "    }\n",
       "\n",
       "    .dataframe tbody tr th {\n",
       "        vertical-align: top;\n",
       "    }\n",
       "\n",
       "    .dataframe thead th {\n",
       "        text-align: right;\n",
       "    }\n",
       "</style>\n",
       "<table border=\"1\" class=\"dataframe\">\n",
       "  <thead>\n",
       "    <tr style=\"text-align: right;\">\n",
       "      <th></th>\n",
       "      <th>Gender</th>\n",
       "      <th>Height</th>\n",
       "      <th>Weight</th>\n",
       "    </tr>\n",
       "    <tr>\n",
       "      <th>Label</th>\n",
       "      <th></th>\n",
       "      <th></th>\n",
       "      <th></th>\n",
       "    </tr>\n",
       "  </thead>\n",
       "  <tbody>\n",
       "    <tr>\n",
       "      <th>Normal</th>\n",
       "      <td>Male</td>\n",
       "      <td>189</td>\n",
       "      <td>87</td>\n",
       "    </tr>\n",
       "    <tr>\n",
       "      <th>Normal</th>\n",
       "      <td>Male</td>\n",
       "      <td>195</td>\n",
       "      <td>81</td>\n",
       "    </tr>\n",
       "    <tr>\n",
       "      <th>Normal</th>\n",
       "      <td>Male</td>\n",
       "      <td>155</td>\n",
       "      <td>51</td>\n",
       "    </tr>\n",
       "    <tr>\n",
       "      <th>Normal</th>\n",
       "      <td>Male</td>\n",
       "      <td>191</td>\n",
       "      <td>79</td>\n",
       "    </tr>\n",
       "    <tr>\n",
       "      <th>Normal</th>\n",
       "      <td>Female</td>\n",
       "      <td>172</td>\n",
       "      <td>67</td>\n",
       "    </tr>\n",
       "    <tr>\n",
       "      <th>...</th>\n",
       "      <td>...</td>\n",
       "      <td>...</td>\n",
       "      <td>...</td>\n",
       "    </tr>\n",
       "    <tr>\n",
       "      <th>Normal</th>\n",
       "      <td>Female</td>\n",
       "      <td>178</td>\n",
       "      <td>65</td>\n",
       "    </tr>\n",
       "    <tr>\n",
       "      <th>Normal</th>\n",
       "      <td>Male</td>\n",
       "      <td>167</td>\n",
       "      <td>64</td>\n",
       "    </tr>\n",
       "    <tr>\n",
       "      <th>Normal</th>\n",
       "      <td>Female</td>\n",
       "      <td>151</td>\n",
       "      <td>55</td>\n",
       "    </tr>\n",
       "    <tr>\n",
       "      <th>Normal</th>\n",
       "      <td>Male</td>\n",
       "      <td>187</td>\n",
       "      <td>80</td>\n",
       "    </tr>\n",
       "    <tr>\n",
       "      <th>Normal</th>\n",
       "      <td>Female</td>\n",
       "      <td>164</td>\n",
       "      <td>59</td>\n",
       "    </tr>\n",
       "  </tbody>\n",
       "</table>\n",
       "<p>69 rows × 3 columns</p>\n",
       "</div>"
      ],
      "text/plain": [
       "        Gender  Height  Weight\n",
       "Label                         \n",
       "Normal    Male     189      87\n",
       "Normal    Male     195      81\n",
       "Normal    Male     155      51\n",
       "Normal    Male     191      79\n",
       "Normal  Female     172      67\n",
       "...        ...     ...     ...\n",
       "Normal  Female     178      65\n",
       "Normal    Male     167      64\n",
       "Normal  Female     151      55\n",
       "Normal    Male     187      80\n",
       "Normal  Female     164      59\n",
       "\n",
       "[69 rows x 3 columns]"
      ]
     },
     "execution_count": 4,
     "metadata": {},
     "output_type": "execute_result"
    }
   ],
   "source": [
    "bmi.loc['Normal']"
   ]
  },
  {
   "cell_type": "code",
   "execution_count": 5,
   "metadata": {},
   "outputs": [
    {
     "data": {
      "text/html": [
       "<div>\n",
       "<style scoped>\n",
       "    .dataframe tbody tr th:only-of-type {\n",
       "        vertical-align: middle;\n",
       "    }\n",
       "\n",
       "    .dataframe tbody tr th {\n",
       "        vertical-align: top;\n",
       "    }\n",
       "\n",
       "    .dataframe thead th {\n",
       "        text-align: right;\n",
       "    }\n",
       "</style>\n",
       "<table border=\"1\" class=\"dataframe\">\n",
       "  <thead>\n",
       "    <tr style=\"text-align: right;\">\n",
       "      <th></th>\n",
       "      <th>Gender</th>\n",
       "      <th>Height</th>\n",
       "      <th>Weight</th>\n",
       "    </tr>\n",
       "    <tr>\n",
       "      <th>Label</th>\n",
       "      <th></th>\n",
       "      <th></th>\n",
       "      <th></th>\n",
       "    </tr>\n",
       "  </thead>\n",
       "  <tbody>\n",
       "    <tr>\n",
       "      <th>Overweight</th>\n",
       "      <td>Female</td>\n",
       "      <td>195</td>\n",
       "      <td>104</td>\n",
       "    </tr>\n",
       "    <tr>\n",
       "      <th>Overweight</th>\n",
       "      <td>Male</td>\n",
       "      <td>149</td>\n",
       "      <td>61</td>\n",
       "    </tr>\n",
       "    <tr>\n",
       "      <th>Overweight</th>\n",
       "      <td>Male</td>\n",
       "      <td>189</td>\n",
       "      <td>104</td>\n",
       "    </tr>\n",
       "    <tr>\n",
       "      <th>Overweight</th>\n",
       "      <td>Male</td>\n",
       "      <td>174</td>\n",
       "      <td>90</td>\n",
       "    </tr>\n",
       "    <tr>\n",
       "      <th>Overweight</th>\n",
       "      <td>Female</td>\n",
       "      <td>192</td>\n",
       "      <td>101</td>\n",
       "    </tr>\n",
       "    <tr>\n",
       "      <th>...</th>\n",
       "      <td>...</td>\n",
       "      <td>...</td>\n",
       "      <td>...</td>\n",
       "    </tr>\n",
       "    <tr>\n",
       "      <th>Overweight</th>\n",
       "      <td>Female</td>\n",
       "      <td>149</td>\n",
       "      <td>61</td>\n",
       "    </tr>\n",
       "    <tr>\n",
       "      <th>Overweight</th>\n",
       "      <td>Female</td>\n",
       "      <td>195</td>\n",
       "      <td>104</td>\n",
       "    </tr>\n",
       "    <tr>\n",
       "      <th>Overweight</th>\n",
       "      <td>Female</td>\n",
       "      <td>188</td>\n",
       "      <td>99</td>\n",
       "    </tr>\n",
       "    <tr>\n",
       "      <th>Overweight</th>\n",
       "      <td>Male</td>\n",
       "      <td>198</td>\n",
       "      <td>109</td>\n",
       "    </tr>\n",
       "    <tr>\n",
       "      <th>Overweight</th>\n",
       "      <td>Female</td>\n",
       "      <td>167</td>\n",
       "      <td>79</td>\n",
       "    </tr>\n",
       "  </tbody>\n",
       "</table>\n",
       "<p>68 rows × 3 columns</p>\n",
       "</div>"
      ],
      "text/plain": [
       "            Gender  Height  Weight\n",
       "Label                             \n",
       "Overweight  Female     195     104\n",
       "Overweight    Male     149      61\n",
       "Overweight    Male     189     104\n",
       "Overweight    Male     174      90\n",
       "Overweight  Female     192     101\n",
       "...            ...     ...     ...\n",
       "Overweight  Female     149      61\n",
       "Overweight  Female     195     104\n",
       "Overweight  Female     188      99\n",
       "Overweight    Male     198     109\n",
       "Overweight  Female     167      79\n",
       "\n",
       "[68 rows x 3 columns]"
      ]
     },
     "execution_count": 5,
     "metadata": {},
     "output_type": "execute_result"
    }
   ],
   "source": [
    "bmi.loc['Overweight']"
   ]
  },
  {
   "cell_type": "code",
   "execution_count": 6,
   "metadata": {},
   "outputs": [
    {
     "data": {
      "text/html": [
       "<div>\n",
       "<style scoped>\n",
       "    .dataframe tbody tr th:only-of-type {\n",
       "        vertical-align: middle;\n",
       "    }\n",
       "\n",
       "    .dataframe tbody tr th {\n",
       "        vertical-align: top;\n",
       "    }\n",
       "\n",
       "    .dataframe thead th {\n",
       "        text-align: right;\n",
       "    }\n",
       "</style>\n",
       "<table border=\"1\" class=\"dataframe\">\n",
       "  <thead>\n",
       "    <tr style=\"text-align: right;\">\n",
       "      <th></th>\n",
       "      <th>Gender</th>\n",
       "      <th>Height</th>\n",
       "      <th>Weight</th>\n",
       "    </tr>\n",
       "    <tr>\n",
       "      <th>Label</th>\n",
       "      <th></th>\n",
       "      <th></th>\n",
       "      <th></th>\n",
       "    </tr>\n",
       "  </thead>\n",
       "  <tbody>\n",
       "    <tr>\n",
       "      <th>Obesity</th>\n",
       "      <td>Male</td>\n",
       "      <td>174</td>\n",
       "      <td>96</td>\n",
       "    </tr>\n",
       "    <tr>\n",
       "      <th>Obesity</th>\n",
       "      <td>Female</td>\n",
       "      <td>185</td>\n",
       "      <td>110</td>\n",
       "    </tr>\n",
       "    <tr>\n",
       "      <th>Obesity</th>\n",
       "      <td>Female</td>\n",
       "      <td>169</td>\n",
       "      <td>103</td>\n",
       "    </tr>\n",
       "    <tr>\n",
       "      <th>Obesity</th>\n",
       "      <td>Female</td>\n",
       "      <td>159</td>\n",
       "      <td>80</td>\n",
       "    </tr>\n",
       "    <tr>\n",
       "      <th>Obesity</th>\n",
       "      <td>Female</td>\n",
       "      <td>169</td>\n",
       "      <td>97</td>\n",
       "    </tr>\n",
       "    <tr>\n",
       "      <th>...</th>\n",
       "      <td>...</td>\n",
       "      <td>...</td>\n",
       "      <td>...</td>\n",
       "    </tr>\n",
       "    <tr>\n",
       "      <th>Obesity</th>\n",
       "      <td>Male</td>\n",
       "      <td>146</td>\n",
       "      <td>85</td>\n",
       "    </tr>\n",
       "    <tr>\n",
       "      <th>Obesity</th>\n",
       "      <td>Female</td>\n",
       "      <td>188</td>\n",
       "      <td>115</td>\n",
       "    </tr>\n",
       "    <tr>\n",
       "      <th>Obesity</th>\n",
       "      <td>Male</td>\n",
       "      <td>173</td>\n",
       "      <td>111</td>\n",
       "    </tr>\n",
       "    <tr>\n",
       "      <th>Obesity</th>\n",
       "      <td>Male</td>\n",
       "      <td>198</td>\n",
       "      <td>136</td>\n",
       "    </tr>\n",
       "    <tr>\n",
       "      <th>Obesity</th>\n",
       "      <td>Female</td>\n",
       "      <td>184</td>\n",
       "      <td>121</td>\n",
       "    </tr>\n",
       "  </tbody>\n",
       "</table>\n",
       "<p>130 rows × 3 columns</p>\n",
       "</div>"
      ],
      "text/plain": [
       "         Gender  Height  Weight\n",
       "Label                          \n",
       "Obesity    Male     174      96\n",
       "Obesity  Female     185     110\n",
       "Obesity  Female     169     103\n",
       "Obesity  Female     159      80\n",
       "Obesity  Female     169      97\n",
       "...         ...     ...     ...\n",
       "Obesity    Male     146      85\n",
       "Obesity  Female     188     115\n",
       "Obesity    Male     173     111\n",
       "Obesity    Male     198     136\n",
       "Obesity  Female     184     121\n",
       "\n",
       "[130 rows x 3 columns]"
      ]
     },
     "execution_count": 6,
     "metadata": {},
     "output_type": "execute_result"
    }
   ],
   "source": [
    "bmi.loc['Obesity']"
   ]
  },
  {
   "cell_type": "markdown",
   "metadata": {},
   "source": [
    "# 3. 데이터 전처리"
   ]
  },
  {
   "cell_type": "code",
   "execution_count": 7,
   "metadata": {},
   "outputs": [
    {
     "name": "stdout",
     "output_type": "stream",
     "text": [
      "<class 'pandas.core.frame.DataFrame'>\n",
      "Index: 500 entries, Obesity to Extreme Obesity\n",
      "Data columns (total 3 columns):\n",
      " #   Column  Non-Null Count  Dtype \n",
      "---  ------  --------------  ----- \n",
      " 0   Gender  500 non-null    object\n",
      " 1   Height  500 non-null    int64 \n",
      " 2   Weight  500 non-null    int64 \n",
      "dtypes: int64(2), object(1)\n",
      "memory usage: 25.6+ KB\n"
     ]
    }
   ],
   "source": [
    "# 전체 데이터 수, 결축치 여부, 컬럼별 정보\n",
    "bmi.info() "
   ]
  },
  {
   "cell_type": "code",
   "execution_count": 8,
   "metadata": {},
   "outputs": [
    {
     "data": {
      "text/html": [
       "<div>\n",
       "<style scoped>\n",
       "    .dataframe tbody tr th:only-of-type {\n",
       "        vertical-align: middle;\n",
       "    }\n",
       "\n",
       "    .dataframe tbody tr th {\n",
       "        vertical-align: top;\n",
       "    }\n",
       "\n",
       "    .dataframe thead th {\n",
       "        text-align: right;\n",
       "    }\n",
       "</style>\n",
       "<table border=\"1\" class=\"dataframe\">\n",
       "  <thead>\n",
       "    <tr style=\"text-align: right;\">\n",
       "      <th></th>\n",
       "      <th>Height</th>\n",
       "      <th>Weight</th>\n",
       "    </tr>\n",
       "  </thead>\n",
       "  <tbody>\n",
       "    <tr>\n",
       "      <th>count</th>\n",
       "      <td>500.000000</td>\n",
       "      <td>500.000000</td>\n",
       "    </tr>\n",
       "    <tr>\n",
       "      <th>mean</th>\n",
       "      <td>169.944000</td>\n",
       "      <td>106.000000</td>\n",
       "    </tr>\n",
       "    <tr>\n",
       "      <th>std</th>\n",
       "      <td>16.375261</td>\n",
       "      <td>32.382607</td>\n",
       "    </tr>\n",
       "    <tr>\n",
       "      <th>min</th>\n",
       "      <td>140.000000</td>\n",
       "      <td>50.000000</td>\n",
       "    </tr>\n",
       "    <tr>\n",
       "      <th>25%</th>\n",
       "      <td>156.000000</td>\n",
       "      <td>80.000000</td>\n",
       "    </tr>\n",
       "    <tr>\n",
       "      <th>50%</th>\n",
       "      <td>170.500000</td>\n",
       "      <td>106.000000</td>\n",
       "    </tr>\n",
       "    <tr>\n",
       "      <th>75%</th>\n",
       "      <td>184.000000</td>\n",
       "      <td>136.000000</td>\n",
       "    </tr>\n",
       "    <tr>\n",
       "      <th>max</th>\n",
       "      <td>199.000000</td>\n",
       "      <td>160.000000</td>\n",
       "    </tr>\n",
       "  </tbody>\n",
       "</table>\n",
       "</div>"
      ],
      "text/plain": [
       "           Height      Weight\n",
       "count  500.000000  500.000000\n",
       "mean   169.944000  106.000000\n",
       "std     16.375261   32.382607\n",
       "min    140.000000   50.000000\n",
       "25%    156.000000   80.000000\n",
       "50%    170.500000  106.000000\n",
       "75%    184.000000  136.000000\n",
       "max    199.000000  160.000000"
      ]
     },
     "execution_count": 8,
     "metadata": {},
     "output_type": "execute_result"
    }
   ],
   "source": [
    "#통계값 확인, 이상치 여부 확인해야하는데 지나치게 다른 값에 비해 큰 값이 있다면 이상치가 있다고 보면 됨\n",
    "# 숫자인 값만 출력함 따라서 여기선 성별은 숫자 값이 아니므로 확인되지 않음\n",
    "bmi.describe()"
   ]
  },
  {
   "cell_type": "markdown",
   "metadata": {},
   "source": [
    "# 4. 탐색적 데이터 분석  - 시각화"
   ]
  },
  {
   "cell_type": "code",
   "execution_count": 9,
   "metadata": {},
   "outputs": [
    {
     "data": {
      "text/plain": [
       "Index(['Obesity', 'Normal', 'Overweight', 'Extreme Obesity', 'Weak',\n",
       "       'Extremely Weak'],\n",
       "      dtype='object', name='Label')"
      ]
     },
     "execution_count": 9,
     "metadata": {},
     "output_type": "execute_result"
    }
   ],
   "source": [
    "# unique : 중복을 제거하고 하나의 값만 출력\n",
    "bmi.index.unique()"
   ]
  },
  {
   "cell_type": "code",
   "execution_count": 10,
   "metadata": {},
   "outputs": [
    {
     "data": {
      "image/png": "[encoded data removed]",
      "text/plain": [
       "<Figure size 360x360 with 1 Axes>"
      ]
     },
     "metadata": {
      "needs_background": "light"
     },
     "output_type": "display_data"
    }
   ],
   "source": [
    "plt.figure(figsize = (5,5)) #가로, 세로 크기\n",
    "plt.scatter(bmi.loc[:, 'Weight'], #scatter는 산점도를 표현하고 첫번째는 가로 \n",
    "           bmi.loc[:,\"Height\"]) #두번째는 세로를 나타내줌\n",
    "plt.xlabel('Weight')\n",
    "plt.ylabel('Height', rotation = 0)\n",
    "plt.show() #그래프 출력하기"
   ]
  },
  {
   "cell_type": "code",
   "execution_count": 11,
   "metadata": {},
   "outputs": [],
   "source": [
    "def myScatter(label, color):\n",
    "    tmp = bmi.loc[label]\n",
    "    plt.scatter(tmp[\"Weight\"],\n",
    "               tmp[\"Height\"],\n",
    "               c = color,\n",
    "               label = label)"
   ]
  },
  {
   "cell_type": "code",
   "execution_count": 12,
   "metadata": {
    "scrolled": false
   },
   "outputs": [
    {
     "data": {
      "image/png": "[encoded data removed]",
      "text/plain": [
       "<Figure size 360x360 with 1 Axes>"
      ]
     },
     "metadata": {
      "needs_background": "light"
     },
     "output_type": "display_data"
    }
   ],
   "source": [
    "#그래프 크기 지정\n",
    "plt.figure(figsize=(5,5))\n",
    "\n",
    "# 클래스별로 다른 색으로 점찍기(산점도 그리기)\n",
    "myScatter('Extremely Weak','black')\n",
    "myScatter('Weak','blue')\n",
    "myScatter('Normal','green')\n",
    "myScatter('Overweight','pink')\n",
    "myScatter('Obesity','purple')\n",
    "myScatter('Extreme Obesity','red')\n",
    "\n",
    "# 클래스별로 라벨 달아주기\n",
    "plt.legend(loc = \"upper right\", bbox_to_anchor = (1.48,1.02))\n",
    "\n",
    "# 축에 이름달기\n",
    "plt.xlabel('Weight', position =(1,0))\n",
    "plt.ylabel('Height', rotation = 0, position = (1,1))\n",
    "plt.title('bmi')\n",
    "plt.show()"
   ]
  },
  {
   "cell_type": "code",
   "execution_count": 13,
   "metadata": {},
   "outputs": [],
   "source": [
    "nor = bmi.loc['Normal']"
   ]
  },
  {
   "cell_type": "code",
   "execution_count": 14,
   "metadata": {},
   "outputs": [],
   "source": [
    "obe = bmi.loc['Obesity']"
   ]
  },
  {
   "cell_type": "code",
   "execution_count": 15,
   "metadata": {},
   "outputs": [
    {
     "data": {
      "image/png": "[encoded data removed]",
      "text/plain": [
       "<Figure size 432x288 with 1 Axes>"
      ]
     },
     "metadata": {
      "needs_background": "light"
     },
     "output_type": "display_data"
    }
   ],
   "source": [
    "plt.scatter(x = nor['Weight'], y = nor['Height'], label = 'Normal')\n",
    "plt.scatter(x = obe['Weight'], y = obe['Height'], label = 'Obesity')\n",
    "\n",
    "plt.legend(bbox_to_anchor = (1.25,0.12))\n",
    "plt.show()"
   ]
  },
  {
   "cell_type": "markdown",
   "metadata": {},
   "source": [
    "# 5. 모델 선택 및 하이퍼파라미터 조정 (모델 다루기)"
   ]
  },
  {
   "cell_type": "code",
   "execution_count": 16,
   "metadata": {},
   "outputs": [],
   "source": [
    "from sklearn.neighbors import KNeighborsClassifier\n",
    "knn_model = KNeighborsClassifier()"
   ]
  },
  {
   "cell_type": "code",
   "execution_count": 17,
   "metadata": {},
   "outputs": [],
   "source": [
    "knn_model1 = KNeighborsClassifier(n_neighbors=23)"
   ]
  },
  {
   "cell_type": "markdown",
   "metadata": {},
   "source": [
    "#  6. 학습"
   ]
  },
  {
   "cell_type": "code",
   "execution_count": 18,
   "metadata": {},
   "outputs": [
    {
     "data": {
      "text/html": [
       "<div>\n",
       "<style scoped>\n",
       "    .dataframe tbody tr th:only-of-type {\n",
       "        vertical-align: middle;\n",
       "    }\n",
       "\n",
       "    .dataframe tbody tr th {\n",
       "        vertical-align: top;\n",
       "    }\n",
       "\n",
       "    .dataframe thead th {\n",
       "        text-align: right;\n",
       "    }\n",
       "</style>\n",
       "<table border=\"1\" class=\"dataframe\">\n",
       "  <thead>\n",
       "    <tr style=\"text-align: right;\">\n",
       "      <th></th>\n",
       "      <th>Gender</th>\n",
       "      <th>Height</th>\n",
       "      <th>Weight</th>\n",
       "      <th>Label</th>\n",
       "    </tr>\n",
       "  </thead>\n",
       "  <tbody>\n",
       "    <tr>\n",
       "      <th>0</th>\n",
       "      <td>Male</td>\n",
       "      <td>174</td>\n",
       "      <td>96</td>\n",
       "      <td>Obesity</td>\n",
       "    </tr>\n",
       "    <tr>\n",
       "      <th>1</th>\n",
       "      <td>Male</td>\n",
       "      <td>189</td>\n",
       "      <td>87</td>\n",
       "      <td>Normal</td>\n",
       "    </tr>\n",
       "    <tr>\n",
       "      <th>2</th>\n",
       "      <td>Female</td>\n",
       "      <td>185</td>\n",
       "      <td>110</td>\n",
       "      <td>Obesity</td>\n",
       "    </tr>\n",
       "    <tr>\n",
       "      <th>3</th>\n",
       "      <td>Female</td>\n",
       "      <td>195</td>\n",
       "      <td>104</td>\n",
       "      <td>Overweight</td>\n",
       "    </tr>\n",
       "    <tr>\n",
       "      <th>4</th>\n",
       "      <td>Male</td>\n",
       "      <td>149</td>\n",
       "      <td>61</td>\n",
       "      <td>Overweight</td>\n",
       "    </tr>\n",
       "  </tbody>\n",
       "</table>\n",
       "</div>"
      ],
      "text/plain": [
       "   Gender  Height  Weight       Label\n",
       "0    Male     174      96     Obesity\n",
       "1    Male     189      87      Normal\n",
       "2  Female     185     110     Obesity\n",
       "3  Female     195     104  Overweight\n",
       "4    Male     149      61  Overweight"
      ]
     },
     "execution_count": 18,
     "metadata": {},
     "output_type": "execute_result"
    }
   ],
   "source": [
    "# 데이터를 문제와 정답\n",
    "#tranin과 test\n",
    "data = pd.read_csv('bmi_500.csv')\n",
    "data.head()"
   ]
  },
  {
   "cell_type": "code",
   "execution_count": 19,
   "metadata": {},
   "outputs": [],
   "source": [
    "X = data.loc[ : , 'Height' : 'Weight']\n",
    "y = data.loc[ : , 'Label']"
   ]
  },
  {
   "cell_type": "code",
   "execution_count": 20,
   "metadata": {},
   "outputs": [
    {
     "data": {
      "text/plain": [
       "((500, 2), (500,))"
      ]
     },
     "execution_count": 20,
     "metadata": {},
     "output_type": "execute_result"
    }
   ],
   "source": [
    "X.shape, y.shape"
   ]
  },
  {
   "cell_type": "code",
   "execution_count": 21,
   "metadata": {},
   "outputs": [],
   "source": [
    "# loc[행, 열] 이상:이하\n",
    "#iloc[행, 열] 이상:미만\n",
    "X_train = X.iloc[:350]\n",
    "X_test = X.iloc[350:]\n",
    "y_train = y.iloc[:350]\n",
    "y_test = y.iloc[350:]"
   ]
  },
  {
   "cell_type": "code",
   "execution_count": 22,
   "metadata": {},
   "outputs": [
    {
     "name": "stdout",
     "output_type": "stream",
     "text": [
      "(350, 2)\n",
      "(150, 2)\n",
      "(350,)\n",
      "(150,)\n"
     ]
    }
   ],
   "source": [
    "print(X_train.shape)\n",
    "print(X_test.shape)\n",
    "print(y_train.shape)\n",
    "print(y_test.shape)"
   ]
  },
  {
   "cell_type": "code",
   "execution_count": 34,
   "metadata": {},
   "outputs": [
    {
     "data": {
      "text/plain": [
       "KNeighborsClassifier()"
      ]
     },
     "execution_count": 34,
     "metadata": {},
     "output_type": "execute_result"
    }
   ],
   "source": [
    "#학습 : fit\n",
    "knn_model.fit(X_train, y_train)"
   ]
  },
  {
   "cell_type": "code",
   "execution_count": 24,
   "metadata": {},
   "outputs": [
    {
     "data": {
      "text/plain": [
       "KNeighborsClassifier(n_neighbors=23)"
      ]
     },
     "execution_count": 24,
     "metadata": {},
     "output_type": "execute_result"
    }
   ],
   "source": [
    "knn_model1.fit(X_train, y_train)"
   ]
  },
  {
   "cell_type": "markdown",
   "metadata": {},
   "source": [
    "# 7. 평가 "
   ]
  },
  {
   "cell_type": "code",
   "execution_count": 25,
   "metadata": {},
   "outputs": [
    {
     "data": {
      "text/plain": [
       "array(['Overweight', 'Normal', 'Normal', 'Extreme Obesity',\n",
       "       'Extremely Weak', 'Obesity', 'Obesity', 'Extreme Obesity', 'Weak',\n",
       "       'Extreme Obesity', 'Weak', 'Extreme Obesity', 'Extreme Obesity',\n",
       "       'Obesity', 'Extreme Obesity', 'Obesity', 'Overweight', 'Obesity',\n",
       "       'Extreme Obesity', 'Obesity', 'Overweight', 'Extreme Obesity',\n",
       "       'Weak', 'Normal', 'Obesity', 'Extreme Obesity', 'Extreme Obesity',\n",
       "       'Extreme Obesity', 'Obesity', 'Overweight', 'Extreme Obesity',\n",
       "       'Weak', 'Obesity', 'Extreme Obesity', 'Extreme Obesity', 'Weak',\n",
       "       'Extreme Obesity', 'Obesity', 'Overweight', 'Normal', 'Normal',\n",
       "       'Normal', 'Normal', 'Overweight', 'Extreme Obesity', 'Overweight',\n",
       "       'Overweight', 'Extreme Obesity', 'Overweight', 'Extreme Obesity',\n",
       "       'Overweight', 'Obesity', 'Normal', 'Obesity', 'Obesity',\n",
       "       'Extreme Obesity', 'Normal', 'Extreme Obesity', 'Extreme Obesity',\n",
       "       'Extreme Obesity', 'Weak', 'Obesity', 'Extreme Obesity',\n",
       "       'Extreme Obesity', 'Extreme Obesity', 'Obesity', 'Extreme Obesity',\n",
       "       'Normal', 'Extreme Obesity', 'Normal', 'Weak', 'Extreme Obesity',\n",
       "       'Extreme Obesity', 'Obesity', 'Weak', 'Weak', 'Extreme Obesity',\n",
       "       'Obesity', 'Obesity', 'Obesity', 'Overweight', 'Extreme Obesity',\n",
       "       'Extreme Obesity', 'Obesity', 'Normal', 'Extreme Obesity',\n",
       "       'Extreme Obesity', 'Extreme Obesity', 'Weak', 'Extreme Obesity',\n",
       "       'Obesity', 'Normal', 'Extreme Obesity', 'Extreme Obesity',\n",
       "       'Obesity', 'Extreme Obesity', 'Obesity', 'Obesity',\n",
       "       'Extreme Obesity', 'Extreme Obesity', 'Extreme Obesity', 'Obesity',\n",
       "       'Extreme Obesity', 'Extremely Weak', 'Normal', 'Normal', 'Obesity',\n",
       "       'Overweight', 'Obesity', 'Extreme Obesity', 'Obesity',\n",
       "       'Extreme Obesity', 'Weak', 'Extreme Obesity', 'Overweight',\n",
       "       'Extreme Obesity', 'Overweight', 'Extreme Obesity',\n",
       "       'Extreme Obesity', 'Overweight', 'Extreme Obesity',\n",
       "       'Extreme Obesity', 'Normal', 'Obesity', 'Overweight', 'Obesity',\n",
       "       'Extreme Obesity', 'Normal', 'Normal', 'Extreme Obesity',\n",
       "       'Extreme Obesity', 'Obesity', 'Extreme Obesity', 'Extreme Obesity',\n",
       "       'Obesity', 'Obesity', 'Extreme Obesity', 'Normal', 'Obesity',\n",
       "       'Extreme Obesity', 'Normal', 'Extreme Obesity', 'Extremely Weak',\n",
       "       'Normal', 'Extreme Obesity', 'Extreme Obesity', 'Obesity',\n",
       "       'Extreme Obesity', 'Extreme Obesity', 'Extreme Obesity'],\n",
       "      dtype=object)"
      ]
     },
     "execution_count": 25,
     "metadata": {},
     "output_type": "execute_result"
    }
   ],
   "source": [
    "# 예측 : predict\n",
    "# 평가 : score\n",
    "knn_model.predict(X_test)"
   ]
  },
  {
   "cell_type": "code",
   "execution_count": 26,
   "metadata": {},
   "outputs": [
    {
     "data": {
      "text/plain": [
       "0.9066666666666666"
      ]
     },
     "execution_count": 26,
     "metadata": {},
     "output_type": "execute_result"
    }
   ],
   "source": [
    "# X_test를 통해서 예측값을 뽑아냄\n",
    "# y_test(실제 정답)를 통해서 예측값과 실제 정답을 비교해서\n",
    "# 얼마나 맞췄는지를 나타냄\n",
    "knn_model.score(X_test, y_test)"
   ]
  },
  {
   "cell_type": "code",
   "execution_count": 27,
   "metadata": {},
   "outputs": [
    {
     "data": {
      "text/plain": [
       "0.8533333333333334"
      ]
     },
     "execution_count": 27,
     "metadata": {},
     "output_type": "execute_result"
    }
   ],
   "source": [
    "knn_model1.score(X_test, y_test)"
   ]
  },
  {
   "cell_type": "code",
   "execution_count": 28,
   "metadata": {},
   "outputs": [
    {
     "data": {
      "text/plain": [
       "array(['Normal'], dtype=object)"
      ]
     },
     "execution_count": 28,
     "metadata": {},
     "output_type": "execute_result"
    }
   ],
   "source": [
    "# 개별 데이터 구하기\n",
    "knn_model.predict([[173,74.93750]])"
   ]
  },
  {
   "cell_type": "code",
   "execution_count": 29,
   "metadata": {},
   "outputs": [
    {
     "name": "stdout",
     "output_type": "stream",
     "text": [
      "1번 0.8866666666666667\n",
      "2번 0.8933333333333333\n",
      "3번 0.8933333333333333\n",
      "4번 0.8933333333333333\n",
      "5번 0.9066666666666666\n",
      "6번 0.92\n",
      "7번 0.9\n",
      "8번 0.9066666666666666\n",
      "9번 0.9133333333333333\n",
      "10번 0.9333333333333333\n",
      "11번 0.8866666666666667\n",
      "12번 0.9133333333333333\n",
      "13번 0.9133333333333333\n",
      "14번 0.8933333333333333\n",
      "15번 0.8866666666666667\n",
      "16번 0.8933333333333333\n",
      "17번 0.8933333333333333\n",
      "18번 0.8933333333333333\n",
      "19번 0.86\n",
      "20번 0.8666666666666667\n",
      "21번 0.8533333333333334\n",
      "22번 0.8533333333333334\n",
      "23번 0.8533333333333334\n",
      "24번 0.8466666666666667\n",
      "25번 0.8466666666666667\n",
      "26번 0.8466666666666667\n",
      "27번 0.8533333333333334\n",
      "28번 0.84\n",
      "29번 0.84\n",
      "30번 0.8333333333333334\n",
      "31번 0.84\n",
      "32번 0.84\n",
      "33번 0.8333333333333334\n",
      "34번 0.8333333333333334\n",
      "35번 0.84\n",
      "36번 0.84\n",
      "37번 0.8333333333333334\n",
      "38번 0.8333333333333334\n",
      "39번 0.8333333333333334\n",
      "40번 0.82\n",
      "41번 0.8266666666666667\n",
      "42번 0.8266666666666667\n",
      "43번 0.8266666666666667\n",
      "44번 0.8133333333333334\n",
      "45번 0.8066666666666666\n",
      "46번 0.8066666666666666\n",
      "47번 0.8066666666666666\n",
      "48번 0.8066666666666666\n",
      "49번 0.8066666666666666\n",
      "50번 0.8133333333333334\n",
      "51번 0.8066666666666666\n",
      "52번 0.8133333333333334\n",
      "53번 0.7866666666666666\n",
      "54번 0.7933333333333333\n",
      "55번 0.7933333333333333\n",
      "56번 0.7933333333333333\n",
      "57번 0.8\n",
      "58번 0.7933333333333333\n",
      "59번 0.7866666666666666\n",
      "60번 0.8\n",
      "61번 0.8\n",
      "62번 0.7933333333333333\n",
      "63번 0.7933333333333333\n",
      "64번 0.7733333333333333\n",
      "65번 0.7733333333333333\n",
      "66번 0.7733333333333333\n",
      "67번 0.7666666666666667\n",
      "68번 0.7533333333333333\n",
      "69번 0.7533333333333333\n",
      "70번 0.74\n",
      "71번 0.74\n",
      "72번 0.7266666666666667\n",
      "73번 0.7333333333333333\n",
      "74번 0.7333333333333333\n",
      "75번 0.7466666666666667\n",
      "76번 0.7333333333333333\n",
      "77번 0.7466666666666667\n",
      "78번 0.74\n",
      "79번 0.7466666666666667\n",
      "80번 0.7066666666666667\n",
      "81번 0.7133333333333334\n",
      "82번 0.7\n",
      "83번 0.7066666666666667\n",
      "84번 0.7066666666666667\n",
      "85번 0.7\n",
      "86번 0.7\n",
      "87번 0.7\n",
      "88번 0.6933333333333334\n",
      "89번 0.6866666666666666\n",
      "90번 0.6866666666666666\n",
      "91번 0.6866666666666666\n",
      "92번 0.6866666666666666\n",
      "93번 0.68\n",
      "94번 0.68\n",
      "95번 0.68\n",
      "96번 0.68\n",
      "97번 0.68\n",
      "98번 0.6866666666666666\n",
      "99번 0.6866666666666666\n",
      "100번 0.6866666666666666\n",
      "101번 0.6866666666666666\n",
      "102번 0.6866666666666666\n",
      "103번 0.68\n",
      "104번 0.6666666666666666\n",
      "105번 0.66\n",
      "106번 0.66\n",
      "107번 0.66\n",
      "108번 0.6666666666666666\n",
      "109번 0.66\n",
      "110번 0.6533333333333333\n",
      "111번 0.6466666666666666\n",
      "112번 0.6466666666666666\n",
      "113번 0.6466666666666666\n",
      "114번 0.6466666666666666\n",
      "115번 0.6533333333333333\n",
      "116번 0.6533333333333333\n",
      "117번 0.6666666666666666\n",
      "118번 0.66\n",
      "119번 0.6466666666666666\n",
      "120번 0.64\n",
      "121번 0.6333333333333333\n",
      "122번 0.6266666666666667\n",
      "123번 0.62\n",
      "124번 0.6133333333333333\n",
      "125번 0.6133333333333333\n",
      "126번 0.6066666666666667\n",
      "127번 0.6066666666666667\n",
      "128번 0.6\n",
      "129번 0.6066666666666667\n",
      "130번 0.5933333333333334\n",
      "131번 0.5866666666666667\n",
      "132번 0.5933333333333334\n",
      "133번 0.5866666666666667\n",
      "134번 0.5866666666666667\n",
      "135번 0.5933333333333334\n",
      "136번 0.5866666666666667\n",
      "137번 0.58\n",
      "138번 0.5866666666666667\n",
      "139번 0.58\n",
      "140번 0.58\n",
      "141번 0.58\n",
      "142번 0.58\n",
      "143번 0.58\n",
      "144번 0.58\n",
      "145번 0.5733333333333334\n",
      "146번 0.5733333333333334\n",
      "147번 0.5733333333333334\n",
      "148번 0.5666666666666667\n",
      "149번 0.56\n",
      "150번 0.5733333333333334\n",
      "151번 0.5666666666666667\n",
      "152번 0.56\n",
      "153번 0.56\n",
      "154번 0.56\n",
      "155번 0.56\n",
      "156번 0.56\n",
      "157번 0.56\n",
      "158번 0.56\n",
      "159번 0.5533333333333333\n",
      "160번 0.5466666666666666\n",
      "161번 0.5466666666666666\n",
      "162번 0.5466666666666666\n",
      "163번 0.5466666666666666\n",
      "164번 0.5333333333333333\n",
      "165번 0.5266666666666666\n",
      "166번 0.5066666666666667\n",
      "167번 0.5133333333333333\n",
      "168번 0.5066666666666667\n",
      "169번 0.49333333333333335\n",
      "170번 0.48\n",
      "171번 0.48\n",
      "172번 0.48\n",
      "173번 0.48\n",
      "174번 0.48\n",
      "175번 0.48\n",
      "176번 0.48\n",
      "177번 0.48\n",
      "178번 0.48\n",
      "179번 0.48\n",
      "180번 0.48\n",
      "181번 0.48\n",
      "182번 0.48\n",
      "183번 0.48\n",
      "184번 0.48\n",
      "185번 0.4866666666666667\n",
      "186번 0.48\n",
      "187번 0.48\n",
      "188번 0.4866666666666667\n",
      "189번 0.4866666666666667\n",
      "190번 0.4866666666666667\n",
      "191번 0.4866666666666667\n",
      "192번 0.4866666666666667\n",
      "193번 0.4866666666666667\n",
      "194번 0.4866666666666667\n",
      "195번 0.4866666666666667\n",
      "196번 0.4866666666666667\n",
      "197번 0.4866666666666667\n",
      "198번 0.4866666666666667\n",
      "199번 0.48\n",
      "200번 0.48\n",
      "201번 0.48\n",
      "202번 0.48\n",
      "203번 0.48\n",
      "204번 0.48\n",
      "205번 0.48\n",
      "206번 0.47333333333333333\n",
      "207번 0.47333333333333333\n",
      "208번 0.47333333333333333\n",
      "209번 0.47333333333333333\n",
      "210번 0.47333333333333333\n",
      "211번 0.4666666666666667\n",
      "212번 0.4666666666666667\n",
      "213번 0.4666666666666667\n",
      "214번 0.4666666666666667\n",
      "215번 0.4666666666666667\n",
      "216번 0.4666666666666667\n",
      "217번 0.4666666666666667\n",
      "218번 0.4666666666666667\n",
      "219번 0.4666666666666667\n",
      "220번 0.4666666666666667\n",
      "221번 0.4666666666666667\n",
      "222번 0.4666666666666667\n",
      "223번 0.4666666666666667\n",
      "224번 0.47333333333333333\n",
      "225번 0.4666666666666667\n",
      "226번 0.4666666666666667\n",
      "227번 0.4666666666666667\n",
      "228번 0.4666666666666667\n",
      "229번 0.46\n",
      "230번 0.46\n",
      "231번 0.4666666666666667\n",
      "232번 0.46\n",
      "233번 0.46\n",
      "234번 0.4533333333333333\n",
      "235번 0.4533333333333333\n",
      "236번 0.46\n",
      "237번 0.46\n",
      "238번 0.4533333333333333\n",
      "239번 0.46\n",
      "240번 0.4533333333333333\n",
      "241번 0.46\n",
      "242번 0.4533333333333333\n",
      "243번 0.46\n",
      "244번 0.4533333333333333\n",
      "245번 0.46\n",
      "246번 0.4666666666666667\n",
      "247번 0.4666666666666667\n",
      "248번 0.46\n",
      "249번 0.4666666666666667\n",
      "250번 0.4666666666666667\n",
      "251번 0.4666666666666667\n",
      "252번 0.47333333333333333\n",
      "253번 0.47333333333333333\n",
      "254번 0.48\n",
      "255번 0.4666666666666667\n",
      "256번 0.47333333333333333\n",
      "257번 0.47333333333333333\n",
      "258번 0.48\n",
      "259번 0.48\n",
      "260번 0.48\n",
      "261번 0.47333333333333333\n",
      "262번 0.47333333333333333\n",
      "263번 0.48\n",
      "264번 0.48\n",
      "265번 0.4866666666666667\n",
      "266번 0.4866666666666667\n",
      "267번 0.4866666666666667\n",
      "268번 0.4866666666666667\n",
      "269번 0.4866666666666667\n",
      "270번 0.4866666666666667\n",
      "271번 0.4866666666666667\n",
      "272번 0.49333333333333335\n",
      "273번 0.49333333333333335\n",
      "274번 0.49333333333333335\n",
      "275번 0.4866666666666667\n",
      "276번 0.4866666666666667\n",
      "277번 0.4866666666666667\n",
      "278번 0.4866666666666667\n",
      "279번 0.4866666666666667\n",
      "280번 0.4866666666666667\n",
      "281번 0.4866666666666667\n",
      "282번 0.4866666666666667\n",
      "283번 0.4866666666666667\n",
      "284번 0.47333333333333333\n",
      "285번 0.47333333333333333\n",
      "286번 0.47333333333333333\n",
      "287번 0.47333333333333333\n",
      "288번 0.4666666666666667\n",
      "289번 0.4666666666666667\n",
      "290번 0.4666666666666667\n",
      "291번 0.47333333333333333\n",
      "292번 0.47333333333333333\n",
      "293번 0.48\n",
      "294번 0.46\n",
      "295번 0.4666666666666667\n",
      "296번 0.4533333333333333\n",
      "297번 0.4533333333333333\n",
      "298번 0.43333333333333335\n",
      "299번 0.44\n",
      "300번 0.43333333333333335\n",
      "301번 0.4266666666666667\n",
      "302번 0.42\n",
      "303번 0.42\n",
      "304번 0.42\n",
      "305번 0.42\n",
      "306번 0.42\n",
      "307번 0.42\n",
      "308번 0.42\n",
      "309번 0.42\n",
      "310번 0.42\n",
      "311번 0.42\n",
      "312번 0.42\n",
      "313번 0.42\n",
      "314번 0.42\n",
      "315번 0.42\n",
      "316번 0.42\n",
      "317번 0.42\n",
      "318번 0.42\n",
      "319번 0.42\n",
      "320번 0.42\n",
      "321번 0.42\n",
      "322번 0.42\n",
      "323번 0.42\n",
      "324번 0.42\n",
      "325번 0.42\n",
      "326번 0.42\n",
      "327번 0.42\n",
      "328번 0.42\n",
      "329번 0.42\n",
      "330번 0.42\n",
      "331번 0.42\n",
      "332번 0.42\n",
      "333번 0.42\n",
      "334번 0.42\n",
      "335번 0.42\n",
      "336번 0.42\n",
      "337번 0.42\n",
      "338번 0.42\n",
      "339번 0.42\n",
      "340번 0.42\n",
      "341번 0.42\n",
      "342번 0.42\n",
      "343번 0.42\n",
      "344번 0.42\n",
      "345번 0.42\n",
      "346번 0.42\n",
      "347번 0.42\n",
      "348번 0.42\n",
      "349번 0.42\n"
     ]
    }
   ],
   "source": [
    "for i in range (1,350):\n",
    "    knn_model1 = KNeighborsClassifier(n_neighbors=i)\n",
    "    knn_model1.fit(X_train, y_train)\n",
    "    result = knn_model1.score(X_test, y_test)\n",
    "    print('{}번 {}'.format(i, result))"
   ]
  }
 ],
 "metadata": {
  "kernelspec": {
   "display_name": "Python 3",
   "language": "python",
   "name": "python3"
  },
  "language_info": {
   "codemirror_mode": {
    "name": "ipython",
    "version": 3
   },
   "file_extension": ".py",
   "mimetype": "text/x-python",
   "name": "python",
   "nbconvert_exporter": "python",
   "pygments_lexer": "ipython3",
   "version": "3.8.5"
  },
  "toc": {
   "base_numbering": 1,
   "nav_menu": {},
   "number_sections": true,
   "sideBar": true,
   "skip_h1_title": false,
   "title_cell": "Table of Contents",
   "title_sidebar": "Contents",
   "toc_cell": false,
   "toc_position": {},
   "toc_section_display": true,
   "toc_window_display": false
  }
 },
 "nbformat": 4,
 "nbformat_minor": 4
}
