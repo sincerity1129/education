{
 "cells": [
  {
   "cell_type": "markdown",
   "metadata": {},
   "source": [
    "# 1. 문제정의\n",
    "- 타이타닉호 탑승객의 정보를 통해서 생존자 / 사망자를 예측해보자!\n",
    "- kaggle에서 좋은 점수를 받기"
   ]
  },
  {
   "cell_type": "markdown",
   "metadata": {},
   "source": [
    "# 2. 데이터 수집\n",
    "- kaggle 사이트에서 train, test, gender_submission\n",
    "- pd.read_csv()"
   ]
  },
  {
   "cell_type": "markdown",
   "metadata": {},
   "source": [
    "# 3. 데이터 전처리\n",
    "- info() : 결측치 여부 확인\n",
    "- describe() : 이상치 여부 확인\n",
    "- 컬럼 삭제 : passengerId삭제 (생존 / 사망과 연관 없음)\n",
    "- 데이터이름.info\n",
    "- 데이터이름.cloumns\n",
    "- 데이터이름.drop('컬럼', axis = 1, inpalce = True)\n",
    "- 결측치 채우기\n",
    "- Embarked : 최빈값 (결측치 개수가 적고, 최빈값이 높은 비율)\n",
    "- 데이터이름['컬럼'].value_counts()\n",
    "- test['컬럼'].fillna('채울문자', inpalce = True)\n",
    "- Fare : 중앙값\n",
    "- 데이터이름['컬럼'].describe() -> 중앙값 구하기\n",
    "- 데이터이름['컬럼'].fillna(중앙값, inplace = True)\n",
    "- Age : 상관관계(결측치가 많다, 값의 범위가 큼)\n",
    "- 데이터이름.corr() -> 컬럼 상관관계\n",
    "- Cabin : 첫글자만 따옴, 결측치 자체를 하나의 데이터로 사용 결측치 자체를 하나의 데이터로 사용\n",
    "- 데이터이름['컬럼'].str[0] -> 첫글자 따오기\n",
    "- 데이터이름['컬럼'].fillna('글자넣기', inplace = True)\n",
    "- 데이터이름['컬럼'].unique() -> 중복제거후 컬럼내 속성보여주기"
   ]
  },
  {
   "cell_type": "markdown",
   "metadata": {},
   "source": [
    "# 4. 탐색적 데이터 분석\n",
    "- 특성 확장\n",
    "- Family_size : 형제자매수(SibSp) + 부모자식수 (Parch) + 1\n",
    "- 데이터이름['통합컬럼'] = 데이터이름['1컬럼'] + train['2컬럼'] + 1\n",
    "- Famliy_Group : Family_size(수치형)을 범주형\n",
    "- 비정형 데이터 > 정형 데이터\n",
    "- Name : 중간에 있는 호칭사용, 호칭의 범주를 줄임\n",
    "- Ticket : 컬럼 삭제\n",
    "- 인코딩\n",
    "- 원핫 인코딩 : 5개 문자 컬럼을 수치화\n",
    "- A = ['1컬럼', '2컬럼','3컬럼', '4컬럼', '5컬럼']\n",
    "- B = pd.concat([train,test], ignore_index =True) -> 'concat'은 행, 열을 기준으로 데이터프레임를 합침\n",
    "- one_hot = pd.get_dummies(B[A]) -> 데이터 합치기\n",
    "- 컬럼 다 보여지기 = pd.concat([B, one_hot], axis = 1)\n"
   ]
  },
  {
   "cell_type": "markdown",
   "metadata": {},
   "source": [
    "# 5. 모델 선택 및 하이퍼 파라미터 조정\n",
    "- 모델 종류\n",
    "- KNN, Decision Tree, RandomForest, GrandientBoost, Linearmodel, SGDRegressor, Lasso, RIdge"
   ]
  },
  {
   "cell_type": "markdown",
   "metadata": {},
   "source": [
    "# 6. 학습\n",
    "- fit()\n",
    "- X_train, X_test, y_train, y_test\n",
    "- 훈련용 데이터(70%)\n",
    "- 평가용 데이터(30%)\n",
    "- 학습을 더 유도하고 싶을 때 훈련 비율 증가\n",
    "- 평가의 신뢰도를 높이고 싶을 때 평가 비율 증가"
   ]
  },
  {
   "cell_type": "markdown",
   "metadata": {},
   "source": [
    "# 7. 평가\n",
    "-  predict() : 예측하는 함수, X_test\n",
    "- score() : 평가, X_test, y_test\n",
    "- 교차검증\n",
    "- 평가 값에 대한 신뢰도를 높일 때\n",
    "- 데이터 수가 부족할 때"
   ]
  }
 ],
 "metadata": {
  "kernelspec": {
   "display_name": "Python 3",
   "language": "python",
   "name": "python3"
  },
  "language_info": {
   "codemirror_mode": {
    "name": "ipython",
    "version": 3
   },
   "file_extension": ".py",
   "mimetype": "text/x-python",
   "name": "python",
   "nbconvert_exporter": "python",
   "pygments_lexer": "ipython3",
   "version": "3.8.5"
  }
 },
 "nbformat": 4,
 "nbformat_minor": 4
}
