{
 "cells": [
  {
   "cell_type": "code",
   "execution_count": 1,
   "metadata": {},
   "outputs": [],
   "source": [
    "import numpy as np\n",
    "import pandas as pd\n",
    "import matplotlib.pyplot as plt\n",
    "\n",
    "#보스턴 주택값 데이터\n",
    "from sklearn.datasets import load_boston"
   ]
  },
  {
   "cell_type": "markdown",
   "metadata": {},
   "source": [
    "# 데이터 확인"
   ]
  },
  {
   "cell_type": "code",
   "execution_count": 2,
   "metadata": {},
   "outputs": [],
   "source": [
    "boston = load_boston()"
   ]
  },
  {
   "cell_type": "code",
   "execution_count": 3,
   "metadata": {},
   "outputs": [
    {
     "data": {
      "text/plain": [
       "dict_keys(['data', 'target', 'feature_names', 'DESCR', 'filename'])"
      ]
     },
     "execution_count": 3,
     "metadata": {},
     "output_type": "execute_result"
    }
   ],
   "source": [
    "boston.keys()"
   ]
  },
  {
   "cell_type": "code",
   "execution_count": 4,
   "metadata": {
    "collapsed": true
   },
   "outputs": [
    {
     "data": {
      "text/plain": [
       "{'data': array([[6.3200e-03, 1.8000e+01, 2.3100e+00, ..., 1.5300e+01, 3.9690e+02,\n",
       "         4.9800e+00],\n",
       "        [2.7310e-02, 0.0000e+00, 7.0700e+00, ..., 1.7800e+01, 3.9690e+02,\n",
       "         9.1400e+00],\n",
       "        [2.7290e-02, 0.0000e+00, 7.0700e+00, ..., 1.7800e+01, 3.9283e+02,\n",
       "         4.0300e+00],\n",
       "        ...,\n",
       "        [6.0760e-02, 0.0000e+00, 1.1930e+01, ..., 2.1000e+01, 3.9690e+02,\n",
       "         5.6400e+00],\n",
       "        [1.0959e-01, 0.0000e+00, 1.1930e+01, ..., 2.1000e+01, 3.9345e+02,\n",
       "         6.4800e+00],\n",
       "        [4.7410e-02, 0.0000e+00, 1.1930e+01, ..., 2.1000e+01, 3.9690e+02,\n",
       "         7.8800e+00]]),\n",
       " 'target': array([24. , 21.6, 34.7, 33.4, 36.2, 28.7, 22.9, 27.1, 16.5, 18.9, 15. ,\n",
       "        18.9, 21.7, 20.4, 18.2, 19.9, 23.1, 17.5, 20.2, 18.2, 13.6, 19.6,\n",
       "        15.2, 14.5, 15.6, 13.9, 16.6, 14.8, 18.4, 21. , 12.7, 14.5, 13.2,\n",
       "        13.1, 13.5, 18.9, 20. , 21. , 24.7, 30.8, 34.9, 26.6, 25.3, 24.7,\n",
       "        21.2, 19.3, 20. , 16.6, 14.4, 19.4, 19.7, 20.5, 25. , 23.4, 18.9,\n",
       "        35.4, 24.7, 31.6, 23.3, 19.6, 18.7, 16. , 22.2, 25. , 33. , 23.5,\n",
       "        19.4, 22. , 17.4, 20.9, 24.2, 21.7, 22.8, 23.4, 24.1, 21.4, 20. ,\n",
       "        20.8, 21.2, 20.3, 28. , 23.9, 24.8, 22.9, 23.9, 26.6, 22.5, 22.2,\n",
       "        23.6, 28.7, 22.6, 22. , 22.9, 25. , 20.6, 28.4, 21.4, 38.7, 43.8,\n",
       "        33.2, 27.5, 26.5, 18.6, 19.3, 20.1, 19.5, 19.5, 20.4, 19.8, 19.4,\n",
       "        21.7, 22.8, 18.8, 18.7, 18.5, 18.3, 21.2, 19.2, 20.4, 19.3, 22. ,\n",
       "        20.3, 20.5, 17.3, 18.8, 21.4, 15.7, 16.2, 18. , 14.3, 19.2, 19.6,\n",
       "        23. , 18.4, 15.6, 18.1, 17.4, 17.1, 13.3, 17.8, 14. , 14.4, 13.4,\n",
       "        15.6, 11.8, 13.8, 15.6, 14.6, 17.8, 15.4, 21.5, 19.6, 15.3, 19.4,\n",
       "        17. , 15.6, 13.1, 41.3, 24.3, 23.3, 27. , 50. , 50. , 50. , 22.7,\n",
       "        25. , 50. , 23.8, 23.8, 22.3, 17.4, 19.1, 23.1, 23.6, 22.6, 29.4,\n",
       "        23.2, 24.6, 29.9, 37.2, 39.8, 36.2, 37.9, 32.5, 26.4, 29.6, 50. ,\n",
       "        32. , 29.8, 34.9, 37. , 30.5, 36.4, 31.1, 29.1, 50. , 33.3, 30.3,\n",
       "        34.6, 34.9, 32.9, 24.1, 42.3, 48.5, 50. , 22.6, 24.4, 22.5, 24.4,\n",
       "        20. , 21.7, 19.3, 22.4, 28.1, 23.7, 25. , 23.3, 28.7, 21.5, 23. ,\n",
       "        26.7, 21.7, 27.5, 30.1, 44.8, 50. , 37.6, 31.6, 46.7, 31.5, 24.3,\n",
       "        31.7, 41.7, 48.3, 29. , 24. , 25.1, 31.5, 23.7, 23.3, 22. , 20.1,\n",
       "        22.2, 23.7, 17.6, 18.5, 24.3, 20.5, 24.5, 26.2, 24.4, 24.8, 29.6,\n",
       "        42.8, 21.9, 20.9, 44. , 50. , 36. , 30.1, 33.8, 43.1, 48.8, 31. ,\n",
       "        36.5, 22.8, 30.7, 50. , 43.5, 20.7, 21.1, 25.2, 24.4, 35.2, 32.4,\n",
       "        32. , 33.2, 33.1, 29.1, 35.1, 45.4, 35.4, 46. , 50. , 32.2, 22. ,\n",
       "        20.1, 23.2, 22.3, 24.8, 28.5, 37.3, 27.9, 23.9, 21.7, 28.6, 27.1,\n",
       "        20.3, 22.5, 29. , 24.8, 22. , 26.4, 33.1, 36.1, 28.4, 33.4, 28.2,\n",
       "        22.8, 20.3, 16.1, 22.1, 19.4, 21.6, 23.8, 16.2, 17.8, 19.8, 23.1,\n",
       "        21. , 23.8, 23.1, 20.4, 18.5, 25. , 24.6, 23. , 22.2, 19.3, 22.6,\n",
       "        19.8, 17.1, 19.4, 22.2, 20.7, 21.1, 19.5, 18.5, 20.6, 19. , 18.7,\n",
       "        32.7, 16.5, 23.9, 31.2, 17.5, 17.2, 23.1, 24.5, 26.6, 22.9, 24.1,\n",
       "        18.6, 30.1, 18.2, 20.6, 17.8, 21.7, 22.7, 22.6, 25. , 19.9, 20.8,\n",
       "        16.8, 21.9, 27.5, 21.9, 23.1, 50. , 50. , 50. , 50. , 50. , 13.8,\n",
       "        13.8, 15. , 13.9, 13.3, 13.1, 10.2, 10.4, 10.9, 11.3, 12.3,  8.8,\n",
       "         7.2, 10.5,  7.4, 10.2, 11.5, 15.1, 23.2,  9.7, 13.8, 12.7, 13.1,\n",
       "        12.5,  8.5,  5. ,  6.3,  5.6,  7.2, 12.1,  8.3,  8.5,  5. , 11.9,\n",
       "        27.9, 17.2, 27.5, 15. , 17.2, 17.9, 16.3,  7. ,  7.2,  7.5, 10.4,\n",
       "         8.8,  8.4, 16.7, 14.2, 20.8, 13.4, 11.7,  8.3, 10.2, 10.9, 11. ,\n",
       "         9.5, 14.5, 14.1, 16.1, 14.3, 11.7, 13.4,  9.6,  8.7,  8.4, 12.8,\n",
       "        10.5, 17.1, 18.4, 15.4, 10.8, 11.8, 14.9, 12.6, 14.1, 13. , 13.4,\n",
       "        15.2, 16.1, 17.8, 14.9, 14.1, 12.7, 13.5, 14.9, 20. , 16.4, 17.7,\n",
       "        19.5, 20.2, 21.4, 19.9, 19. , 19.1, 19.1, 20.1, 19.9, 19.6, 23.2,\n",
       "        29.8, 13.8, 13.3, 16.7, 12. , 14.6, 21.4, 23. , 23.7, 25. , 21.8,\n",
       "        20.6, 21.2, 19.1, 20.6, 15.2,  7. ,  8.1, 13.6, 20.1, 21.8, 24.5,\n",
       "        23.1, 19.7, 18.3, 21.2, 17.5, 16.8, 22.4, 20.6, 23.9, 22. , 11.9]),\n",
       " 'feature_names': array(['CRIM', 'ZN', 'INDUS', 'CHAS', 'NOX', 'RM', 'AGE', 'DIS', 'RAD',\n",
       "        'TAX', 'PTRATIO', 'B', 'LSTAT'], dtype='<U7'),\n",
       " 'DESCR': \".. _boston_dataset:\\n\\nBoston house prices dataset\\n---------------------------\\n\\n**Data Set Characteristics:**  \\n\\n    :Number of Instances: 506 \\n\\n    :Number of Attributes: 13 numeric/categorical predictive. Median Value (attribute 14) is usually the target.\\n\\n    :Attribute Information (in order):\\n        - CRIM     per capita crime rate by town\\n        - ZN       proportion of residential land zoned for lots over 25,000 sq.ft.\\n        - INDUS    proportion of non-retail business acres per town\\n        - CHAS     Charles River dummy variable (= 1 if tract bounds river; 0 otherwise)\\n        - NOX      nitric oxides concentration (parts per 10 million)\\n        - RM       average number of rooms per dwelling\\n        - AGE      proportion of owner-occupied units built prior to 1940\\n        - DIS      weighted distances to five Boston employment centres\\n        - RAD      index of accessibility to radial highways\\n        - TAX      full-value property-tax rate per $10,000\\n        - PTRATIO  pupil-teacher ratio by town\\n        - B        1000(Bk - 0.63)^2 where Bk is the proportion of blacks by town\\n        - LSTAT    % lower status of the population\\n        - MEDV     Median value of owner-occupied homes in $1000's\\n\\n    :Missing Attribute Values: None\\n\\n    :Creator: Harrison, D. and Rubinfeld, D.L.\\n\\nThis is a copy of UCI ML housing dataset.\\nhttps://archive.ics.uci.edu/ml/machine-learning-databases/housing/\\n\\n\\nThis dataset was taken from the StatLib library which is maintained at Carnegie Mellon University.\\n\\nThe Boston house-price data of Harrison, D. and Rubinfeld, D.L. 'Hedonic\\nprices and the demand for clean air', J. Environ. Economics & Management,\\nvol.5, 81-102, 1978.   Used in Belsley, Kuh & Welsch, 'Regression diagnostics\\n...', Wiley, 1980.   N.B. Various transformations are used in the table on\\npages 244-261 of the latter.\\n\\nThe Boston house-price data has been used in many machine learning papers that address regression\\nproblems.   \\n     \\n.. topic:: References\\n\\n   - Belsley, Kuh & Welsch, 'Regression diagnostics: Identifying Influential Data and Sources of Collinearity', Wiley, 1980. 244-261.\\n   - Quinlan,R. (1993). Combining Instance-Based and Model-Based Learning. In Proceedings on the Tenth International Conference of Machine Learning, 236-243, University of Massachusetts, Amherst. Morgan Kaufmann.\\n\",\n",
       " 'filename': 'C:\\\\Users\\\\smhrd\\\\Anaconda3\\\\lib\\\\site-packages\\\\sklearn\\\\datasets\\\\data\\\\boston_house_prices.csv'}"
      ]
     },
     "execution_count": 4,
     "metadata": {},
     "output_type": "execute_result"
    }
   ],
   "source": [
    "boston"
   ]
  },
  {
   "cell_type": "markdown",
   "metadata": {},
   "source": [
    "# train, test로 분리"
   ]
  },
  {
   "cell_type": "code",
   "execution_count": 5,
   "metadata": {
    "collapsed": true
   },
   "outputs": [
    {
     "data": {
      "text/html": [
       "<div>\n",
       "<style scoped>\n",
       "    .dataframe tbody tr th:only-of-type {\n",
       "        vertical-align: middle;\n",
       "    }\n",
       "\n",
       "    .dataframe tbody tr th {\n",
       "        vertical-align: top;\n",
       "    }\n",
       "\n",
       "    .dataframe thead th {\n",
       "        text-align: right;\n",
       "    }\n",
       "</style>\n",
       "<table border=\"1\" class=\"dataframe\">\n",
       "  <thead>\n",
       "    <tr style=\"text-align: right;\">\n",
       "      <th></th>\n",
       "      <th>CRIM</th>\n",
       "      <th>ZN</th>\n",
       "      <th>INDUS</th>\n",
       "      <th>CHAS</th>\n",
       "      <th>NOX</th>\n",
       "      <th>RM</th>\n",
       "      <th>AGE</th>\n",
       "      <th>DIS</th>\n",
       "      <th>RAD</th>\n",
       "      <th>TAX</th>\n",
       "      <th>PTRATIO</th>\n",
       "      <th>B</th>\n",
       "      <th>LSTAT</th>\n",
       "    </tr>\n",
       "  </thead>\n",
       "  <tbody>\n",
       "    <tr>\n",
       "      <th>0</th>\n",
       "      <td>0.00632</td>\n",
       "      <td>18.0</td>\n",
       "      <td>2.31</td>\n",
       "      <td>0.0</td>\n",
       "      <td>0.538</td>\n",
       "      <td>6.575</td>\n",
       "      <td>65.2</td>\n",
       "      <td>4.0900</td>\n",
       "      <td>1.0</td>\n",
       "      <td>296.0</td>\n",
       "      <td>15.3</td>\n",
       "      <td>396.90</td>\n",
       "      <td>4.98</td>\n",
       "    </tr>\n",
       "    <tr>\n",
       "      <th>1</th>\n",
       "      <td>0.02731</td>\n",
       "      <td>0.0</td>\n",
       "      <td>7.07</td>\n",
       "      <td>0.0</td>\n",
       "      <td>0.469</td>\n",
       "      <td>6.421</td>\n",
       "      <td>78.9</td>\n",
       "      <td>4.9671</td>\n",
       "      <td>2.0</td>\n",
       "      <td>242.0</td>\n",
       "      <td>17.8</td>\n",
       "      <td>396.90</td>\n",
       "      <td>9.14</td>\n",
       "    </tr>\n",
       "    <tr>\n",
       "      <th>2</th>\n",
       "      <td>0.02729</td>\n",
       "      <td>0.0</td>\n",
       "      <td>7.07</td>\n",
       "      <td>0.0</td>\n",
       "      <td>0.469</td>\n",
       "      <td>7.185</td>\n",
       "      <td>61.1</td>\n",
       "      <td>4.9671</td>\n",
       "      <td>2.0</td>\n",
       "      <td>242.0</td>\n",
       "      <td>17.8</td>\n",
       "      <td>392.83</td>\n",
       "      <td>4.03</td>\n",
       "    </tr>\n",
       "    <tr>\n",
       "      <th>3</th>\n",
       "      <td>0.03237</td>\n",
       "      <td>0.0</td>\n",
       "      <td>2.18</td>\n",
       "      <td>0.0</td>\n",
       "      <td>0.458</td>\n",
       "      <td>6.998</td>\n",
       "      <td>45.8</td>\n",
       "      <td>6.0622</td>\n",
       "      <td>3.0</td>\n",
       "      <td>222.0</td>\n",
       "      <td>18.7</td>\n",
       "      <td>394.63</td>\n",
       "      <td>2.94</td>\n",
       "    </tr>\n",
       "    <tr>\n",
       "      <th>4</th>\n",
       "      <td>0.06905</td>\n",
       "      <td>0.0</td>\n",
       "      <td>2.18</td>\n",
       "      <td>0.0</td>\n",
       "      <td>0.458</td>\n",
       "      <td>7.147</td>\n",
       "      <td>54.2</td>\n",
       "      <td>6.0622</td>\n",
       "      <td>3.0</td>\n",
       "      <td>222.0</td>\n",
       "      <td>18.7</td>\n",
       "      <td>396.90</td>\n",
       "      <td>5.33</td>\n",
       "    </tr>\n",
       "  </tbody>\n",
       "</table>\n",
       "</div>"
      ],
      "text/plain": [
       "      CRIM    ZN  INDUS  CHAS    NOX     RM   AGE     DIS  RAD    TAX  \\\n",
       "0  0.00632  18.0   2.31   0.0  0.538  6.575  65.2  4.0900  1.0  296.0   \n",
       "1  0.02731   0.0   7.07   0.0  0.469  6.421  78.9  4.9671  2.0  242.0   \n",
       "2  0.02729   0.0   7.07   0.0  0.469  7.185  61.1  4.9671  2.0  242.0   \n",
       "3  0.03237   0.0   2.18   0.0  0.458  6.998  45.8  6.0622  3.0  222.0   \n",
       "4  0.06905   0.0   2.18   0.0  0.458  7.147  54.2  6.0622  3.0  222.0   \n",
       "\n",
       "   PTRATIO       B  LSTAT  \n",
       "0     15.3  396.90   4.98  \n",
       "1     17.8  396.90   9.14  \n",
       "2     17.8  392.83   4.03  \n",
       "3     18.7  394.63   2.94  \n",
       "4     18.7  396.90   5.33  "
      ]
     },
     "execution_count": 5,
     "metadata": {},
     "output_type": "execute_result"
    }
   ],
   "source": [
    "X = pd.DataFrame(boston.data, \n",
    "                columns = boston.feature_names)\n",
    "X.head()"
   ]
  },
  {
   "cell_type": "code",
   "execution_count": 6,
   "metadata": {},
   "outputs": [],
   "source": [
    "y = boston.target"
   ]
  },
  {
   "cell_type": "code",
   "execution_count": 7,
   "metadata": {},
   "outputs": [],
   "source": [
    "# 특성 확장\n",
    "extended_X = X.copy()\n",
    "for col1 in X.columns: # 13번 반복(컬럼이 13개 이므로)\n",
    "    for col2 in X.columns: # 13번 반복(컬럼이 13개 이므로)\n",
    "        extended_X[col1+'x'+col2] = X[col1] * X[col2]"
   ]
  },
  {
   "cell_type": "code",
   "execution_count": 8,
   "metadata": {},
   "outputs": [
    {
     "data": {
      "text/plain": [
       "(506, 182)"
      ]
     },
     "execution_count": 8,
     "metadata": {},
     "output_type": "execute_result"
    }
   ],
   "source": [
    "extended_X.shape"
   ]
  },
  {
   "cell_type": "code",
   "execution_count": 9,
   "metadata": {},
   "outputs": [],
   "source": [
    "from sklearn.model_selection import train_test_split"
   ]
  },
  {
   "cell_type": "code",
   "execution_count": 10,
   "metadata": {},
   "outputs": [],
   "source": [
    "X_train,X_test,y_train,y_test = train_test_split(extended_X,\n",
    "                                                y,\n",
    "                                                test_size = 0.3,\n",
    "                                                random_state = 3)"
   ]
  },
  {
   "cell_type": "code",
   "execution_count": 11,
   "metadata": {},
   "outputs": [
    {
     "data": {
      "text/plain": [
       "((354, 182), (152, 182), (354,), (152,))"
      ]
     },
     "execution_count": 11,
     "metadata": {},
     "output_type": "execute_result"
    }
   ],
   "source": [
    "X_train.shape,X_test.shape,y_train.shape,y_test.shape"
   ]
  },
  {
   "cell_type": "markdown",
   "metadata": {},
   "source": [
    "# LinearRegression"
   ]
  },
  {
   "cell_type": "code",
   "execution_count": 12,
   "metadata": {},
   "outputs": [],
   "source": [
    "from sklearn.linear_model import LinearRegression"
   ]
  },
  {
   "cell_type": "code",
   "execution_count": 13,
   "metadata": {},
   "outputs": [],
   "source": [
    "linear_model = LinearRegression()"
   ]
  },
  {
   "cell_type": "code",
   "execution_count": 14,
   "metadata": {},
   "outputs": [
    {
     "data": {
      "text/plain": [
       "LinearRegression()"
      ]
     },
     "execution_count": 14,
     "metadata": {},
     "output_type": "execute_result"
    }
   ],
   "source": [
    "linear_model.fit(X_train,y_train)"
   ]
  },
  {
   "cell_type": "code",
   "execution_count": 15,
   "metadata": {},
   "outputs": [
    {
     "name": "stdout",
     "output_type": "stream",
     "text": [
      "train score :  0.9357787044789607\n",
      "test score :  0.846041511351545\n"
     ]
    }
   ],
   "source": [
    "print('train score : ', linear_model.score(X_train,y_train))\n",
    "print('test score : ', linear_model.score(X_test,y_test))"
   ]
  },
  {
   "cell_type": "code",
   "execution_count": 16,
   "metadata": {
    "collapsed": true
   },
   "outputs": [
    {
     "name": "stdout",
     "output_type": "stream",
     "text": [
      "test_size가 0.1이고 random_state가 1일 때 train은 0.9279139991169827이고 test는 0.9227710160281117이다\n",
      "test_size가 0.1이고 random_state가 2일 때 train은 0.9311658924042197이고 test는 0.8582115844360623이다\n",
      "test_size가 0.1이고 random_state가 3일 때 train은 0.9297351441734043이고 test는 0.8698845843409175이다\n",
      "test_size가 0.1이고 random_state가 4일 때 train은 0.9321741344217772이고 test는 0.8441298858188319이다\n",
      "test_size가 0.1이고 random_state가 5일 때 train은 0.9288798366141744이고 test는 0.900609946702296이다\n",
      "test_size가 0.1이고 random_state가 6일 때 train은 0.9404374629364157이고 test는 0.4977840889761328이다\n",
      "test_size가 0.1이고 random_state가 7일 때 train은 0.9310160486853125이고 test는 0.8511873125742759이다\n",
      "test_size가 0.1이고 random_state가 8일 때 train은 0.9330936866548066이고 test는 0.8323067458941452이다\n",
      "test_size가 0.1이고 random_state가 9일 때 train은 0.9261173002113927이고 test는 0.9174980820771952이다\n",
      "test_size가 0.1이고 random_state가 10일 때 train은 0.9311564963831307이고 test는 0.8640735806124433이다\n",
      "test_size가 0.1이고 random_state가 11일 때 train은 0.9291528442102587이고 test는 0.8744315226395195이다\n",
      "test_size가 0.1이고 random_state가 12일 때 train은 0.9311713564372006이고 test는 0.8602529943265267이다\n",
      "test_size가 0.1이고 random_state가 13일 때 train은 0.9302917831613009이고 test는 0.8657156756142964이다\n",
      "test_size가 0.1이고 random_state가 14일 때 train은 0.9325408181942131이고 test는 0.8163657973497379이다\n",
      "test_size가 0.1이고 random_state가 15일 때 train은 0.9284802128216249이고 test는 0.9088434646443315이다\n",
      "test_size가 0.1이고 random_state가 16일 때 train은 0.934589655137903이고 test는 0.8055405695471942이다\n",
      "test_size가 0.1이고 random_state가 17일 때 train은 0.9307416195528667이고 test는 0.8793835161218505이다\n",
      "test_size가 0.1이고 random_state가 18일 때 train은 0.9381672654641456이고 test는 0.8090043170726666이다\n",
      "test_size가 0.1이고 random_state가 19일 때 train은 0.9308967975230016이고 test는 0.8690432931020919이다\n",
      "test_size가 0.2이고 random_state가 1일 때 train은 0.9264046957163301이고 test는 0.9116244055449827이다\n",
      "test_size가 0.2이고 random_state가 2일 때 train은 0.9295925088768034이고 test는 0.8963635527049624이다\n",
      "test_size가 0.2이고 random_state가 3일 때 train은 0.930546879940932이고 test는 0.8600492818184109이다\n",
      "test_size가 0.2이고 random_state가 4일 때 train은 0.9313354836053279이고 test는 0.8357294288648118이다\n",
      "test_size가 0.2이고 random_state가 5일 때 train은 0.931556900465191이고 test는 0.869494390859252이다\n",
      "test_size가 0.2이고 random_state가 6일 때 train은 0.9407536020164586이고 test는 0.6394192060306658이다\n",
      "test_size가 0.2이고 random_state가 7일 때 train은 0.9336498571509423이고 test는 0.6178623854574309이다\n",
      "test_size가 0.2이고 random_state가 8일 때 train은 0.9357980594011165이고 test는 0.847873607971809이다\n",
      "test_size가 0.2이고 random_state가 9일 때 train은 0.9291260588922281이고 test는 0.8711776916105889이다\n",
      "test_size가 0.2이고 random_state가 10일 때 train은 0.9319230461477532이고 test는 0.8749973785880552이다\n",
      "test_size가 0.2이고 random_state가 11일 때 train은 0.9438852875785727이고 test는 0.8038912773831368이다\n",
      "test_size가 0.2이고 random_state가 12일 때 train은 0.9393683467749042이고 test는 0.8107596453761751이다\n",
      "test_size가 0.2이고 random_state가 13일 때 train은 0.9323190910664715이고 test는 0.8429347286331608이다\n",
      "test_size가 0.2이고 random_state가 14일 때 train은 0.9446062914324489이고 test는 0.7537026794239565이다\n",
      "test_size가 0.2이고 random_state가 15일 때 train은 0.9325110031499105이고 test는 0.8652716385882624이다\n",
      "test_size가 0.2이고 random_state가 16일 때 train은 0.9364354171063222이고 test는 0.7925492866750491이다\n",
      "test_size가 0.2이고 random_state가 17일 때 train은 0.9433724142996939이고 test는 0.8129285057320608이다\n",
      "test_size가 0.2이고 random_state가 18일 때 train은 0.9429748697596012이고 test는 0.8009416011628445이다\n",
      "test_size가 0.2이고 random_state가 19일 때 train은 0.9456257259118283이고 test는 0.805806275075653이다\n",
      "test_size가 0.3이고 random_state가 1일 때 train은 0.9315216269307351이고 test는 0.8043803931067068이다\n",
      "test_size가 0.3이고 random_state가 2일 때 train은 0.9456843205315971이고 test는 0.8218730899648636이다\n",
      "test_size가 0.3이고 random_state가 3일 때 train은 0.9357787044789607이고 test는 0.846041511351545이다\n",
      "test_size가 0.3이고 random_state가 4일 때 train은 0.928056404727595이고 test는 0.8581336375757123이다\n",
      "test_size가 0.3이고 random_state가 5일 때 train은 0.9332471683804467이고 test는 0.8093536759438125이다\n",
      "test_size가 0.3이고 random_state가 6일 때 train은 0.9533904329328827이고 test는 0.6804083006311394이다\n",
      "test_size가 0.3이고 random_state가 7일 때 train은 0.9362446974205855이고 test는 0.6531163774814156이다\n",
      "test_size가 0.3이고 random_state가 8일 때 train은 0.9375704676427563이고 test는 0.8411023100404112이다\n",
      "test_size가 0.3이고 random_state가 9일 때 train은 0.9343849264962594이고 test는 0.8451911527047877이다\n",
      "test_size가 0.3이고 random_state가 10일 때 train은 0.9327287349548257이고 test는 0.8737472733472116이다\n",
      "test_size가 0.3이고 random_state가 11일 때 train은 0.9440662127851986이고 test는 0.8316359070918893이다\n",
      "test_size가 0.3이고 random_state가 12일 때 train은 0.9383294816190616이고 test는 0.8343551418938078이다\n",
      "test_size가 0.3이고 random_state가 13일 때 train은 0.939975372489433이고 test는 0.755496034671736이다\n",
      "test_size가 0.3이고 random_state가 14일 때 train은 0.945219925863015이고 test는 0.8217205550877409이다\n",
      "test_size가 0.3이고 random_state가 15일 때 train은 0.9343064036747835이고 test는 0.7920084656903924이다\n",
      "test_size가 0.3이고 random_state가 16일 때 train은 0.9430184029503451이고 test는 0.7794106596027786이다\n",
      "test_size가 0.3이고 random_state가 17일 때 train은 0.9469431442298464이고 test는 0.7932771118145793이다\n",
      "test_size가 0.3이고 random_state가 18일 때 train은 0.9475347858086267이고 test는 0.7675883712757169이다\n",
      "test_size가 0.3이고 random_state가 19일 때 train은 0.9465502155557806이고 test는 0.7895969922774667이다\n",
      "test_size가 0.4이고 random_state가 1일 때 train은 0.9345857553029957이고 test는 0.7669939119285408이다\n",
      "test_size가 0.4이고 random_state가 2일 때 train은 0.944787282938989이고 test는 0.7676536234145712이다\n",
      "test_size가 0.4이고 random_state가 3일 때 train은 0.9351716051946937이고 test는 0.8218021752350217이다\n",
      "test_size가 0.4이고 random_state가 4일 때 train은 0.9192651381410182이고 test는 0.5561385980404325이다\n",
      "test_size가 0.4이고 random_state가 5일 때 train은 0.934383664247809이고 test는 0.8277293253470668이다\n",
      "test_size가 0.4이고 random_state가 6일 때 train은 0.9566204793280744이고 test는 0.7026546004850834이다\n",
      "test_size가 0.4이고 random_state가 7일 때 train은 0.931644036147379이고 test는 0.6892394449418514이다\n",
      "test_size가 0.4이고 random_state가 8일 때 train은 0.9372139444170823이고 test는 0.8391999441796336이다\n",
      "test_size가 0.4이고 random_state가 9일 때 train은 0.9299201537561546이고 test는 0.879251710068446이다\n",
      "test_size가 0.4이고 random_state가 10일 때 train은 0.9344394883545656이고 test는 0.7821370821981593이다\n",
      "test_size가 0.4이고 random_state가 11일 때 train은 0.9459849416556002이고 test는 -0.4387755962544755이다\n",
      "test_size가 0.4이고 random_state가 12일 때 train은 0.9473058006670395이고 test는 0.8023277368291691이다\n",
      "test_size가 0.4이고 random_state가 13일 때 train은 0.945356130382814이고 test는 0.317696483704316이다\n",
      "test_size가 0.4이고 random_state가 14일 때 train은 0.9460689497310614이고 test는 0.822853964743453이다\n",
      "test_size가 0.4이고 random_state가 15일 때 train은 0.9355093720921515이고 test는 0.7583516958121683이다\n",
      "test_size가 0.4이고 random_state가 16일 때 train은 0.9467051544201596이고 test는 0.7721734877661187이다\n",
      "test_size가 0.4이고 random_state가 17일 때 train은 0.9527222303486341이고 test는 0.7182572397389093이다\n",
      "test_size가 0.4이고 random_state가 18일 때 train은 0.9518176663985469이고 test는 0.6733223996367559이다\n",
      "test_size가 0.4이고 random_state가 19일 때 train은 0.9508076944442904이고 test는 0.795207225033925이다\n",
      "test_size가 0.5이고 random_state가 1일 때 train은 0.9319897792166353이고 test는 0.7625514810801791이다\n",
      "test_size가 0.5이고 random_state가 2일 때 train은 0.9601305747938728이고 test는 0.7268983427014502이다\n",
      "test_size가 0.5이고 random_state가 3일 때 train은 0.9552077138117377이고 test는 0.7115512096316143이다\n",
      "test_size가 0.5이고 random_state가 4일 때 train은 0.9290489343047617이고 test는 0.5249689654863595이다\n",
      "test_size가 0.5이고 random_state가 5일 때 train은 0.9399032523377397이고 test는 0.7708974270123428이다\n",
      "test_size가 0.5이고 random_state가 6일 때 train은 0.9660080557278452이고 test는 0.6077505536297771이다\n",
      "test_size가 0.5이고 random_state가 7일 때 train은 0.9582434527955903이고 test는 -0.02481021182163179이다\n",
      "test_size가 0.5이고 random_state가 8일 때 train은 0.9493285639771979이고 test는 0.7977348506843832이다\n",
      "test_size가 0.5이고 random_state가 9일 때 train은 0.9417781327382991이고 test는 -241.7615062197499이다\n",
      "test_size가 0.5이고 random_state가 10일 때 train은 0.9405918475298393이고 test는 0.10508901992939579이다\n",
      "test_size가 0.5이고 random_state가 11일 때 train은 0.9512958427357775이고 test는 -0.33929868490339765이다\n",
      "test_size가 0.5이고 random_state가 12일 때 train은 0.9539970476762162이고 test는 0.6082110255208693이다\n",
      "test_size가 0.5이고 random_state가 13일 때 train은 0.9650897154866335이고 test는 -0.11278384771422356이다\n",
      "test_size가 0.5이고 random_state가 14일 때 train은 0.9525857889999454이고 test는 0.8150874150533378이다\n",
      "test_size가 0.5이고 random_state가 15일 때 train은 0.9408431695576887이고 test는 0.4107545908505741이다\n",
      "test_size가 0.5이고 random_state가 16일 때 train은 0.9550467876519368이고 test는 0.7282132778619872이다\n",
      "test_size가 0.5이고 random_state가 17일 때 train은 0.9598435601636239이고 test는 0.6161360507592744이다\n",
      "test_size가 0.5이고 random_state가 18일 때 train은 0.9589242351640683이고 test는 0.6578764554215759이다\n",
      "test_size가 0.5이고 random_state가 19일 때 train은 0.9597470480795871이고 test는 0.7318969750123263이다\n",
      "test_size가 0.6이고 random_state가 1일 때 train은 0.943686633398581이고 test는 0.6412779621339191이다\n",
      "test_size가 0.6이고 random_state가 2일 때 train은 0.9741928556533276이고 test는 -2.877720826231304이다\n",
      "test_size가 0.6이고 random_state가 3일 때 train은 0.9606908234607012이고 test는 0.679276033743178이다\n",
      "test_size가 0.6이고 random_state가 4일 때 train은 0.9407839990826857이고 test는 0.018669011382248524이다\n",
      "test_size가 0.6이고 random_state가 5일 때 train은 0.9493868976320406이고 test는 0.5798760513351631이다\n",
      "test_size가 0.6이고 random_state가 6일 때 train은 0.9679147275220059이고 test는 0.5675402908468017이다\n",
      "test_size가 0.6이고 random_state가 7일 때 train은 0.9713355630726108이고 test는 -50.179679233015776이다\n",
      "test_size가 0.6이고 random_state가 8일 때 train은 0.9619011052856281이고 test는 0.3195168033919421이다\n",
      "test_size가 0.6이고 random_state가 9일 때 train은 0.9436451760904426이고 test는 -1.2434490895977155이다\n",
      "test_size가 0.6이고 random_state가 10일 때 train은 0.9400775276146455이고 test는 0.20091437458700745이다\n",
      "test_size가 0.6이고 random_state가 11일 때 train은 0.9576451253266388이고 test는 -1.9611769328347828이다\n"
     ]
    },
    {
     "name": "stdout",
     "output_type": "stream",
     "text": [
      "test_size가 0.6이고 random_state가 12일 때 train은 0.9661001658376929이고 test는 0.6381197358309472이다\n",
      "test_size가 0.6이고 random_state가 13일 때 train은 0.9746555370141786이고 test는 0.1276686547549405이다\n",
      "test_size가 0.6이고 random_state가 14일 때 train은 0.9620088217976509이고 test는 0.7476078002845084이다\n",
      "test_size가 0.6이고 random_state가 15일 때 train은 0.9601138794679255이고 test는 -3709.549831246692이다\n",
      "test_size가 0.6이고 random_state가 16일 때 train은 0.962721615110921이고 test는 0.49318559430320796이다\n",
      "test_size가 0.6이고 random_state가 17일 때 train은 0.9602256472169355이고 test는 -1.5114842757073892이다\n",
      "test_size가 0.6이고 random_state가 18일 때 train은 0.9615457539094011이고 test는 -31.87466991002873이다\n",
      "test_size가 0.6이고 random_state가 19일 때 train은 0.9728673395930213이고 test는 0.3013084150481051이다\n",
      "test_size가 0.7이고 random_state가 1일 때 train은 0.9641654975149733이고 test는 -1.0517983342800328이다\n",
      "test_size가 0.7이고 random_state가 2일 때 train은 0.988976072593574이고 test는 0.07243252726362892이다\n",
      "test_size가 0.7이고 random_state가 3일 때 train은 0.983960758404011이고 test는 0.27789335770056334이다\n",
      "test_size가 0.7이고 random_state가 4일 때 train은 0.947933827966855이고 test는 0.25748652662803084이다\n",
      "test_size가 0.7이고 random_state가 5일 때 train은 0.9777427037267534이고 test는 -1.046243865555033이다\n",
      "test_size가 0.7이고 random_state가 6일 때 train은 0.983626676106285이고 test는 -0.081314203779987이다\n",
      "test_size가 0.7이고 random_state가 7일 때 train은 0.9766813689109608이고 test는 -0.2496457518019497이다\n",
      "test_size가 0.7이고 random_state가 8일 때 train은 0.9745959491981776이고 test는 -0.5919954688003948이다\n",
      "test_size가 0.7이고 random_state가 9일 때 train은 0.9575083978273928이고 test는 -1.50649816791018이다\n",
      "test_size가 0.7이고 random_state가 10일 때 train은 0.9595495218578379이고 test는 -1.0598346141168964이다\n",
      "test_size가 0.7이고 random_state가 11일 때 train은 0.9801261426722168이고 test는 -0.8641862930505262이다\n",
      "test_size가 0.7이고 random_state가 12일 때 train은 0.9824374074952795이고 test는 -1.1139037853724818이다\n",
      "test_size가 0.7이고 random_state가 13일 때 train은 0.9821652616217109이고 test는 -0.6260955023817565이다\n",
      "test_size가 0.7이고 random_state가 14일 때 train은 0.9822502421846434이고 test는 0.2839241368399287이다\n",
      "test_size가 0.7이고 random_state가 15일 때 train은 0.9793731454481879이고 test는 0.20406409590059094이다\n",
      "test_size가 0.7이고 random_state가 16일 때 train은 0.9784164074988764이고 test는 -0.8886363480683437이다\n",
      "test_size가 0.7이고 random_state가 17일 때 train은 0.9716308362518266이고 test는 -3.322787894119867이다\n",
      "test_size가 0.7이고 random_state가 18일 때 train은 0.982429629804732이고 test는 -0.6658679138727073이다\n",
      "test_size가 0.7이고 random_state가 19일 때 train은 0.9844831835492279이고 test는 -0.9308777807930586이다\n",
      "test_size가 0.8이고 random_state가 1일 때 train은 0.9981978047601241이고 test는 -175.38014472957371이다\n",
      "test_size가 0.8이고 random_state가 2일 때 train은 0.9991615220721562이고 test는 -3.694538496752987이다\n",
      "test_size가 0.8이고 random_state가 3일 때 train은 0.9995695681431888이고 test는 -13.52909413167031이다\n",
      "test_size가 0.8이고 random_state가 4일 때 train은 0.9810239288381115이고 test는 -13.878209558104361이다\n",
      "test_size가 0.8이고 random_state가 5일 때 train은 0.9978962493634413이고 test는 -55.309349050631이다\n",
      "test_size가 0.8이고 random_state가 6일 때 train은 0.9985851732701176이고 test는 -4.872298298145859이다\n",
      "test_size가 0.8이고 random_state가 7일 때 train은 0.9978412377655145이고 test는 -6.246855164658072이다\n",
      "test_size가 0.8이고 random_state가 8일 때 train은 0.9923830030860171이고 test는 -51.334594766743415이다\n",
      "test_size가 0.8이고 random_state가 9일 때 train은 0.9982900653308254이고 test는 -116.60613446014182이다\n",
      "test_size가 0.8이고 random_state가 10일 때 train은 0.9994041438989479이고 test는 -20.6070934485592이다\n",
      "test_size가 0.8이고 random_state가 11일 때 train은 0.9998983894479394이고 test는 -22.973207717557973이다\n",
      "test_size가 0.8이고 random_state가 12일 때 train은 0.999114220898632이고 test는 -3.239802665997372이다\n",
      "test_size가 0.8이고 random_state가 13일 때 train은 0.9985076488131889이고 test는 -42.27519746340468이다\n",
      "test_size가 0.8이고 random_state가 14일 때 train은 0.9999999999999996이고 test는 -937.5313598243864이다\n",
      "test_size가 0.8이고 random_state가 15일 때 train은 0.9973922840975001이고 test는 -64.18128353813628이다\n",
      "test_size가 0.8이고 random_state가 16일 때 train은 0.9996255222480789이고 test는 -73.41897512106922이다\n",
      "test_size가 0.8이고 random_state가 17일 때 train은 0.9988422900308255이고 test는 -698.4508830134664이다\n",
      "test_size가 0.8이고 random_state가 18일 때 train은 0.9986251544445014이고 test는 -250.755259520593이다\n",
      "test_size가 0.8이고 random_state가 19일 때 train은 1.0이고 test는 -26.431171972439213이다\n",
      "test_size가 0.9이고 random_state가 1일 때 train은 1.0이고 test는 -5.547256541005079이다\n",
      "test_size가 0.9이고 random_state가 2일 때 train은 1.0이고 test는 -2.5064072905027506이다\n",
      "test_size가 0.9이고 random_state가 3일 때 train은 1.0이고 test는 -3.7600332231094526이다\n",
      "test_size가 0.9이고 random_state가 4일 때 train은 1.0이고 test는 -112.48587134851344이다\n",
      "test_size가 0.9이고 random_state가 5일 때 train은 1.0이고 test는 -2.775276983532031이다\n",
      "test_size가 0.9이고 random_state가 6일 때 train은 1.0이고 test는 -2.8404479520558072이다\n",
      "test_size가 0.9이고 random_state가 7일 때 train은 1.0이고 test는 -4.822321746234698이다\n",
      "test_size가 0.9이고 random_state가 8일 때 train은 1.0이고 test는 -3.325658242940743이다\n",
      "test_size가 0.9이고 random_state가 9일 때 train은 1.0이고 test는 -3.4918593241025997이다\n",
      "test_size가 0.9이고 random_state가 10일 때 train은 1.0이고 test는 -114.7182067798426이다\n",
      "test_size가 0.9이고 random_state가 11일 때 train은 1.0이고 test는 -5.373940987063214이다\n",
      "test_size가 0.9이고 random_state가 12일 때 train은 1.0이고 test는 -0.23140738896037716이다\n",
      "test_size가 0.9이고 random_state가 13일 때 train은 1.0이고 test는 -7.862198596750494이다\n",
      "test_size가 0.9이고 random_state가 14일 때 train은 1.0이고 test는 -14.374839390333074이다\n",
      "test_size가 0.9이고 random_state가 15일 때 train은 1.0이고 test는 -0.27005253655727857이다\n",
      "test_size가 0.9이고 random_state가 16일 때 train은 1.0이고 test는 -6.2647877963577825이다\n",
      "test_size가 0.9이고 random_state가 17일 때 train은 1.0이고 test는 -65.21345717747532이다\n",
      "test_size가 0.9이고 random_state가 18일 때 train은 1.0이고 test는 -16.778083958108052이다\n",
      "test_size가 0.9이고 random_state가 19일 때 train은 1.0이고 test는 -25.303735536482666이다\n"
     ]
    }
   ],
   "source": [
    "num = [0.1,0.2,0.3,0.4,0.5,0.6,0.7,0.8,0.9]\n",
    "\n",
    "for i in num :\n",
    "    for j in range(1,20):\n",
    "        X_train,X_test,y_train,y_test = train_test_split(extended_X,\n",
    "                                                y,\n",
    "                                                test_size = i,\n",
    "                                                random_state = j)\n",
    "    \n",
    "        linear_model.fit(X_train,y_train)\n",
    "        train_score = linear_model.score(X_train,y_train)\n",
    "        test_score = linear_model.score(X_test,y_test)\n",
    "        print(\"test_size가 {}이고 random_state가 {}일 때 train은 {}이고 test는 {}이다\"\n",
    "              .format(i,j,train_score,test_score))"
   ]
  },
  {
   "cell_type": "markdown",
   "metadata": {},
   "source": [
    "# Lasso"
   ]
  },
  {
   "cell_type": "code",
   "execution_count": 17,
   "metadata": {},
   "outputs": [],
   "source": [
    "from sklearn.linear_model import Lasso"
   ]
  },
  {
   "cell_type": "code",
   "execution_count": 18,
   "metadata": {
    "collapsed": true
   },
   "outputs": [
    {
     "name": "stdout",
     "output_type": "stream",
     "text": [
      "train score :  0.9894207084805468\n",
      "test score :  -0.3480573346872149\n"
     ]
    },
    {
     "name": "stderr",
     "output_type": "stream",
     "text": [
      "C:\\Users\\smhrd\\Anaconda3\\lib\\site-packages\\sklearn\\linear_model\\_coordinate_descent.py:529: ConvergenceWarning: Objective did not converge. You might want to increase the number of iterations. Duality gap: 83.16369254337138, tolerance: 0.5129393800000001\n",
      "  model = cd_fast.enet_coordinate_descent(\n"
     ]
    }
   ],
   "source": [
    "lasso_model = Lasso(alpha = 1)\n",
    "lasso_model.fit(X_train,y_train)\n",
    "print('train score : ', lasso_model.score(X_train,y_train))\n",
    "print('test score : ', lasso_model.score(X_test,y_test))"
   ]
  },
  {
   "cell_type": "code",
   "execution_count": 19,
   "metadata": {
    "collapsed": true
   },
   "outputs": [
    {
     "name": "stdout",
     "output_type": "stream",
     "text": [
      "test_size가 1일 때 train은 0.9894207084805468이고 test는 -0.3480573346872149이다"
     ]
    },
    {
     "name": "stderr",
     "output_type": "stream",
     "text": [
      "C:\\Users\\smhrd\\Anaconda3\\lib\\site-packages\\sklearn\\linear_model\\_coordinate_descent.py:529: ConvergenceWarning: Objective did not converge. You might want to increase the number of iterations. Duality gap: 83.16369254337138, tolerance: 0.5129393800000001\n",
      "  model = cd_fast.enet_coordinate_descent(\n",
      "C:\\Users\\smhrd\\Anaconda3\\lib\\site-packages\\sklearn\\linear_model\\_coordinate_descent.py:529: ConvergenceWarning: Objective did not converge. You might want to increase the number of iterations. Duality gap: 110.00058140451247, tolerance: 0.5129393800000001\n",
      "  model = cd_fast.enet_coordinate_descent(\n",
      "C:\\Users\\smhrd\\Anaconda3\\lib\\site-packages\\sklearn\\linear_model\\_coordinate_descent.py:529: ConvergenceWarning: Objective did not converge. You might want to increase the number of iterations. Duality gap: 132.1658907107893, tolerance: 0.5129393800000001\n",
      "  model = cd_fast.enet_coordinate_descent(\n",
      "C:\\Users\\smhrd\\Anaconda3\\lib\\site-packages\\sklearn\\linear_model\\_coordinate_descent.py:529: ConvergenceWarning: Objective did not converge. You might want to increase the number of iterations. Duality gap: 149.28527435192782, tolerance: 0.5129393800000001\n",
      "  model = cd_fast.enet_coordinate_descent(\n",
      "C:\\Users\\smhrd\\Anaconda3\\lib\\site-packages\\sklearn\\linear_model\\_coordinate_descent.py:529: ConvergenceWarning: Objective did not converge. You might want to increase the number of iterations. Duality gap: 161.56144650901012, tolerance: 0.5129393800000001\n",
      "  model = cd_fast.enet_coordinate_descent(\n",
      "C:\\Users\\smhrd\\Anaconda3\\lib\\site-packages\\sklearn\\linear_model\\_coordinate_descent.py:529: ConvergenceWarning: Objective did not converge. You might want to increase the number of iterations. Duality gap: 178.6305522888128, tolerance: 0.5129393800000001\n",
      "  model = cd_fast.enet_coordinate_descent(\n",
      "C:\\Users\\smhrd\\Anaconda3\\lib\\site-packages\\sklearn\\linear_model\\_coordinate_descent.py:529: ConvergenceWarning: Objective did not converge. You might want to increase the number of iterations. Duality gap: 193.9562923746335, tolerance: 0.5129393800000001\n",
      "  model = cd_fast.enet_coordinate_descent(\n",
      "C:\\Users\\smhrd\\Anaconda3\\lib\\site-packages\\sklearn\\linear_model\\_coordinate_descent.py:529: ConvergenceWarning: Objective did not converge. You might want to increase the number of iterations. Duality gap: 210.14549269054112, tolerance: 0.5129393800000001\n",
      "  model = cd_fast.enet_coordinate_descent(\n",
      "C:\\Users\\smhrd\\Anaconda3\\lib\\site-packages\\sklearn\\linear_model\\_coordinate_descent.py:529: ConvergenceWarning: Objective did not converge. You might want to increase the number of iterations. Duality gap: 224.30687003630544, tolerance: 0.5129393800000001\n",
      "  model = cd_fast.enet_coordinate_descent(\n",
      "C:\\Users\\smhrd\\Anaconda3\\lib\\site-packages\\sklearn\\linear_model\\_coordinate_descent.py:529: ConvergenceWarning: Objective did not converge. You might want to increase the number of iterations. Duality gap: 237.4201989667631, tolerance: 0.5129393800000001\n",
      "  model = cd_fast.enet_coordinate_descent(\n",
      "C:\\Users\\smhrd\\Anaconda3\\lib\\site-packages\\sklearn\\linear_model\\_coordinate_descent.py:529: ConvergenceWarning: Objective did not converge. You might want to increase the number of iterations. Duality gap: 248.8604272437559, tolerance: 0.5129393800000001\n",
      "  model = cd_fast.enet_coordinate_descent(\n",
      "C:\\Users\\smhrd\\Anaconda3\\lib\\site-packages\\sklearn\\linear_model\\_coordinate_descent.py:529: ConvergenceWarning: Objective did not converge. You might want to increase the number of iterations. Duality gap: 259.61043386743313, tolerance: 0.5129393800000001\n",
      "  model = cd_fast.enet_coordinate_descent(\n"
     ]
    },
    {
     "name": "stdout",
     "output_type": "stream",
     "text": [
      "\n",
      "test_size가 2일 때 train은 0.9848850984495102이고 test는 -0.5021064088032647이다\n",
      "test_size가 3일 때 train은 0.9816154868045439이고 test는 -0.25763898796470874이다\n",
      "test_size가 4일 때 train은 0.9776807768407867이고 test는 0.15381801292188324이다\n",
      "test_size가 5일 때 train은 0.9741186106391325이고 test는 0.34283666478230423이다\n",
      "test_size가 6일 때 train은 0.9712770033904593이고 test는 0.47107382625105443이다\n",
      "test_size가 7일 때 train은 0.9681336389738573이고 test는 0.5332933710752112이다\n",
      "test_size가 8일 때 train은 0.9645950392721696이고 test는 0.580399662864461이다\n",
      "test_size가 9일 때 train은 0.9609924171615739이고 test는 0.6089779373823726이다\n",
      "test_size가 10일 때 train은 0.9572545432819849이고 test는 0.6264646467929107이다\n",
      "test_size가 11일 때 train은 0.9537431333467877이고 test는 0.6377076337231669이다\n"
     ]
    },
    {
     "name": "stderr",
     "output_type": "stream",
     "text": [
      "C:\\Users\\smhrd\\Anaconda3\\lib\\site-packages\\sklearn\\linear_model\\_coordinate_descent.py:529: ConvergenceWarning: Objective did not converge. You might want to increase the number of iterations. Duality gap: 269.56074727625133, tolerance: 0.5129393800000001\n",
      "  model = cd_fast.enet_coordinate_descent(\n"
     ]
    },
    {
     "name": "stdout",
     "output_type": "stream",
     "text": [
      "test_size가 12일 때 train은 0.9504513671679045이고 test는 0.644672383678546이다\n",
      "test_size가 13일 때 train은 0.947027892302896이고 test는 0.644125556964953이다\n"
     ]
    },
    {
     "name": "stderr",
     "output_type": "stream",
     "text": [
      "C:\\Users\\smhrd\\Anaconda3\\lib\\site-packages\\sklearn\\linear_model\\_coordinate_descent.py:529: ConvergenceWarning: Objective did not converge. You might want to increase the number of iterations. Duality gap: 278.3162257267581, tolerance: 0.5129393800000001\n",
      "  model = cd_fast.enet_coordinate_descent(\n",
      "C:\\Users\\smhrd\\Anaconda3\\lib\\site-packages\\sklearn\\linear_model\\_coordinate_descent.py:529: ConvergenceWarning: Objective did not converge. You might want to increase the number of iterations. Duality gap: 286.43422383942425, tolerance: 0.5129393800000001\n",
      "  model = cd_fast.enet_coordinate_descent(\n",
      "C:\\Users\\smhrd\\Anaconda3\\lib\\site-packages\\sklearn\\linear_model\\_coordinate_descent.py:529: ConvergenceWarning: Objective did not converge. You might want to increase the number of iterations. Duality gap: 294.1082756508996, tolerance: 0.5129393800000001\n",
      "  model = cd_fast.enet_coordinate_descent(\n",
      "C:\\Users\\smhrd\\Anaconda3\\lib\\site-packages\\sklearn\\linear_model\\_coordinate_descent.py:529: ConvergenceWarning: Objective did not converge. You might want to increase the number of iterations. Duality gap: 301.06084210654274, tolerance: 0.5129393800000001\n",
      "  model = cd_fast.enet_coordinate_descent(\n",
      "C:\\Users\\smhrd\\Anaconda3\\lib\\site-packages\\sklearn\\linear_model\\_coordinate_descent.py:529: ConvergenceWarning: Objective did not converge. You might want to increase the number of iterations. Duality gap: 307.59580264039147, tolerance: 0.5129393800000001\n",
      "  model = cd_fast.enet_coordinate_descent(\n",
      "C:\\Users\\smhrd\\Anaconda3\\lib\\site-packages\\sklearn\\linear_model\\_coordinate_descent.py:529: ConvergenceWarning: Objective did not converge. You might want to increase the number of iterations. Duality gap: 313.834594577764, tolerance: 0.5129393800000001\n",
      "  model = cd_fast.enet_coordinate_descent(\n",
      "C:\\Users\\smhrd\\Anaconda3\\lib\\site-packages\\sklearn\\linear_model\\_coordinate_descent.py:529: ConvergenceWarning: Objective did not converge. You might want to increase the number of iterations. Duality gap: 319.5802563519595, tolerance: 0.5129393800000001\n",
      "  model = cd_fast.enet_coordinate_descent(\n",
      "C:\\Users\\smhrd\\Anaconda3\\lib\\site-packages\\sklearn\\linear_model\\_coordinate_descent.py:529: ConvergenceWarning: Objective did not converge. You might want to increase the number of iterations. Duality gap: 325.6178718223821, tolerance: 0.5129393800000001\n",
      "  model = cd_fast.enet_coordinate_descent(\n",
      "C:\\Users\\smhrd\\Anaconda3\\lib\\site-packages\\sklearn\\linear_model\\_coordinate_descent.py:529: ConvergenceWarning: Objective did not converge. You might want to increase the number of iterations. Duality gap: 331.35179996341355, tolerance: 0.5129393800000001\n",
      "  model = cd_fast.enet_coordinate_descent(\n",
      "C:\\Users\\smhrd\\Anaconda3\\lib\\site-packages\\sklearn\\linear_model\\_coordinate_descent.py:529: ConvergenceWarning: Objective did not converge. You might want to increase the number of iterations. Duality gap: 336.65720342809004, tolerance: 0.5129393800000001\n",
      "  model = cd_fast.enet_coordinate_descent(\n",
      "C:\\Users\\smhrd\\Anaconda3\\lib\\site-packages\\sklearn\\linear_model\\_coordinate_descent.py:529: ConvergenceWarning: Objective did not converge. You might want to increase the number of iterations. Duality gap: 341.8826571525615, tolerance: 0.5129393800000001\n",
      "  model = cd_fast.enet_coordinate_descent(\n",
      "C:\\Users\\smhrd\\Anaconda3\\lib\\site-packages\\sklearn\\linear_model\\_coordinate_descent.py:529: ConvergenceWarning: Objective did not converge. You might want to increase the number of iterations. Duality gap: 347.12114615436815, tolerance: 0.5129393800000001\n",
      "  model = cd_fast.enet_coordinate_descent(\n"
     ]
    },
    {
     "name": "stdout",
     "output_type": "stream",
     "text": [
      "test_size가 14일 때 train은 0.9430370879165606이고 test는 0.6443246376454688이다\n",
      "test_size가 15일 때 train은 0.9389018437938226이고 test는 0.6398180996061202이다\n",
      "test_size가 16일 때 train은 0.9353913589132974이고 test는 0.6339014235081187이다\n",
      "test_size가 17일 때 train은 0.9314198081221462이고 test는 0.6319151748506531이다\n",
      "test_size가 18일 때 train은 0.9292330617878275이고 test는 0.6367031347326724이다\n",
      "test_size가 19일 때 train은 0.9273584925667068이고 test는 0.6407606440044106이다\n",
      "test_size가 20일 때 train은 0.9253955528892495이고 test는 0.6426020830906516이다\n",
      "test_size가 21일 때 train은 0.9235257775410248이고 test는 0.6427792857538333이다\n",
      "test_size가 22일 때 train은 0.9215431851651382이고 test는 0.6428455240950677이다\n",
      "test_size가 23일 때 train은 0.9197391374608638이고 test는 0.6448483830182515이다\n",
      "test_size가 24일 때 train은 0.9179697548128708이고 test는 0.6450055931887653이다\n",
      "test_size가 25일 때 train은 0.916184895403777이고 test는 0.6496974525667623이다"
     ]
    },
    {
     "name": "stderr",
     "output_type": "stream",
     "text": [
      "C:\\Users\\smhrd\\Anaconda3\\lib\\site-packages\\sklearn\\linear_model\\_coordinate_descent.py:529: ConvergenceWarning: Objective did not converge. You might want to increase the number of iterations. Duality gap: 352.1292511923615, tolerance: 0.5129393800000001\n",
      "  model = cd_fast.enet_coordinate_descent(\n"
     ]
    },
    {
     "name": "stdout",
     "output_type": "stream",
     "text": [
      "\n",
      "test_size가 26일 때 train은 0.9143442875830292이고 test는 0.653631126197374이다\n",
      "test_size가 27일 때 train은 0.9125023993351807이고 test는 0.6572595494247799이다\n"
     ]
    },
    {
     "name": "stderr",
     "output_type": "stream",
     "text": [
      "C:\\Users\\smhrd\\Anaconda3\\lib\\site-packages\\sklearn\\linear_model\\_coordinate_descent.py:529: ConvergenceWarning: Objective did not converge. You might want to increase the number of iterations. Duality gap: 356.798244263127, tolerance: 0.5129393800000001\n",
      "  model = cd_fast.enet_coordinate_descent(\n",
      "C:\\Users\\smhrd\\Anaconda3\\lib\\site-packages\\sklearn\\linear_model\\_coordinate_descent.py:529: ConvergenceWarning: Objective did not converge. You might want to increase the number of iterations. Duality gap: 360.91251180584527, tolerance: 0.5129393800000001\n",
      "  model = cd_fast.enet_coordinate_descent(\n",
      "C:\\Users\\smhrd\\Anaconda3\\lib\\site-packages\\sklearn\\linear_model\\_coordinate_descent.py:529: ConvergenceWarning: Objective did not converge. You might want to increase the number of iterations. Duality gap: 365.06355423133414, tolerance: 0.5129393800000001\n",
      "  model = cd_fast.enet_coordinate_descent(\n",
      "C:\\Users\\smhrd\\Anaconda3\\lib\\site-packages\\sklearn\\linear_model\\_coordinate_descent.py:529: ConvergenceWarning: Objective did not converge. You might want to increase the number of iterations. Duality gap: 369.05227341712396, tolerance: 0.5129393800000001\n",
      "  model = cd_fast.enet_coordinate_descent(\n",
      "C:\\Users\\smhrd\\Anaconda3\\lib\\site-packages\\sklearn\\linear_model\\_coordinate_descent.py:529: ConvergenceWarning: Objective did not converge. You might want to increase the number of iterations. Duality gap: 372.8557866831136, tolerance: 0.5129393800000001\n",
      "  model = cd_fast.enet_coordinate_descent(\n",
      "C:\\Users\\smhrd\\Anaconda3\\lib\\site-packages\\sklearn\\linear_model\\_coordinate_descent.py:529: ConvergenceWarning: Objective did not converge. You might want to increase the number of iterations. Duality gap: 376.4940885295953, tolerance: 0.5129393800000001\n",
      "  model = cd_fast.enet_coordinate_descent(\n",
      "C:\\Users\\smhrd\\Anaconda3\\lib\\site-packages\\sklearn\\linear_model\\_coordinate_descent.py:529: ConvergenceWarning: Objective did not converge. You might want to increase the number of iterations. Duality gap: 379.9317015279299, tolerance: 0.5129393800000001\n",
      "  model = cd_fast.enet_coordinate_descent(\n",
      "C:\\Users\\smhrd\\Anaconda3\\lib\\site-packages\\sklearn\\linear_model\\_coordinate_descent.py:529: ConvergenceWarning: Objective did not converge. You might want to increase the number of iterations. Duality gap: 383.18181330625157, tolerance: 0.5129393800000001\n",
      "  model = cd_fast.enet_coordinate_descent(\n",
      "C:\\Users\\smhrd\\Anaconda3\\lib\\site-packages\\sklearn\\linear_model\\_coordinate_descent.py:529: ConvergenceWarning: Objective did not converge. You might want to increase the number of iterations. Duality gap: 386.2714979667403, tolerance: 0.5129393800000001\n",
      "  model = cd_fast.enet_coordinate_descent(\n",
      "C:\\Users\\smhrd\\Anaconda3\\lib\\site-packages\\sklearn\\linear_model\\_coordinate_descent.py:529: ConvergenceWarning: Objective did not converge. You might want to increase the number of iterations. Duality gap: 389.07315330184247, tolerance: 0.5129393800000001\n",
      "  model = cd_fast.enet_coordinate_descent(\n",
      "C:\\Users\\smhrd\\Anaconda3\\lib\\site-packages\\sklearn\\linear_model\\_coordinate_descent.py:529: ConvergenceWarning: Objective did not converge. You might want to increase the number of iterations. Duality gap: 392.07858143658433, tolerance: 0.5129393800000001\n",
      "  model = cd_fast.enet_coordinate_descent(\n",
      "C:\\Users\\smhrd\\Anaconda3\\lib\\site-packages\\sklearn\\linear_model\\_coordinate_descent.py:529: ConvergenceWarning: Objective did not converge. You might want to increase the number of iterations. Duality gap: 395.0095056328287, tolerance: 0.5129393800000001\n",
      "  model = cd_fast.enet_coordinate_descent(\n",
      "C:\\Users\\smhrd\\Anaconda3\\lib\\site-packages\\sklearn\\linear_model\\_coordinate_descent.py:529: ConvergenceWarning: Objective did not converge. You might want to increase the number of iterations. Duality gap: 397.8419704314812, tolerance: 0.5129393800000001\n",
      "  model = cd_fast.enet_coordinate_descent(\n"
     ]
    },
    {
     "name": "stdout",
     "output_type": "stream",
     "text": [
      "test_size가 28일 때 train은 0.910734194931931이고 test는 0.6605892800928043이다\n",
      "test_size가 29일 때 train은 0.9089355918183125이고 test는 0.6633780967446321이다\n",
      "test_size가 30일 때 train은 0.907074050638783이고 test는 0.6656729709362845이다\n",
      "test_size가 31일 때 train은 0.9051490541329531이고 test는 0.6674546934095503이다\n",
      "test_size가 32일 때 train은 0.9031671748618446이고 test는 0.6687153666244086이다\n",
      "test_size가 33일 때 train은 0.9011230561045867이고 test는 0.6694649038319465이다\n",
      "test_size가 34일 때 train은 0.8990167951343596이고 test는 0.6697059531051324이다\n",
      "test_size가 35일 때 train은 0.8968561571090286이고 test는 0.6694133183018058이다\n",
      "test_size가 36일 때 train은 0.8953256747326385이고 test는 0.6693249199421165이다\n",
      "test_size가 37일 때 train은 0.8940605913025073이고 test는 0.6692468192204658이다\n",
      "test_size가 38일 때 train은 0.8927647727563689이고 test는 0.6688702507410086이다\n",
      "test_size가 39일 때 train은 0.891438145179418이고 test는 0.6682142368354453이다\n"
     ]
    },
    {
     "name": "stderr",
     "output_type": "stream",
     "text": [
      "C:\\Users\\smhrd\\Anaconda3\\lib\\site-packages\\sklearn\\linear_model\\_coordinate_descent.py:529: ConvergenceWarning: Objective did not converge. You might want to increase the number of iterations. Duality gap: 400.56106999122466, tolerance: 0.5129393800000001\n",
      "  model = cd_fast.enet_coordinate_descent(\n"
     ]
    },
    {
     "name": "stdout",
     "output_type": "stream",
     "text": [
      "test_size가 40일 때 train은 0.8900771670845038이고 test는 0.6672753613905744이다\n"
     ]
    },
    {
     "name": "stderr",
     "output_type": "stream",
     "text": [
      "C:\\Users\\smhrd\\Anaconda3\\lib\\site-packages\\sklearn\\linear_model\\_coordinate_descent.py:529: ConvergenceWarning: Objective did not converge. You might want to increase the number of iterations. Duality gap: 402.826101050433, tolerance: 0.5129393800000001\n",
      "  model = cd_fast.enet_coordinate_descent(\n",
      "C:\\Users\\smhrd\\Anaconda3\\lib\\site-packages\\sklearn\\linear_model\\_coordinate_descent.py:529: ConvergenceWarning: Objective did not converge. You might want to increase the number of iterations. Duality gap: 405.4293460126996, tolerance: 0.5129393800000001\n",
      "  model = cd_fast.enet_coordinate_descent(\n",
      "C:\\Users\\smhrd\\Anaconda3\\lib\\site-packages\\sklearn\\linear_model\\_coordinate_descent.py:529: ConvergenceWarning: Objective did not converge. You might want to increase the number of iterations. Duality gap: 407.96597367969264, tolerance: 0.5129393800000001\n",
      "  model = cd_fast.enet_coordinate_descent(\n",
      "C:\\Users\\smhrd\\Anaconda3\\lib\\site-packages\\sklearn\\linear_model\\_coordinate_descent.py:529: ConvergenceWarning: Objective did not converge. You might want to increase the number of iterations. Duality gap: 410.4338789018497, tolerance: 0.5129393800000001\n",
      "  model = cd_fast.enet_coordinate_descent(\n",
      "C:\\Users\\smhrd\\Anaconda3\\lib\\site-packages\\sklearn\\linear_model\\_coordinate_descent.py:529: ConvergenceWarning: Objective did not converge. You might want to increase the number of iterations. Duality gap: 412.4334268849784, tolerance: 0.5129393800000001\n",
      "  model = cd_fast.enet_coordinate_descent(\n",
      "C:\\Users\\smhrd\\Anaconda3\\lib\\site-packages\\sklearn\\linear_model\\_coordinate_descent.py:529: ConvergenceWarning: Objective did not converge. You might want to increase the number of iterations. Duality gap: 410.4331654595568, tolerance: 0.5129393800000001\n",
      "  model = cd_fast.enet_coordinate_descent(\n",
      "C:\\Users\\smhrd\\Anaconda3\\lib\\site-packages\\sklearn\\linear_model\\_coordinate_descent.py:529: ConvergenceWarning: Objective did not converge. You might want to increase the number of iterations. Duality gap: 409.51390065934777, tolerance: 0.5129393800000001\n",
      "  model = cd_fast.enet_coordinate_descent(\n",
      "C:\\Users\\smhrd\\Anaconda3\\lib\\site-packages\\sklearn\\linear_model\\_coordinate_descent.py:529: ConvergenceWarning: Objective did not converge. You might want to increase the number of iterations. Duality gap: 409.76718685208857, tolerance: 0.5129393800000001\n",
      "  model = cd_fast.enet_coordinate_descent(\n",
      "C:\\Users\\smhrd\\Anaconda3\\lib\\site-packages\\sklearn\\linear_model\\_coordinate_descent.py:529: ConvergenceWarning: Objective did not converge. You might want to increase the number of iterations. Duality gap: 410.85381009810396, tolerance: 0.5129393800000001\n",
      "  model = cd_fast.enet_coordinate_descent(\n",
      "C:\\Users\\smhrd\\Anaconda3\\lib\\site-packages\\sklearn\\linear_model\\_coordinate_descent.py:529: ConvergenceWarning: Objective did not converge. You might want to increase the number of iterations. Duality gap: 411.4595698944441, tolerance: 0.5129393800000001\n",
      "  model = cd_fast.enet_coordinate_descent(\n",
      "C:\\Users\\smhrd\\Anaconda3\\lib\\site-packages\\sklearn\\linear_model\\_coordinate_descent.py:529: ConvergenceWarning: Objective did not converge. You might want to increase the number of iterations. Duality gap: 412.0088688218217, tolerance: 0.5129393800000001\n",
      "  model = cd_fast.enet_coordinate_descent(\n",
      "C:\\Users\\smhrd\\Anaconda3\\lib\\site-packages\\sklearn\\linear_model\\_coordinate_descent.py:529: ConvergenceWarning: Objective did not converge. You might want to increase the number of iterations. Duality gap: 412.5080731717818, tolerance: 0.5129393800000001\n",
      "  model = cd_fast.enet_coordinate_descent(\n"
     ]
    },
    {
     "name": "stdout",
     "output_type": "stream",
     "text": [
      "test_size가 41일 때 train은 0.888689493770478이고 test는 0.6660243820327506이다\n",
      "test_size가 42일 때 train은 0.8872974656664141이고 test는 0.6648218930916038이다\n",
      "test_size가 43일 때 train은 0.8858691311398583이고 test는 0.6633942114485571이다\n",
      "test_size가 44일 때 train은 0.884405844569736이고 test는 0.6617267761024324이다\n",
      "test_size가 45일 때 train은 0.8829112661774592이고 test는 0.6593806436078835이다\n",
      "test_size가 46일 때 train은 0.8812963080897722이고 test는 0.6566371225451524이다\n",
      "test_size가 47일 때 train은 0.8795997816900262이고 test는 0.6538009956211766이다\n",
      "test_size가 48일 때 train은 0.8779905544039625이고 test는 0.6513248822609636이다\n",
      "test_size가 49일 때 train은 0.876392728603446이고 test는 0.6487963373635148이다\n",
      "test_size가 50일 때 train은 0.8747765993313324이고 test는 0.6460766221395429이다\n",
      "test_size가 51일 때 train은 0.8731327711133168이고 test는 0.6432220395021848이다\n",
      "test_size가 52일 때 train은 0.8714604958060024이고 test는 0.6402178407588964이다\n",
      "test_size가 53일 때 train은 0.8697493320437126이고 test는 0.6370245838689603이다\n"
     ]
    },
    {
     "name": "stderr",
     "output_type": "stream",
     "text": [
      "C:\\Users\\smhrd\\Anaconda3\\lib\\site-packages\\sklearn\\linear_model\\_coordinate_descent.py:529: ConvergenceWarning: Objective did not converge. You might want to increase the number of iterations. Duality gap: 412.7333948039115, tolerance: 0.5129393800000001\n",
      "  model = cd_fast.enet_coordinate_descent(\n",
      "C:\\Users\\smhrd\\Anaconda3\\lib\\site-packages\\sklearn\\linear_model\\_coordinate_descent.py:529: ConvergenceWarning: Objective did not converge. You might want to increase the number of iterations. Duality gap: 414.6384048549978, tolerance: 0.5129393800000001\n",
      "  model = cd_fast.enet_coordinate_descent(\n",
      "C:\\Users\\smhrd\\Anaconda3\\lib\\site-packages\\sklearn\\linear_model\\_coordinate_descent.py:529: ConvergenceWarning: Objective did not converge. You might want to increase the number of iterations. Duality gap: 413.2308693964784, tolerance: 0.5129393800000001\n",
      "  model = cd_fast.enet_coordinate_descent(\n"
     ]
    },
    {
     "name": "stdout",
     "output_type": "stream",
     "text": [
      "test_size가 54일 때 train은 0.8681690569575272이고 test는 0.634098167899341이다\n"
     ]
    },
    {
     "name": "stderr",
     "output_type": "stream",
     "text": [
      "C:\\Users\\smhrd\\Anaconda3\\lib\\site-packages\\sklearn\\linear_model\\_coordinate_descent.py:529: ConvergenceWarning: Objective did not converge. You might want to increase the number of iterations. Duality gap: 410.1385274882169, tolerance: 0.5129393800000001\n",
      "  model = cd_fast.enet_coordinate_descent(\n",
      "C:\\Users\\smhrd\\Anaconda3\\lib\\site-packages\\sklearn\\linear_model\\_coordinate_descent.py:529: ConvergenceWarning: Objective did not converge. You might want to increase the number of iterations. Duality gap: 408.12488955368326, tolerance: 0.5129393800000001\n",
      "  model = cd_fast.enet_coordinate_descent(\n",
      "C:\\Users\\smhrd\\Anaconda3\\lib\\site-packages\\sklearn\\linear_model\\_coordinate_descent.py:529: ConvergenceWarning: Objective did not converge. You might want to increase the number of iterations. Duality gap: 406.3138064378285, tolerance: 0.5129393800000001\n",
      "  model = cd_fast.enet_coordinate_descent(\n",
      "C:\\Users\\smhrd\\Anaconda3\\lib\\site-packages\\sklearn\\linear_model\\_coordinate_descent.py:529: ConvergenceWarning: Objective did not converge. You might want to increase the number of iterations. Duality gap: 404.4815814554188, tolerance: 0.5129393800000001\n",
      "  model = cd_fast.enet_coordinate_descent(\n",
      "C:\\Users\\smhrd\\Anaconda3\\lib\\site-packages\\sklearn\\linear_model\\_coordinate_descent.py:529: ConvergenceWarning: Objective did not converge. You might want to increase the number of iterations. Duality gap: 402.46532464844705, tolerance: 0.5129393800000001\n",
      "  model = cd_fast.enet_coordinate_descent(\n",
      "C:\\Users\\smhrd\\Anaconda3\\lib\\site-packages\\sklearn\\linear_model\\_coordinate_descent.py:529: ConvergenceWarning: Objective did not converge. You might want to increase the number of iterations. Duality gap: 400.19890622325823, tolerance: 0.5129393800000001\n",
      "  model = cd_fast.enet_coordinate_descent(\n",
      "C:\\Users\\smhrd\\Anaconda3\\lib\\site-packages\\sklearn\\linear_model\\_coordinate_descent.py:529: ConvergenceWarning: Objective did not converge. You might want to increase the number of iterations. Duality gap: 397.6096680012401, tolerance: 0.5129393800000001\n",
      "  model = cd_fast.enet_coordinate_descent(\n",
      "C:\\Users\\smhrd\\Anaconda3\\lib\\site-packages\\sklearn\\linear_model\\_coordinate_descent.py:529: ConvergenceWarning: Objective did not converge. You might want to increase the number of iterations. Duality gap: 394.64141600397227, tolerance: 0.5129393800000001\n",
      "  model = cd_fast.enet_coordinate_descent(\n",
      "C:\\Users\\smhrd\\Anaconda3\\lib\\site-packages\\sklearn\\linear_model\\_coordinate_descent.py:529: ConvergenceWarning: Objective did not converge. You might want to increase the number of iterations. Duality gap: 391.26309240435864, tolerance: 0.5129393800000001\n",
      "  model = cd_fast.enet_coordinate_descent(\n",
      "C:\\Users\\smhrd\\Anaconda3\\lib\\site-packages\\sklearn\\linear_model\\_coordinate_descent.py:529: ConvergenceWarning: Objective did not converge. You might want to increase the number of iterations. Duality gap: 387.4482793625459, tolerance: 0.5129393800000001\n",
      "  model = cd_fast.enet_coordinate_descent(\n",
      "C:\\Users\\smhrd\\Anaconda3\\lib\\site-packages\\sklearn\\linear_model\\_coordinate_descent.py:529: ConvergenceWarning: Objective did not converge. You might want to increase the number of iterations. Duality gap: 383.1169854928511, tolerance: 0.5129393800000001\n",
      "  model = cd_fast.enet_coordinate_descent(\n"
     ]
    },
    {
     "name": "stdout",
     "output_type": "stream",
     "text": [
      "test_size가 55일 때 train은 0.8664662553142517이고 test는 0.6305040034255193이다\n",
      "test_size가 56일 때 train은 0.865165664938554이고 test는 0.6284274516625761이다\n",
      "test_size가 57일 때 train은 0.8643901693145227이고 test는 0.6288913977023709이다\n",
      "test_size가 58일 때 train은 0.8635947112320788이고 test는 0.6294148692677846이다\n",
      "test_size가 59일 때 train은 0.862780731834263이고 test는 0.6299361915264481이다\n",
      "test_size가 60일 때 train은 0.861951249097282이고 test는 0.6304298865741236이다\n",
      "test_size가 61일 때 train은 0.8611072150662713이고 test는 0.6308884179371625이다\n",
      "test_size가 62일 때 train은 0.8602493733440857이고 test는 0.6313053974034541이다\n",
      "test_size가 63일 때 train은 0.8593780702309572이고 test는 0.6316784240127762이다\n",
      "test_size가 64일 때 train은 0.8584932385146719이고 test는 0.632007847881319이다\n",
      "test_size가 65일 때 train은 0.8575947330827346이고 test는 0.6322946026920649이다\n",
      "test_size가 66일 때 train은 0.8566828946760849이고 test는 0.632536625881475이다\n"
     ]
    },
    {
     "name": "stderr",
     "output_type": "stream",
     "text": [
      "C:\\Users\\smhrd\\Anaconda3\\lib\\site-packages\\sklearn\\linear_model\\_coordinate_descent.py:529: ConvergenceWarning: Objective did not converge. You might want to increase the number of iterations. Duality gap: 378.21968822195305, tolerance: 0.5129393800000001\n",
      "  model = cd_fast.enet_coordinate_descent(\n",
      "C:\\Users\\smhrd\\Anaconda3\\lib\\site-packages\\sklearn\\linear_model\\_coordinate_descent.py:529: ConvergenceWarning: Objective did not converge. You might want to increase the number of iterations. Duality gap: 372.75156185627634, tolerance: 0.5129393800000001\n",
      "  model = cd_fast.enet_coordinate_descent(\n"
     ]
    },
    {
     "name": "stdout",
     "output_type": "stream",
     "text": [
      "test_size가 67일 때 train은 0.8557576238579677이고 test는 0.6327343053741672이다\n"
     ]
    },
    {
     "name": "stderr",
     "output_type": "stream",
     "text": [
      "C:\\Users\\smhrd\\Anaconda3\\lib\\site-packages\\sklearn\\linear_model\\_coordinate_descent.py:529: ConvergenceWarning: Objective did not converge. You might want to increase the number of iterations. Duality gap: 366.65494129592673, tolerance: 0.5129393800000001\n",
      "  model = cd_fast.enet_coordinate_descent(\n",
      "C:\\Users\\smhrd\\Anaconda3\\lib\\site-packages\\sklearn\\linear_model\\_coordinate_descent.py:529: ConvergenceWarning: Objective did not converge. You might want to increase the number of iterations. Duality gap: 359.8530879955541, tolerance: 0.5129393800000001\n",
      "  model = cd_fast.enet_coordinate_descent(\n",
      "C:\\Users\\smhrd\\Anaconda3\\lib\\site-packages\\sklearn\\linear_model\\_coordinate_descent.py:529: ConvergenceWarning: Objective did not converge. You might want to increase the number of iterations. Duality gap: 352.255420312161, tolerance: 0.5129393800000001\n",
      "  model = cd_fast.enet_coordinate_descent(\n",
      "C:\\Users\\smhrd\\Anaconda3\\lib\\site-packages\\sklearn\\linear_model\\_coordinate_descent.py:529: ConvergenceWarning: Objective did not converge. You might want to increase the number of iterations. Duality gap: 343.84088891925353, tolerance: 0.5129393800000001\n",
      "  model = cd_fast.enet_coordinate_descent(\n",
      "C:\\Users\\smhrd\\Anaconda3\\lib\\site-packages\\sklearn\\linear_model\\_coordinate_descent.py:529: ConvergenceWarning: Objective did not converge. You might want to increase the number of iterations. Duality gap: 334.6193964334409, tolerance: 0.5129393800000001\n",
      "  model = cd_fast.enet_coordinate_descent(\n",
      "C:\\Users\\smhrd\\Anaconda3\\lib\\site-packages\\sklearn\\linear_model\\_coordinate_descent.py:529: ConvergenceWarning: Objective did not converge. You might want to increase the number of iterations. Duality gap: 330.8485659115689, tolerance: 0.5129393800000001\n",
      "  model = cd_fast.enet_coordinate_descent(\n",
      "C:\\Users\\smhrd\\Anaconda3\\lib\\site-packages\\sklearn\\linear_model\\_coordinate_descent.py:529: ConvergenceWarning: Objective did not converge. You might want to increase the number of iterations. Duality gap: 328.7783444431125, tolerance: 0.5129393800000001\n",
      "  model = cd_fast.enet_coordinate_descent(\n",
      "C:\\Users\\smhrd\\Anaconda3\\lib\\site-packages\\sklearn\\linear_model\\_coordinate_descent.py:529: ConvergenceWarning: Objective did not converge. You might want to increase the number of iterations. Duality gap: 325.13996970009117, tolerance: 0.5129393800000001\n",
      "  model = cd_fast.enet_coordinate_descent(\n",
      "C:\\Users\\smhrd\\Anaconda3\\lib\\site-packages\\sklearn\\linear_model\\_coordinate_descent.py:529: ConvergenceWarning: Objective did not converge. You might want to increase the number of iterations. Duality gap: 319.8697337664962, tolerance: 0.5129393800000001\n",
      "  model = cd_fast.enet_coordinate_descent(\n",
      "C:\\Users\\smhrd\\Anaconda3\\lib\\site-packages\\sklearn\\linear_model\\_coordinate_descent.py:529: ConvergenceWarning: Objective did not converge. You might want to increase the number of iterations. Duality gap: 313.20307463447756, tolerance: 0.5129393800000001\n",
      "  model = cd_fast.enet_coordinate_descent(\n",
      "C:\\Users\\smhrd\\Anaconda3\\lib\\site-packages\\sklearn\\linear_model\\_coordinate_descent.py:529: ConvergenceWarning: Objective did not converge. You might want to increase the number of iterations. Duality gap: 274.62585987207115, tolerance: 0.5129393800000001\n",
      "  model = cd_fast.enet_coordinate_descent(\n"
     ]
    },
    {
     "name": "stdout",
     "output_type": "stream",
     "text": [
      "test_size가 68일 때 train은 0.8548184480124461이고 test는 0.632890562331968이다\n",
      "test_size가 69일 때 train은 0.8538653610374631이고 test는 0.6330054597304162이다\n",
      "test_size가 70일 때 train은 0.8528984191176591이고 test는 0.6330786084797206이다\n",
      "test_size가 71일 때 train은 0.8519176742341226이고 test는 0.6331096401582537이다\n",
      "test_size가 72일 때 train은 0.8509279052135237이고 test는 0.6330207175112028이다\n",
      "test_size가 73일 때 train은 0.8499218274842504이고 test는 0.6329764368178414이다\n",
      "test_size가 74일 때 train은 0.8489115027930341이고 test는 0.6329217296550689이다\n",
      "test_size가 75일 때 train은 0.8478994781097497이고 test는 0.6328017847863561이다\n",
      "test_size가 76일 때 train은 0.8468751840241749이고 test는 0.632575253872522이다\n",
      "test_size가 77일 때 train은 0.8458328496740757이고 test는 0.6322282715975216이다\n",
      "test_size가 78일 때 train은 0.844770364607902이고 test는 0.6317579681057883이다\n",
      "test_size가 79일 때 train은 0.8436955853981689이고 test는 0.6312358541166321이다\n",
      "test_size가 80일 때 train은 0.8426097508683358이고 test는 0.6305798065433796이다"
     ]
    },
    {
     "name": "stderr",
     "output_type": "stream",
     "text": [
      "C:\\Users\\smhrd\\Anaconda3\\lib\\site-packages\\sklearn\\linear_model\\_coordinate_descent.py:529: ConvergenceWarning: Objective did not converge. You might want to increase the number of iterations. Duality gap: 259.5099089091971, tolerance: 0.5129393800000001\n",
      "  model = cd_fast.enet_coordinate_descent(\n",
      "C:\\Users\\smhrd\\Anaconda3\\lib\\site-packages\\sklearn\\linear_model\\_coordinate_descent.py:529: ConvergenceWarning: Objective did not converge. You might want to increase the number of iterations. Duality gap: 241.38623742802622, tolerance: 0.5129393800000001\n",
      "  model = cd_fast.enet_coordinate_descent(\n"
     ]
    },
    {
     "name": "stdout",
     "output_type": "stream",
     "text": [
      "\n",
      "test_size가 81일 때 train은 0.8415061441578291이고 test는 0.6298308443585234이다"
     ]
    },
    {
     "name": "stderr",
     "output_type": "stream",
     "text": [
      "C:\\Users\\smhrd\\Anaconda3\\lib\\site-packages\\sklearn\\linear_model\\_coordinate_descent.py:529: ConvergenceWarning: Objective did not converge. You might want to increase the number of iterations. Duality gap: 219.81204370156135, tolerance: 0.5129393800000001\n",
      "  model = cd_fast.enet_coordinate_descent(\n",
      "C:\\Users\\smhrd\\Anaconda3\\lib\\site-packages\\sklearn\\linear_model\\_coordinate_descent.py:529: ConvergenceWarning: Objective did not converge. You might want to increase the number of iterations. Duality gap: 194.7209240389036, tolerance: 0.5129393800000001\n",
      "  model = cd_fast.enet_coordinate_descent(\n",
      "C:\\Users\\smhrd\\Anaconda3\\lib\\site-packages\\sklearn\\linear_model\\_coordinate_descent.py:529: ConvergenceWarning: Objective did not converge. You might want to increase the number of iterations. Duality gap: 165.30681891054599, tolerance: 0.5129393800000001\n",
      "  model = cd_fast.enet_coordinate_descent(\n",
      "C:\\Users\\smhrd\\Anaconda3\\lib\\site-packages\\sklearn\\linear_model\\_coordinate_descent.py:529: ConvergenceWarning: Objective did not converge. You might want to increase the number of iterations. Duality gap: 131.4399055234046, tolerance: 0.5129393800000001\n",
      "  model = cd_fast.enet_coordinate_descent(\n",
      "C:\\Users\\smhrd\\Anaconda3\\lib\\site-packages\\sklearn\\linear_model\\_coordinate_descent.py:529: ConvergenceWarning: Objective did not converge. You might want to increase the number of iterations. Duality gap: 93.0180847747597, tolerance: 0.5129393800000001\n",
      "  model = cd_fast.enet_coordinate_descent(\n",
      "C:\\Users\\smhrd\\Anaconda3\\lib\\site-packages\\sklearn\\linear_model\\_coordinate_descent.py:529: ConvergenceWarning: Objective did not converge. You might want to increase the number of iterations. Duality gap: 131.3413592607235, tolerance: 0.5129393800000001\n",
      "  model = cd_fast.enet_coordinate_descent(\n",
      "C:\\Users\\smhrd\\Anaconda3\\lib\\site-packages\\sklearn\\linear_model\\_coordinate_descent.py:529: ConvergenceWarning: Objective did not converge. You might want to increase the number of iterations. Duality gap: 85.40136591620774, tolerance: 0.5129393800000001\n",
      "  model = cd_fast.enet_coordinate_descent(\n",
      "C:\\Users\\smhrd\\Anaconda3\\lib\\site-packages\\sklearn\\linear_model\\_coordinate_descent.py:529: ConvergenceWarning: Objective did not converge. You might want to increase the number of iterations. Duality gap: 69.0522998971278, tolerance: 0.5129393800000001\n",
      "  model = cd_fast.enet_coordinate_descent(\n",
      "C:\\Users\\smhrd\\Anaconda3\\lib\\site-packages\\sklearn\\linear_model\\_coordinate_descent.py:529: ConvergenceWarning: Objective did not converge. You might want to increase the number of iterations. Duality gap: 66.55931697743631, tolerance: 0.5129393800000001\n",
      "  model = cd_fast.enet_coordinate_descent(\n",
      "C:\\Users\\smhrd\\Anaconda3\\lib\\site-packages\\sklearn\\linear_model\\_coordinate_descent.py:529: ConvergenceWarning: Objective did not converge. You might want to increase the number of iterations. Duality gap: 66.04486379896059, tolerance: 0.5129393800000001\n",
      "  model = cd_fast.enet_coordinate_descent(\n",
      "C:\\Users\\smhrd\\Anaconda3\\lib\\site-packages\\sklearn\\linear_model\\_coordinate_descent.py:529: ConvergenceWarning: Objective did not converge. You might want to increase the number of iterations. Duality gap: 66.4010026637252, tolerance: 0.5129393800000001\n",
      "  model = cd_fast.enet_coordinate_descent(\n",
      "C:\\Users\\smhrd\\Anaconda3\\lib\\site-packages\\sklearn\\linear_model\\_coordinate_descent.py:529: ConvergenceWarning: Objective did not converge. You might want to increase the number of iterations. Duality gap: 66.94694075388406, tolerance: 0.5129393800000001\n",
      "  model = cd_fast.enet_coordinate_descent(\n"
     ]
    },
    {
     "name": "stdout",
     "output_type": "stream",
     "text": [
      "\n",
      "test_size가 82일 때 train은 0.8403825324860893이고 test는 0.6289765192013961이다\n",
      "test_size가 83일 때 train은 0.8392420726247586이고 test는 0.628020055473719이다\n",
      "test_size가 84일 때 train은 0.83808586358282이고 test는 0.6269633191462762이다\n",
      "test_size가 85일 때 train은 0.836914071018704이고 test는 0.6258190984847787이다\n",
      "test_size가 86일 때 train은 0.8357268014815252이고 test는 0.6245884422648197이다\n",
      "test_size가 87일 때 train은 0.8349904508178261이고 test는 0.6239316136885356이다\n",
      "test_size가 88일 때 train은 0.8343152268988361이고 test는 0.6231457661217856이다\n",
      "test_size가 89일 때 train은 0.8336389956634822이고 test는 0.6223025311296486이다\n",
      "test_size가 90일 때 train은 0.8329219107134513이고 test는 0.621389306795045이다\n",
      "test_size가 91일 때 train은 0.8321911530229569이고 test는 0.6204247248918189이다\n",
      "test_size가 92일 때 train은 0.8314512097678894이고 test는 0.6194169452849423이다\n",
      "test_size가 93일 때 train은 0.8307033506353086이고 test는 0.618375893138821이다\n"
     ]
    },
    {
     "name": "stderr",
     "output_type": "stream",
     "text": [
      "C:\\Users\\smhrd\\Anaconda3\\lib\\site-packages\\sklearn\\linear_model\\_coordinate_descent.py:529: ConvergenceWarning: Objective did not converge. You might want to increase the number of iterations. Duality gap: 67.49705601968935, tolerance: 0.5129393800000001\n",
      "  model = cd_fast.enet_coordinate_descent(\n",
      "C:\\Users\\smhrd\\Anaconda3\\lib\\site-packages\\sklearn\\linear_model\\_coordinate_descent.py:529: ConvergenceWarning: Objective did not converge. You might want to increase the number of iterations. Duality gap: 74.89791838981034, tolerance: 0.5129393800000001\n",
      "  model = cd_fast.enet_coordinate_descent(\n"
     ]
    },
    {
     "name": "stdout",
     "output_type": "stream",
     "text": [
      "test_size가 94일 때 train은 0.8299478253186575이고 test는 0.6173015710909778이다\n",
      "test_size가 95일 때 train은 0.8292989421524541이고 test는 0.6161758703033802이다\n",
      "test_size가 96일 때 train은 0.8285794721620212이고 test는 0.6151370836295713이다\n",
      "test_size가 97일 때 train은 0.827823041558495이고 test는 0.6140150547868586이다\n",
      "test_size가 98일 때 train은 0.8270471082911673이고 test는 0.6126279478427655이다\n",
      "test_size가 99일 때 train은 0.8262468099428202이고 test는 0.6109978688230286이다\n"
     ]
    },
    {
     "name": "stderr",
     "output_type": "stream",
     "text": [
      "C:\\Users\\smhrd\\Anaconda3\\lib\\site-packages\\sklearn\\linear_model\\_coordinate_descent.py:529: ConvergenceWarning: Objective did not converge. You might want to increase the number of iterations. Duality gap: 76.43169413825774, tolerance: 0.5129393800000001\n",
      "  model = cd_fast.enet_coordinate_descent(\n",
      "C:\\Users\\smhrd\\Anaconda3\\lib\\site-packages\\sklearn\\linear_model\\_coordinate_descent.py:529: ConvergenceWarning: Objective did not converge. You might want to increase the number of iterations. Duality gap: 74.00762201805412, tolerance: 0.5129393800000001\n",
      "  model = cd_fast.enet_coordinate_descent(\n",
      "C:\\Users\\smhrd\\Anaconda3\\lib\\site-packages\\sklearn\\linear_model\\_coordinate_descent.py:529: ConvergenceWarning: Objective did not converge. You might want to increase the number of iterations. Duality gap: 47.501855582372514, tolerance: 0.5129393800000001\n",
      "  model = cd_fast.enet_coordinate_descent(\n",
      "C:\\Users\\smhrd\\Anaconda3\\lib\\site-packages\\sklearn\\linear_model\\_coordinate_descent.py:529: ConvergenceWarning: Objective did not converge. You might want to increase the number of iterations. Duality gap: 34.82678967344111, tolerance: 0.5129393800000001\n",
      "  model = cd_fast.enet_coordinate_descent(\n"
     ]
    }
   ],
   "source": [
    "for i in range(1,100) :\n",
    "    lasso_model = Lasso(alpha = i)   \n",
    "    lasso_model.fit(X_train,y_train)\n",
    "    \n",
    "    train_score = lasso_model.score(X_train,y_train)\n",
    "    test_score = lasso_model.score(X_test,y_test)\n",
    "    print(\"test_size가 {}일 때 train은 {}이고 test는 {}이다\".format(i,train_score,test_score))"
   ]
  },
  {
   "cell_type": "code",
   "execution_count": 20,
   "metadata": {
    "collapsed": true
   },
   "outputs": [
    {
     "data": {
      "text/plain": [
       "array([ 0.00000000e+00,  0.00000000e+00, -0.00000000e+00,  0.00000000e+00,\n",
       "       -0.00000000e+00,  0.00000000e+00, -0.00000000e+00, -0.00000000e+00,\n",
       "        0.00000000e+00,  0.00000000e+00, -0.00000000e+00, -0.00000000e+00,\n",
       "        0.00000000e+00, -0.00000000e+00,  0.00000000e+00,  0.00000000e+00,\n",
       "        0.00000000e+00, -0.00000000e+00,  0.00000000e+00,  0.00000000e+00,\n",
       "        0.00000000e+00,  0.00000000e+00,  9.06131863e-05,  0.00000000e+00,\n",
       "        0.00000000e+00, -0.00000000e+00,  0.00000000e+00,  0.00000000e+00,\n",
       "        0.00000000e+00,  0.00000000e+00,  0.00000000e+00,  0.00000000e+00,\n",
       "        5.51568965e-04, -0.00000000e+00,  0.00000000e+00, -2.20819115e-04,\n",
       "        0.00000000e+00,  4.08203938e-04, -0.00000000e+00,  0.00000000e+00,\n",
       "        0.00000000e+00, -0.00000000e+00,  0.00000000e+00, -0.00000000e+00,\n",
       "       -0.00000000e+00,  0.00000000e+00,  0.00000000e+00, -0.00000000e+00,\n",
       "        1.17953576e-04, -0.00000000e+00, -0.00000000e+00, -0.00000000e+00,\n",
       "        0.00000000e+00,  0.00000000e+00,  0.00000000e+00,  0.00000000e+00,\n",
       "        0.00000000e+00,  0.00000000e+00,  0.00000000e+00,  0.00000000e+00,\n",
       "        0.00000000e+00,  3.35132295e-04,  0.00000000e+00,  0.00000000e+00,\n",
       "       -0.00000000e+00, -0.00000000e+00,  0.00000000e+00, -0.00000000e+00,\n",
       "        0.00000000e+00, -0.00000000e+00, -0.00000000e+00, -0.00000000e+00,\n",
       "       -0.00000000e+00, -0.00000000e+00, -0.00000000e+00, -0.00000000e+00,\n",
       "       -0.00000000e+00, -0.00000000e+00,  0.00000000e+00,  0.00000000e+00,\n",
       "       -0.00000000e+00,  0.00000000e+00, -0.00000000e+00,  0.00000000e+00,\n",
       "        0.00000000e+00, -0.00000000e+00, -0.00000000e+00, -0.00000000e+00,\n",
       "       -0.00000000e+00,  7.22435476e-03, -0.00000000e+00,  0.00000000e+00,\n",
       "        7.54950230e-04,  0.00000000e+00,  0.00000000e+00, -0.00000000e+00,\n",
       "        0.00000000e+00, -0.00000000e+00, -0.00000000e+00,  0.00000000e+00,\n",
       "        2.54377017e-04, -0.00000000e+00, -8.50946701e-06, -0.00000000e+00,\n",
       "        0.00000000e+00, -0.00000000e+00,  0.00000000e+00,  0.00000000e+00,\n",
       "       -0.00000000e+00, -0.00000000e+00, -0.00000000e+00, -0.00000000e+00,\n",
       "        0.00000000e+00, -6.37249454e-04, -0.00000000e+00, -0.00000000e+00,\n",
       "        0.00000000e+00,  0.00000000e+00,  0.00000000e+00, -0.00000000e+00,\n",
       "        0.00000000e+00, -0.00000000e+00, -0.00000000e+00,  0.00000000e+00,\n",
       "        0.00000000e+00, -0.00000000e+00,  1.85178793e-04,  0.00000000e+00,\n",
       "        0.00000000e+00, -0.00000000e+00,  0.00000000e+00, -3.73350456e-04,\n",
       "        0.00000000e+00,  0.00000000e+00, -0.00000000e+00, -2.45413220e-03,\n",
       "        0.00000000e+00, -2.91547275e-04,  1.11281529e-04, -4.31430001e-05,\n",
       "        0.00000000e+00,  4.77984141e-05, -2.45138364e-04,  0.00000000e+00,\n",
       "        0.00000000e+00, -0.00000000e+00,  0.00000000e+00, -0.00000000e+00,\n",
       "       -0.00000000e+00, -0.00000000e+00, -0.00000000e+00,  0.00000000e+00,\n",
       "        0.00000000e+00, -0.00000000e+00, -1.17735757e-03,  0.00000000e+00,\n",
       "        0.00000000e+00,  9.91019142e-05, -0.00000000e+00,  0.00000000e+00,\n",
       "       -0.00000000e+00,  0.00000000e+00, -4.04556345e-05, -0.00000000e+00,\n",
       "        4.42833725e-04,  1.48164510e-05, -4.08025100e-04, -2.12979919e-05,\n",
       "       -2.24414299e-03, -0.00000000e+00, -0.00000000e+00, -0.00000000e+00,\n",
       "       -0.00000000e+00, -0.00000000e+00, -0.00000000e+00, -0.00000000e+00,\n",
       "        0.00000000e+00, -0.00000000e+00, -2.89223186e-04,  0.00000000e+00,\n",
       "       -1.65500631e-05,  0.00000000e+00])"
      ]
     },
     "execution_count": 20,
     "metadata": {},
     "output_type": "execute_result"
    }
   ],
   "source": [
    "lasso_model.coef_ #182개 특성이 사용한 가중치 값"
   ]
  },
  {
   "cell_type": "code",
   "execution_count": 21,
   "metadata": {
    "collapsed": true
   },
   "outputs": [
    {
     "data": {
      "text/plain": [
       "array([False, False, False, False, False, False, False, False, False,\n",
       "       False, False, False, False, False, False, False, False, False,\n",
       "       False, False, False, False,  True, False, False, False, False,\n",
       "       False, False, False, False, False,  True, False, False,  True,\n",
       "       False,  True, False, False, False, False, False, False, False,\n",
       "       False, False, False,  True, False, False, False, False, False,\n",
       "       False, False, False, False, False, False, False,  True, False,\n",
       "       False, False, False, False, False, False, False, False, False,\n",
       "       False, False, False, False, False, False, False, False, False,\n",
       "       False, False, False, False, False, False, False, False,  True,\n",
       "       False, False,  True, False, False, False, False, False, False,\n",
       "       False,  True, False,  True, False, False, False, False, False,\n",
       "       False, False, False, False, False,  True, False, False, False,\n",
       "       False, False, False, False, False, False, False, False, False,\n",
       "        True, False, False, False, False,  True, False, False, False,\n",
       "        True, False,  True,  True,  True, False,  True,  True, False,\n",
       "       False, False, False, False, False, False, False, False, False,\n",
       "       False,  True, False, False,  True, False, False, False, False,\n",
       "        True, False,  True,  True,  True,  True,  True, False, False,\n",
       "       False, False, False, False, False, False, False,  True, False,\n",
       "        True, False])"
      ]
     },
     "execution_count": 21,
     "metadata": {},
     "output_type": "execute_result"
    }
   ],
   "source": [
    "# False = 가중치 0\n",
    "# True = 가중치가 0이 아님\n",
    "lasso_model.coef_!=0"
   ]
  },
  {
   "cell_type": "code",
   "execution_count": 22,
   "metadata": {},
   "outputs": [
    {
     "data": {
      "text/plain": [
       "29"
      ]
     },
     "execution_count": 22,
     "metadata": {},
     "output_type": "execute_result"
    }
   ],
   "source": [
    "# True의 갯수를 세줌\n",
    "np.sum(lasso_model.coef_!=0)"
   ]
  },
  {
   "cell_type": "code",
   "execution_count": 23,
   "metadata": {
    "collapsed": true
   },
   "outputs": [
    {
     "name": "stdout",
     "output_type": "stream",
     "text": [
      "train score :  0.9991092260813365\n",
      "test score :  -1.9471985042689397\n",
      "사용한 특성의 개수 :  172\n"
     ]
    },
    {
     "name": "stderr",
     "output_type": "stream",
     "text": [
      "C:\\Users\\smhrd\\Anaconda3\\lib\\site-packages\\sklearn\\linear_model\\_coordinate_descent.py:529: ConvergenceWarning: Objective did not converge. You might want to increase the number of iterations. Duality gap: 4.434162208858101, tolerance: 0.5129393800000001\n",
      "  model = cd_fast.enet_coordinate_descent(\n"
     ]
    }
   ],
   "source": [
    "lasso_model = Lasso(alpha = 0.001)\n",
    "lasso_model.fit(X_train,y_train)\n",
    "print('train score : ', lasso_model.score(X_train,y_train))\n",
    "print('test score : ', lasso_model.score(X_test,y_test))\n",
    "print('사용한 특성의 개수 : ',np.sum(lasso_model.coef_!=0))"
   ]
  },
  {
   "cell_type": "code",
   "execution_count": 24,
   "metadata": {
    "collapsed": true
   },
   "outputs": [
    {
     "name": "stdout",
     "output_type": "stream",
     "text": [
      "train score :  0.9988221244752802\n",
      "test score :  -0.3487775553097281\n",
      "사용한 특성의 개수 :  152\n"
     ]
    },
    {
     "name": "stderr",
     "output_type": "stream",
     "text": [
      "C:\\Users\\smhrd\\Anaconda3\\lib\\site-packages\\sklearn\\linear_model\\_coordinate_descent.py:529: ConvergenceWarning: Objective did not converge. You might want to increase the number of iterations. Duality gap: 12.583891750643424, tolerance: 0.5129393800000001\n",
      "  model = cd_fast.enet_coordinate_descent(\n"
     ]
    }
   ],
   "source": [
    "lasso_model = Lasso(alpha = 0.01)\n",
    "lasso_model.fit(X_train,y_train)\n",
    "print('train score : ', lasso_model.score(X_train,y_train))\n",
    "print('test score : ', lasso_model.score(X_test,y_test))\n",
    "print('사용한 특성의 개수 : ',np.sum(lasso_model.coef_!=0))"
   ]
  },
  {
   "cell_type": "markdown",
   "metadata": {},
   "source": [
    "# Ridge"
   ]
  },
  {
   "cell_type": "code",
   "execution_count": 25,
   "metadata": {},
   "outputs": [],
   "source": [
    "from sklearn.linear_model import Ridge"
   ]
  },
  {
   "cell_type": "code",
   "execution_count": 26,
   "metadata": {},
   "outputs": [
    {
     "name": "stdout",
     "output_type": "stream",
     "text": [
      "train score :  0.999999999999477\n",
      "test score :  -25.303321168160505\n",
      "사용한 특성의 개수 :  180\n"
     ]
    }
   ],
   "source": [
    "ridge_model = Ridge(alpha = 0.001)\n",
    "ridge_model.fit(X_train,y_train)\n",
    "print('train score : ', ridge_model.score(X_train,y_train))\n",
    "print('test score : ', ridge_model.score(X_test,y_test))\n",
    "print('사용한 특성의 개수 : ',np.sum(ridge_model.coef_!=0))"
   ]
  },
  {
   "cell_type": "code",
   "execution_count": 27,
   "metadata": {},
   "outputs": [
    {
     "name": "stdout",
     "output_type": "stream",
     "text": [
      "train score :  0.9999999999487057\n",
      "test score :  -25.299658444884415\n",
      "사용한 특성의 개수 :  180\n"
     ]
    }
   ],
   "source": [
    "ridge_model = Ridge(alpha = 0.01)\n",
    "ridge_model.fit(X_train,y_train)\n",
    "print('train score : ', ridge_model.score(X_train,y_train))\n",
    "print('test score : ', ridge_model.score(X_test,y_test))\n",
    "print('사용한 특성의 개수 : ',np.sum(ridge_model.coef_!=0))"
   ]
  },
  {
   "cell_type": "code",
   "execution_count": 29,
   "metadata": {},
   "outputs": [
    {
     "name": "stdout",
     "output_type": "stream",
     "text": [
      "train score :  0.9999956903237941\n",
      "test score :  -24.13651379861687\n",
      "사용한 특성의 개수 :  180\n"
     ]
    }
   ],
   "source": [
    "ridge_model = Ridge(alpha = 3)\n",
    "ridge_model.fit(X_train,y_train)\n",
    "print('train score : ', ridge_model.score(X_train,y_train))\n",
    "print('test score : ', ridge_model.score(X_test,y_test))\n",
    "print('사용한 특성의 개수 : ',np.sum(ridge_model.coef_!=0))"
   ]
  }
 ],
 "metadata": {
  "kernelspec": {
   "display_name": "Python 3",
   "language": "python",
   "name": "python3"
  },
  "language_info": {
   "codemirror_mode": {
    "name": "ipython",
    "version": 3
   },
   "file_extension": ".py",
   "mimetype": "text/x-python",
   "name": "python",
   "nbconvert_exporter": "python",
   "pygments_lexer": "ipython3",
   "version": "3.8.5"
  },
  "toc": {
   "base_numbering": 1,
   "nav_menu": {},
   "number_sections": true,
   "sideBar": true,
   "skip_h1_title": false,
   "title_cell": "Table of Contents",
   "title_sidebar": "Contents",
   "toc_cell": false,
   "toc_position": {},
   "toc_section_display": true,
   "toc_window_display": false
  }
 },
 "nbformat": 4,
 "nbformat_minor": 4
}
